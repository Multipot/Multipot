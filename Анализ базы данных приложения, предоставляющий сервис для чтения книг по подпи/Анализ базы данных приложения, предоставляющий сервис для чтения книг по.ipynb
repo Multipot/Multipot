{
  "cells": [
    {
      "cell_type": "markdown",
      "metadata": {
        "id": "QBEFYXIUZg3h"
      },
      "source": [
        "<h1>Анализ базы данных приложения, предоставляющий сервис для чтения книг по подписке."
      ]
    },
    {
      "cell_type": "markdown",
      "metadata": {
        "id": "zUygX9W7Zg3j"
      },
      "source": [
        "<big><strong>Описание проекта"
      ]
    },
    {
      "cell_type": "markdown",
      "metadata": {
        "id": "sJIZaUVEZg3l"
      },
      "source": [
        "Нам необходимо проанализировать базу данных сервиса для чтения книг по подписке. В ней — информация о книгах, издательствах, авторах, а также пользовательские обзоры книг.\n",
        "\n",
        "Цель исследования: анализ базы данных с целью сформулировать предложение для нового продукта"
      ]
    },
    {
      "cell_type": "markdown",
      "metadata": {
        "id": "S2xJvmaiZg3o"
      },
      "source": [
        "# ОГЛАВЛЕНИЕ"
      ]
    },
    {
      "cell_type": "markdown",
      "metadata": {
        "id": "2XknqGKtZg3p"
      },
      "source": [
        "<a href=#1>Обзор данных.</a>\n",
        "\n",
        "<a href=#2>Анализ данных.</a>\n",
        "- <a href=#2.1>Сколько книг вышло после 1 января 2000 года.</a>\n",
        "- <a href=#2.2>Количество обзоров и средняя оценка книг.</a>\n",
        "- <a href=#2.3>Издательство, выпустившее наибольшее число книг.</a>\n",
        "- <a href=#2.4>Автор с самой высокой средней оценкой книг.</a>\n",
        "- <a href=#2.5>Среднее количество обзоров от пользователей, поставивших более 50 оценок.</a>\n",
        "\n",
        "<a href=#3>Выводы.</a>\n",
        "\n"
      ]
    },
    {
      "cell_type": "code",
      "execution_count": null,
      "metadata": {
        "id": "Jl3YF6qFZg3s"
      },
      "outputs": [],
      "source": [
        "# импортируем библиотеки\n",
        "import pandas as pd\n",
        "from sqlalchemy import create_engine"
      ]
    },
    {
      "cell_type": "markdown",
      "metadata": {
        "id": "GqVG7MrkZg3v"
      },
      "source": [
        "# <a name=1>Обзор данных.</a>"
      ]
    },
    {
      "cell_type": "code",
      "execution_count": null,
      "metadata": {
        "id": "YlAnbciXZg3w"
      },
      "outputs": [],
      "source": [
        "# устанавливаем параметры\n",
        "db_config = {'user': 'praktikum_student', # имя пользователя\n",
        "             'pwd': 'Sdf4$2;d-d30pp', # пароль\n",
        "             'host': 'rc1b-wcoijxj3yxfsf3fs.mdb.yandexcloud.net',\n",
        "             'port': 6432, # порт подключения\n",
        "             'db': 'data-analyst-final-project-db'} # название базы данных"
      ]
    },
    {
      "cell_type": "code",
      "execution_count": null,
      "metadata": {
        "id": "ePVoK3xIZg30"
      },
      "outputs": [],
      "source": [
        "connection_string = 'postgresql://{}:{}@{}:{}/{}'.format(db_config['user'],\n",
        "                                                         db_config['pwd'],\n",
        "                                                         db_config['host'],\n",
        "                                                         db_config['port'],\n",
        "                                                         db_config['db'])"
      ]
    },
    {
      "cell_type": "code",
      "execution_count": null,
      "metadata": {
        "id": "bKa1FkApZg31"
      },
      "outputs": [],
      "source": [
        "# сохраняем коннектор\n",
        "engine = create_engine(connection_string, connect_args={'sslmode':'require'})"
      ]
    },
    {
      "cell_type": "code",
      "execution_count": null,
      "metadata": {
        "id": "eLbczbWCZg33"
      },
      "outputs": [],
      "source": [
        "# напишем функцию, выполняющую запрос на просмотр первых строк таблицы\n",
        "def view(table_name):\n",
        "    query = f\"\"\"\n",
        "                SELECT * FROM {table_name}\n",
        "                LIMIT 5\n",
        "             \"\"\"\n",
        "    table = pd.io.sql.read_sql(query, con = engine)\n",
        "    return table"
      ]
    },
    {
      "cell_type": "markdown",
      "metadata": {
        "id": "Jk74Lhk8Zg34"
      },
      "source": [
        "<i>**Книги**"
      ]
    },
    {
      "cell_type": "code",
      "execution_count": null,
      "metadata": {
        "id": "9OXxlZLkZg34",
        "outputId": "569b7bae-b129-4c87-d086-c6b2341c18c9"
      },
      "outputs": [
        {
          "data": {
            "text/html": [
              "<div>\n",
              "<style scoped>\n",
              "    .dataframe tbody tr th:only-of-type {\n",
              "        vertical-align: middle;\n",
              "    }\n",
              "\n",
              "    .dataframe tbody tr th {\n",
              "        vertical-align: top;\n",
              "    }\n",
              "\n",
              "    .dataframe thead th {\n",
              "        text-align: right;\n",
              "    }\n",
              "</style>\n",
              "<table border=\"1\" class=\"dataframe\">\n",
              "  <thead>\n",
              "    <tr style=\"text-align: right;\">\n",
              "      <th></th>\n",
              "      <th>book_id</th>\n",
              "      <th>author_id</th>\n",
              "      <th>title</th>\n",
              "      <th>num_pages</th>\n",
              "      <th>publication_date</th>\n",
              "      <th>publisher_id</th>\n",
              "    </tr>\n",
              "  </thead>\n",
              "  <tbody>\n",
              "    <tr>\n",
              "      <th>0</th>\n",
              "      <td>1</td>\n",
              "      <td>546</td>\n",
              "      <td>'Salem's Lot</td>\n",
              "      <td>594</td>\n",
              "      <td>2005-11-01</td>\n",
              "      <td>93</td>\n",
              "    </tr>\n",
              "    <tr>\n",
              "      <th>1</th>\n",
              "      <td>2</td>\n",
              "      <td>465</td>\n",
              "      <td>1 000 Places to See Before You Die</td>\n",
              "      <td>992</td>\n",
              "      <td>2003-05-22</td>\n",
              "      <td>336</td>\n",
              "    </tr>\n",
              "    <tr>\n",
              "      <th>2</th>\n",
              "      <td>3</td>\n",
              "      <td>407</td>\n",
              "      <td>13 Little Blue Envelopes (Little Blue Envelope...</td>\n",
              "      <td>322</td>\n",
              "      <td>2010-12-21</td>\n",
              "      <td>135</td>\n",
              "    </tr>\n",
              "    <tr>\n",
              "      <th>3</th>\n",
              "      <td>4</td>\n",
              "      <td>82</td>\n",
              "      <td>1491: New Revelations of the Americas Before C...</td>\n",
              "      <td>541</td>\n",
              "      <td>2006-10-10</td>\n",
              "      <td>309</td>\n",
              "    </tr>\n",
              "    <tr>\n",
              "      <th>4</th>\n",
              "      <td>5</td>\n",
              "      <td>125</td>\n",
              "      <td>1776</td>\n",
              "      <td>386</td>\n",
              "      <td>2006-07-04</td>\n",
              "      <td>268</td>\n",
              "    </tr>\n",
              "  </tbody>\n",
              "</table>\n",
              "</div>"
            ],
            "text/plain": [
              "   book_id  author_id                                              title  \\\n",
              "0        1        546                                       'Salem's Lot   \n",
              "1        2        465                 1 000 Places to See Before You Die   \n",
              "2        3        407  13 Little Blue Envelopes (Little Blue Envelope...   \n",
              "3        4         82  1491: New Revelations of the Americas Before C...   \n",
              "4        5        125                                               1776   \n",
              "\n",
              "   num_pages publication_date  publisher_id  \n",
              "0        594       2005-11-01            93  \n",
              "1        992       2003-05-22           336  \n",
              "2        322       2010-12-21           135  \n",
              "3        541       2006-10-10           309  \n",
              "4        386       2006-07-04           268  "
            ]
          },
          "execution_count": 7,
          "metadata": {},
          "output_type": "execute_result"
        }
      ],
      "source": [
        "view('books')"
      ]
    },
    {
      "cell_type": "markdown",
      "metadata": {
        "id": "ocPupQH-Zg35"
      },
      "source": [
        "Таблица содержит следующие столбцы:\n",
        "- book_id ;\n",
        "- author_id ;\n",
        "- title ;\n",
        "- num_pages ;\n",
        "- publication_date ;\n",
        "- publisher_id ."
      ]
    },
    {
      "cell_type": "markdown",
      "metadata": {
        "id": "uFKFxLjmZg35"
      },
      "source": [
        "<i>**Авторы**"
      ]
    },
    {
      "cell_type": "code",
      "execution_count": null,
      "metadata": {
        "id": "40wgQK_oZg36",
        "outputId": "1332d250-b93f-4819-e6dd-c7dc73b4f13e"
      },
      "outputs": [
        {
          "data": {
            "text/html": [
              "<div>\n",
              "<style scoped>\n",
              "    .dataframe tbody tr th:only-of-type {\n",
              "        vertical-align: middle;\n",
              "    }\n",
              "\n",
              "    .dataframe tbody tr th {\n",
              "        vertical-align: top;\n",
              "    }\n",
              "\n",
              "    .dataframe thead th {\n",
              "        text-align: right;\n",
              "    }\n",
              "</style>\n",
              "<table border=\"1\" class=\"dataframe\">\n",
              "  <thead>\n",
              "    <tr style=\"text-align: right;\">\n",
              "      <th></th>\n",
              "      <th>author_id</th>\n",
              "      <th>author</th>\n",
              "    </tr>\n",
              "  </thead>\n",
              "  <tbody>\n",
              "    <tr>\n",
              "      <th>0</th>\n",
              "      <td>1</td>\n",
              "      <td>A.S. Byatt</td>\n",
              "    </tr>\n",
              "    <tr>\n",
              "      <th>1</th>\n",
              "      <td>2</td>\n",
              "      <td>Aesop/Laura Harris/Laura Gibbs</td>\n",
              "    </tr>\n",
              "    <tr>\n",
              "      <th>2</th>\n",
              "      <td>3</td>\n",
              "      <td>Agatha Christie</td>\n",
              "    </tr>\n",
              "    <tr>\n",
              "      <th>3</th>\n",
              "      <td>4</td>\n",
              "      <td>Alan Brennert</td>\n",
              "    </tr>\n",
              "    <tr>\n",
              "      <th>4</th>\n",
              "      <td>5</td>\n",
              "      <td>Alan Moore/David   Lloyd</td>\n",
              "    </tr>\n",
              "  </tbody>\n",
              "</table>\n",
              "</div>"
            ],
            "text/plain": [
              "   author_id                          author\n",
              "0          1                      A.S. Byatt\n",
              "1          2  Aesop/Laura Harris/Laura Gibbs\n",
              "2          3                 Agatha Christie\n",
              "3          4                   Alan Brennert\n",
              "4          5        Alan Moore/David   Lloyd"
            ]
          },
          "execution_count": 8,
          "metadata": {},
          "output_type": "execute_result"
        }
      ],
      "source": [
        "view('authors')"
      ]
    },
    {
      "cell_type": "markdown",
      "metadata": {
        "id": "qdu3chhnZg38"
      },
      "source": [
        "Таблица содержит столбцы:\n",
        "- author_id ;\n",
        "- author ."
      ]
    },
    {
      "cell_type": "markdown",
      "metadata": {
        "id": "-Zsbh0t4Zg38"
      },
      "source": [
        "<i>**Издательства**"
      ]
    },
    {
      "cell_type": "code",
      "execution_count": null,
      "metadata": {
        "id": "gjXuc6CeZg38",
        "outputId": "c8360dde-d4a4-4011-8c4c-9e5e41c4b786"
      },
      "outputs": [
        {
          "data": {
            "text/html": [
              "<div>\n",
              "<style scoped>\n",
              "    .dataframe tbody tr th:only-of-type {\n",
              "        vertical-align: middle;\n",
              "    }\n",
              "\n",
              "    .dataframe tbody tr th {\n",
              "        vertical-align: top;\n",
              "    }\n",
              "\n",
              "    .dataframe thead th {\n",
              "        text-align: right;\n",
              "    }\n",
              "</style>\n",
              "<table border=\"1\" class=\"dataframe\">\n",
              "  <thead>\n",
              "    <tr style=\"text-align: right;\">\n",
              "      <th></th>\n",
              "      <th>publisher_id</th>\n",
              "      <th>publisher</th>\n",
              "    </tr>\n",
              "  </thead>\n",
              "  <tbody>\n",
              "    <tr>\n",
              "      <th>0</th>\n",
              "      <td>1</td>\n",
              "      <td>Ace</td>\n",
              "    </tr>\n",
              "    <tr>\n",
              "      <th>1</th>\n",
              "      <td>2</td>\n",
              "      <td>Ace Book</td>\n",
              "    </tr>\n",
              "    <tr>\n",
              "      <th>2</th>\n",
              "      <td>3</td>\n",
              "      <td>Ace Books</td>\n",
              "    </tr>\n",
              "    <tr>\n",
              "      <th>3</th>\n",
              "      <td>4</td>\n",
              "      <td>Ace Hardcover</td>\n",
              "    </tr>\n",
              "    <tr>\n",
              "      <th>4</th>\n",
              "      <td>5</td>\n",
              "      <td>Addison Wesley Publishing Company</td>\n",
              "    </tr>\n",
              "  </tbody>\n",
              "</table>\n",
              "</div>"
            ],
            "text/plain": [
              "   publisher_id                          publisher\n",
              "0             1                                Ace\n",
              "1             2                           Ace Book\n",
              "2             3                          Ace Books\n",
              "3             4                      Ace Hardcover\n",
              "4             5  Addison Wesley Publishing Company"
            ]
          },
          "execution_count": 9,
          "metadata": {},
          "output_type": "execute_result"
        }
      ],
      "source": [
        "view('publishers')"
      ]
    },
    {
      "cell_type": "markdown",
      "metadata": {
        "id": "tXTBakc6Zg39"
      },
      "source": [
        "Таблица содержит столбцы:\n",
        "- publisher_id ;\n",
        "- publisher ;"
      ]
    },
    {
      "cell_type": "markdown",
      "metadata": {
        "id": "oD32A31vZg3-"
      },
      "source": [
        "<i>**Пользовательские оценки книг**"
      ]
    },
    {
      "cell_type": "code",
      "execution_count": null,
      "metadata": {
        "id": "mFyJeps0Zg3-",
        "outputId": "4fb31ff7-fce0-4c9c-8d11-37e47c1fb675"
      },
      "outputs": [
        {
          "data": {
            "text/html": [
              "<div>\n",
              "<style scoped>\n",
              "    .dataframe tbody tr th:only-of-type {\n",
              "        vertical-align: middle;\n",
              "    }\n",
              "\n",
              "    .dataframe tbody tr th {\n",
              "        vertical-align: top;\n",
              "    }\n",
              "\n",
              "    .dataframe thead th {\n",
              "        text-align: right;\n",
              "    }\n",
              "</style>\n",
              "<table border=\"1\" class=\"dataframe\">\n",
              "  <thead>\n",
              "    <tr style=\"text-align: right;\">\n",
              "      <th></th>\n",
              "      <th>rating_id</th>\n",
              "      <th>book_id</th>\n",
              "      <th>username</th>\n",
              "      <th>rating</th>\n",
              "    </tr>\n",
              "  </thead>\n",
              "  <tbody>\n",
              "    <tr>\n",
              "      <th>0</th>\n",
              "      <td>1</td>\n",
              "      <td>1</td>\n",
              "      <td>ryanfranco</td>\n",
              "      <td>4</td>\n",
              "    </tr>\n",
              "    <tr>\n",
              "      <th>1</th>\n",
              "      <td>2</td>\n",
              "      <td>1</td>\n",
              "      <td>grantpatricia</td>\n",
              "      <td>2</td>\n",
              "    </tr>\n",
              "    <tr>\n",
              "      <th>2</th>\n",
              "      <td>3</td>\n",
              "      <td>1</td>\n",
              "      <td>brandtandrea</td>\n",
              "      <td>5</td>\n",
              "    </tr>\n",
              "    <tr>\n",
              "      <th>3</th>\n",
              "      <td>4</td>\n",
              "      <td>2</td>\n",
              "      <td>lorichen</td>\n",
              "      <td>3</td>\n",
              "    </tr>\n",
              "    <tr>\n",
              "      <th>4</th>\n",
              "      <td>5</td>\n",
              "      <td>2</td>\n",
              "      <td>mariokeller</td>\n",
              "      <td>2</td>\n",
              "    </tr>\n",
              "  </tbody>\n",
              "</table>\n",
              "</div>"
            ],
            "text/plain": [
              "   rating_id  book_id       username  rating\n",
              "0          1        1     ryanfranco       4\n",
              "1          2        1  grantpatricia       2\n",
              "2          3        1   brandtandrea       5\n",
              "3          4        2       lorichen       3\n",
              "4          5        2    mariokeller       2"
            ]
          },
          "execution_count": 10,
          "metadata": {},
          "output_type": "execute_result"
        }
      ],
      "source": [
        "view('ratings')"
      ]
    },
    {
      "cell_type": "markdown",
      "metadata": {
        "id": "F1VsVHgJZg3_"
      },
      "source": [
        "Таблица содержит столбцы:\n",
        "- rating_id ;\n",
        "- book_id ;\n",
        "- username ;\n",
        "- rating ."
      ]
    },
    {
      "cell_type": "markdown",
      "metadata": {
        "id": "Kr9--qBSZg4A"
      },
      "source": [
        "<i>**Пользовательские обзоры**"
      ]
    },
    {
      "cell_type": "code",
      "execution_count": null,
      "metadata": {
        "id": "0c2BLZt1Zg4A",
        "outputId": "259a6cb5-9c32-4980-9151-2e97bc116c5c"
      },
      "outputs": [
        {
          "data": {
            "text/html": [
              "<div>\n",
              "<style scoped>\n",
              "    .dataframe tbody tr th:only-of-type {\n",
              "        vertical-align: middle;\n",
              "    }\n",
              "\n",
              "    .dataframe tbody tr th {\n",
              "        vertical-align: top;\n",
              "    }\n",
              "\n",
              "    .dataframe thead th {\n",
              "        text-align: right;\n",
              "    }\n",
              "</style>\n",
              "<table border=\"1\" class=\"dataframe\">\n",
              "  <thead>\n",
              "    <tr style=\"text-align: right;\">\n",
              "      <th></th>\n",
              "      <th>review_id</th>\n",
              "      <th>book_id</th>\n",
              "      <th>username</th>\n",
              "      <th>text</th>\n",
              "    </tr>\n",
              "  </thead>\n",
              "  <tbody>\n",
              "    <tr>\n",
              "      <th>0</th>\n",
              "      <td>1</td>\n",
              "      <td>1</td>\n",
              "      <td>brandtandrea</td>\n",
              "      <td>Mention society tell send professor analysis. ...</td>\n",
              "    </tr>\n",
              "    <tr>\n",
              "      <th>1</th>\n",
              "      <td>2</td>\n",
              "      <td>1</td>\n",
              "      <td>ryanfranco</td>\n",
              "      <td>Foot glass pretty audience hit themselves. Amo...</td>\n",
              "    </tr>\n",
              "    <tr>\n",
              "      <th>2</th>\n",
              "      <td>3</td>\n",
              "      <td>2</td>\n",
              "      <td>lorichen</td>\n",
              "      <td>Listen treat keep worry. Miss husband tax but ...</td>\n",
              "    </tr>\n",
              "    <tr>\n",
              "      <th>3</th>\n",
              "      <td>4</td>\n",
              "      <td>3</td>\n",
              "      <td>johnsonamanda</td>\n",
              "      <td>Finally month interesting blue could nature cu...</td>\n",
              "    </tr>\n",
              "    <tr>\n",
              "      <th>4</th>\n",
              "      <td>5</td>\n",
              "      <td>3</td>\n",
              "      <td>scotttamara</td>\n",
              "      <td>Nation purpose heavy give wait song will. List...</td>\n",
              "    </tr>\n",
              "  </tbody>\n",
              "</table>\n",
              "</div>"
            ],
            "text/plain": [
              "   review_id  book_id       username  \\\n",
              "0          1        1   brandtandrea   \n",
              "1          2        1     ryanfranco   \n",
              "2          3        2       lorichen   \n",
              "3          4        3  johnsonamanda   \n",
              "4          5        3    scotttamara   \n",
              "\n",
              "                                                text  \n",
              "0  Mention society tell send professor analysis. ...  \n",
              "1  Foot glass pretty audience hit themselves. Amo...  \n",
              "2  Listen treat keep worry. Miss husband tax but ...  \n",
              "3  Finally month interesting blue could nature cu...  \n",
              "4  Nation purpose heavy give wait song will. List...  "
            ]
          },
          "execution_count": 11,
          "metadata": {},
          "output_type": "execute_result"
        }
      ],
      "source": [
        "view('reviews')"
      ]
    },
    {
      "cell_type": "markdown",
      "metadata": {
        "id": "VaOAzTKHZg4B"
      },
      "source": [
        "Таблица содержит столбцы:\n",
        "- review_id — идентификатор обзора;\n",
        "- book_id — идентификатор книги;\n",
        "- username — имя автора обзора;\n",
        "- text — текст обзора."
      ]
    },
    {
      "cell_type": "markdown",
      "metadata": {
        "id": "JcSVLNUEZg4C"
      },
      "source": [
        "# <a name=2>Анализ данных.</a>"
      ]
    },
    {
      "cell_type": "markdown",
      "metadata": {
        "id": "4A-PrUFYZg4C"
      },
      "source": [
        "## <a name=2.1>Сколько книг вышло после 1 января 2000 года.</a>"
      ]
    },
    {
      "cell_type": "code",
      "execution_count": null,
      "metadata": {
        "id": "2I5KUEU5Zg4D"
      },
      "outputs": [],
      "source": [
        "# Напишем функцию, выполняющую заданный запрос\n",
        "def get_query(query):\n",
        "    result = pd.io.sql.read_sql(query, con = engine)\n",
        "    return result"
      ]
    },
    {
      "cell_type": "code",
      "source": [],
      "metadata": {
        "id": "3N2PX1SBhb4V"
      },
      "execution_count": null,
      "outputs": []
    },
    {
      "cell_type": "code",
      "execution_count": null,
      "metadata": {
        "id": "f9ir-E_1Zg4D",
        "outputId": "07b12963-520c-4442-a700-822325548854"
      },
      "outputs": [
        {
          "data": {
            "text/html": [
              "<div>\n",
              "<style scoped>\n",
              "    .dataframe tbody tr th:only-of-type {\n",
              "        vertical-align: middle;\n",
              "    }\n",
              "\n",
              "    .dataframe tbody tr th {\n",
              "        vertical-align: top;\n",
              "    }\n",
              "\n",
              "    .dataframe thead th {\n",
              "        text-align: right;\n",
              "    }\n",
              "</style>\n",
              "<table border=\"1\" class=\"dataframe\">\n",
              "  <thead>\n",
              "    <tr style=\"text-align: right;\">\n",
              "      <th></th>\n",
              "      <th>books_count</th>\n",
              "    </tr>\n",
              "  </thead>\n",
              "  <tbody>\n",
              "    <tr>\n",
              "      <th>0</th>\n",
              "      <td>821</td>\n",
              "    </tr>\n",
              "  </tbody>\n",
              "</table>\n",
              "</div>"
            ],
            "text/plain": [
              "   books_count\n",
              "0          821"
            ]
          },
          "execution_count": 13,
          "metadata": {},
          "output_type": "execute_result"
        }
      ],
      "source": [
        "get_query(\"\"\"\n",
        "            SELECT COUNT(book_id) AS books_count\n",
        "            FROM books\n",
        "            WHERE publication_date >= '2000-01-01'\n",
        "          \"\"\")"
      ]
    },
    {
      "cell_type": "markdown",
      "metadata": {
        "id": "yoBCISAtZg4E"
      },
      "source": [
        "Мы получили количество книг, вышедших на сервисе после 1 января 2000 года - 821."
      ]
    },
    {
      "cell_type": "markdown",
      "metadata": {
        "id": "FKlF877WZg4F"
      },
      "source": [
        "## <a name=2.2>Количество обзоров и средняя оценка книг.</a>"
      ]
    },
    {
      "cell_type": "code",
      "execution_count": null,
      "metadata": {
        "id": "kT1ufBwkZg4F",
        "outputId": "8d89b2af-a483-4f30-9836-664e4fbb0b29"
      },
      "outputs": [
        {
          "data": {
            "text/html": [
              "<div>\n",
              "<style scoped>\n",
              "    .dataframe tbody tr th:only-of-type {\n",
              "        vertical-align: middle;\n",
              "    }\n",
              "\n",
              "    .dataframe tbody tr th {\n",
              "        vertical-align: top;\n",
              "    }\n",
              "\n",
              "    .dataframe thead th {\n",
              "        text-align: right;\n",
              "    }\n",
              "</style>\n",
              "<table border=\"1\" class=\"dataframe\">\n",
              "  <thead>\n",
              "    <tr style=\"text-align: right;\">\n",
              "      <th></th>\n",
              "      <th>title</th>\n",
              "      <th>n_reviews</th>\n",
              "      <th>avg_rating</th>\n",
              "    </tr>\n",
              "  </thead>\n",
              "  <tbody>\n",
              "    <tr>\n",
              "      <th>0</th>\n",
              "      <td>Twilight (Twilight  #1)</td>\n",
              "      <td>7</td>\n",
              "      <td>3.66</td>\n",
              "    </tr>\n",
              "    <tr>\n",
              "      <th>1</th>\n",
              "      <td>Harry Potter and the Prisoner of Azkaban (Harr...</td>\n",
              "      <td>6</td>\n",
              "      <td>4.41</td>\n",
              "    </tr>\n",
              "    <tr>\n",
              "      <th>2</th>\n",
              "      <td>Harry Potter and the Chamber of Secrets (Harry...</td>\n",
              "      <td>6</td>\n",
              "      <td>4.29</td>\n",
              "    </tr>\n",
              "    <tr>\n",
              "      <th>3</th>\n",
              "      <td>The Book Thief</td>\n",
              "      <td>6</td>\n",
              "      <td>4.26</td>\n",
              "    </tr>\n",
              "    <tr>\n",
              "      <th>4</th>\n",
              "      <td>The Glass Castle</td>\n",
              "      <td>6</td>\n",
              "      <td>4.21</td>\n",
              "    </tr>\n",
              "    <tr>\n",
              "      <th>...</th>\n",
              "      <td>...</td>\n",
              "      <td>...</td>\n",
              "      <td>...</td>\n",
              "    </tr>\n",
              "    <tr>\n",
              "      <th>995</th>\n",
              "      <td>Disney's Beauty and the Beast (A Little Golden...</td>\n",
              "      <td>0</td>\n",
              "      <td>4.00</td>\n",
              "    </tr>\n",
              "    <tr>\n",
              "      <th>996</th>\n",
              "      <td>Leonardo's Notebooks</td>\n",
              "      <td>0</td>\n",
              "      <td>4.00</td>\n",
              "    </tr>\n",
              "    <tr>\n",
              "      <th>997</th>\n",
              "      <td>Essential Tales and Poems</td>\n",
              "      <td>0</td>\n",
              "      <td>4.00</td>\n",
              "    </tr>\n",
              "    <tr>\n",
              "      <th>998</th>\n",
              "      <td>Anne Rice's The Vampire Lestat: A Graphic Novel</td>\n",
              "      <td>0</td>\n",
              "      <td>3.67</td>\n",
              "    </tr>\n",
              "    <tr>\n",
              "      <th>999</th>\n",
              "      <td>The Natural Way to Draw</td>\n",
              "      <td>0</td>\n",
              "      <td>3.00</td>\n",
              "    </tr>\n",
              "  </tbody>\n",
              "</table>\n",
              "<p>1000 rows × 3 columns</p>\n",
              "</div>"
            ],
            "text/plain": [
              "                                                 title  n_reviews  avg_rating\n",
              "0                              Twilight (Twilight  #1)          7        3.66\n",
              "1    Harry Potter and the Prisoner of Azkaban (Harr...          6        4.41\n",
              "2    Harry Potter and the Chamber of Secrets (Harry...          6        4.29\n",
              "3                                       The Book Thief          6        4.26\n",
              "4                                     The Glass Castle          6        4.21\n",
              "..                                                 ...        ...         ...\n",
              "995  Disney's Beauty and the Beast (A Little Golden...          0        4.00\n",
              "996                               Leonardo's Notebooks          0        4.00\n",
              "997                          Essential Tales and Poems          0        4.00\n",
              "998    Anne Rice's The Vampire Lestat: A Graphic Novel          0        3.67\n",
              "999                            The Natural Way to Draw          0        3.00\n",
              "\n",
              "[1000 rows x 3 columns]"
            ]
          },
          "execution_count": 14,
          "metadata": {},
          "output_type": "execute_result"
        }
      ],
      "source": [
        "get_query(\"\"\"\n",
        "              SELECT title, COUNT(DISTINCT review_id) as n_reviews, ROUND(AVG(rating), 2) as avg_rating\n",
        "              FROM books\n",
        "              LEFT JOIN reviews\n",
        "                  ON reviews.book_id = books.book_id\n",
        "              LEFT JOIN ratings\n",
        "                  ON ratings.book_id = books.book_id\n",
        "              GROUP BY books.book_id\n",
        "              ORDER BY n_reviews DESC,\n",
        "                       avg_rating DESC\n",
        "          \"\"\")"
      ]
    },
    {
      "cell_type": "markdown",
      "metadata": {
        "id": "D-vpFMtrZg4G"
      },
      "source": [
        "Мы получили таблицу, содержащую информацию о количестве обзоров и среднем рейтинге всех книг на сервисе. Больше всего обзоров на книгу \"Twilight\" (\"Сумерки\", 1 книга из серии) - 7 обзоров, однако у нее не самый высокий рейтинг - всего 3,66. Далее идут 3 и 2 книги из серии \"Гарри Поттер\" - по 6 обзоров, средний рейтинг - 4,41 и 4,29 соответственно. На последнем месте книга \"The Natural Way to Draw\" - на нее не опубликовано ни одного обзора, а ее средний рейтинг 3,0."
      ]
    },
    {
      "cell_type": "markdown",
      "metadata": {
        "id": "id8Zi8jYZg4H"
      },
      "source": [
        "## <a name=2.3>Издательство, выпустившее наибольшее число книг.</a>"
      ]
    },
    {
      "cell_type": "markdown",
      "metadata": {
        "id": "L-t01C7hZg4H"
      },
      "source": [
        "Рассматриваем издательства, выпустившие наибольшее количество книг толщиной более 50 страниц, чтобы исключить брошюры"
      ]
    },
    {
      "cell_type": "code",
      "execution_count": null,
      "metadata": {
        "id": "dtyUFyAZZg4I",
        "outputId": "ab6bcb8f-f8dc-4ee1-e324-486a9fc67be0"
      },
      "outputs": [
        {
          "data": {
            "text/html": [
              "<div>\n",
              "<style scoped>\n",
              "    .dataframe tbody tr th:only-of-type {\n",
              "        vertical-align: middle;\n",
              "    }\n",
              "\n",
              "    .dataframe tbody tr th {\n",
              "        vertical-align: top;\n",
              "    }\n",
              "\n",
              "    .dataframe thead th {\n",
              "        text-align: right;\n",
              "    }\n",
              "</style>\n",
              "<table border=\"1\" class=\"dataframe\">\n",
              "  <thead>\n",
              "    <tr style=\"text-align: right;\">\n",
              "      <th></th>\n",
              "      <th>publisher</th>\n",
              "      <th>books_count</th>\n",
              "    </tr>\n",
              "  </thead>\n",
              "  <tbody>\n",
              "    <tr>\n",
              "      <th>0</th>\n",
              "      <td>Penguin Books</td>\n",
              "      <td>42</td>\n",
              "    </tr>\n",
              "  </tbody>\n",
              "</table>\n",
              "</div>"
            ],
            "text/plain": [
              "       publisher  books_count\n",
              "0  Penguin Books           42"
            ]
          },
          "execution_count": 15,
          "metadata": {},
          "output_type": "execute_result"
        }
      ],
      "source": [
        "get_query(\"\"\"\n",
        "              SELECT publisher, COUNT(book_id) AS books_count\n",
        "              FROM publishers\n",
        "              LEFT JOIN books\n",
        "                  ON books.publisher_id = publishers.publisher_id\n",
        "              WHERE num_pages > 50\n",
        "              GROUP BY publishers.publisher_id\n",
        "              ORDER BY COUNT(book_id) DESC\n",
        "              LIMIT 1\n",
        "          \"\"\")"
      ]
    },
    {
      "cell_type": "markdown",
      "metadata": {
        "id": "4wGmMfSSZg4I"
      },
      "source": [
        "Видим, что издательство, выпустившее наибольшее количество книг толщиной более 50 страниц, называется \"Penguin Books\"."
      ]
    },
    {
      "cell_type": "markdown",
      "metadata": {
        "id": "tU0Ut5P7Zg4J"
      },
      "source": [
        "## <a name=2.4>Автор с самой высокой средней оценкой книг.</a>"
      ]
    },
    {
      "cell_type": "markdown",
      "metadata": {
        "id": "uQaNNjUVZg4J"
      },
      "source": [
        "Будем учитывать только книги с 50 и более оценками"
      ]
    },
    {
      "cell_type": "code",
      "execution_count": null,
      "metadata": {
        "id": "BLFlBNk3Zg4K",
        "outputId": "bd82bec5-8e7b-45fe-e394-ce50206b4cd0"
      },
      "outputs": [
        {
          "data": {
            "text/html": [
              "<div>\n",
              "<style scoped>\n",
              "    .dataframe tbody tr th:only-of-type {\n",
              "        vertical-align: middle;\n",
              "    }\n",
              "\n",
              "    .dataframe tbody tr th {\n",
              "        vertical-align: top;\n",
              "    }\n",
              "\n",
              "    .dataframe thead th {\n",
              "        text-align: right;\n",
              "    }\n",
              "</style>\n",
              "<table border=\"1\" class=\"dataframe\">\n",
              "  <thead>\n",
              "    <tr style=\"text-align: right;\">\n",
              "      <th></th>\n",
              "      <th>author</th>\n",
              "      <th>avg_author_rating</th>\n",
              "    </tr>\n",
              "  </thead>\n",
              "  <tbody>\n",
              "    <tr>\n",
              "      <th>0</th>\n",
              "      <td>J.K. Rowling/Mary GrandPré</td>\n",
              "      <td>4.285</td>\n",
              "    </tr>\n",
              "  </tbody>\n",
              "</table>\n",
              "</div>"
            ],
            "text/plain": [
              "                       author  avg_author_rating\n",
              "0  J.K. Rowling/Mary GrandPré              4.285"
            ]
          },
          "execution_count": 20,
          "metadata": {},
          "output_type": "execute_result"
        }
      ],
      "source": [
        "get_query(\"\"\"\n",
        "              SELECT author, AVG(avg_rating) AS avg_author_rating\n",
        "              FROM (\n",
        "                  SELECT MAX(author) AS author, title, ROUND(AVG(rating), 2) AS avg_rating\n",
        "                  FROM authors\n",
        "                  LEFT JOIN books\n",
        "                      ON authors.author_id = books.author_id\n",
        "                  LEFT JOIN ratings\n",
        "                      ON ratings.book_id = books.book_id\n",
        "                  GROUP BY books.book_id\n",
        "                  HAVING COUNT(DISTINCT rating_id) >= 50\n",
        "              ) AS ar\n",
        "              GROUP BY author\n",
        "              ORDER BY avg_author_rating DESC\n",
        "              LIMIT 1\n",
        "          \"\"\")"
      ]
    },
    {
      "cell_type": "markdown",
      "metadata": {
        "id": "OUxZCBYOZg4K"
      },
      "source": [
        "Дж. К. Роулинг и М. Грандпре. - соавторы, имеющие самую высокую среднюю оценку книг с 50 и более оценками (4,285)"
      ]
    },
    {
      "cell_type": "markdown",
      "metadata": {
        "id": "q8o7CuKmZg4M"
      },
      "source": [
        "## <a name=2.5>Среднее количество обзоров от пользователей, поставивших более 50 оценок.</a>"
      ]
    },
    {
      "cell_type": "code",
      "execution_count": null,
      "metadata": {
        "id": "cr9bZArCZg4N",
        "outputId": "268d07bd-1366-4ebc-8f35-c29b61d88434"
      },
      "outputs": [
        {
          "data": {
            "text/html": [
              "<div>\n",
              "<style scoped>\n",
              "    .dataframe tbody tr th:only-of-type {\n",
              "        vertical-align: middle;\n",
              "    }\n",
              "\n",
              "    .dataframe tbody tr th {\n",
              "        vertical-align: top;\n",
              "    }\n",
              "\n",
              "    .dataframe thead th {\n",
              "        text-align: right;\n",
              "    }\n",
              "</style>\n",
              "<table border=\"1\" class=\"dataframe\">\n",
              "  <thead>\n",
              "    <tr style=\"text-align: right;\">\n",
              "      <th></th>\n",
              "      <th>avg_reviews</th>\n",
              "    </tr>\n",
              "  </thead>\n",
              "  <tbody>\n",
              "    <tr>\n",
              "      <th>0</th>\n",
              "      <td>24.3</td>\n",
              "    </tr>\n",
              "  </tbody>\n",
              "</table>\n",
              "</div>"
            ],
            "text/plain": [
              "   avg_reviews\n",
              "0         24.3"
            ]
          },
          "execution_count": 17,
          "metadata": {},
          "output_type": "execute_result"
        }
      ],
      "source": [
        "get_query(\"\"\"\n",
        "              SELECT ROUND(AVG(reviews_count), 1) AS avg_reviews\n",
        "              FROM (\n",
        "                      SELECT COUNT(DISTINCT review_id) AS reviews_count\n",
        "                      FROM ratings\n",
        "                      LEFT JOIN reviews\n",
        "                          ON ratings.username = reviews.username\n",
        "                      GROUP BY ratings.username\n",
        "                      HAVING COUNT(DISTINCT rating_id) > 50\n",
        "                    ) AS rc\n",
        "          \"\"\")"
      ]
    },
    {
      "cell_type": "markdown",
      "metadata": {
        "id": "EkqR5ijoZg4N"
      },
      "source": [
        "Получили среднее количество обзоров от пользователей, поставивших более 50 оценок - 24."
      ]
    },
    {
      "cell_type": "markdown",
      "metadata": {
        "id": "8zT89MzFZg4O"
      },
      "source": [
        "# <a name=3>Выводы.</a>"
      ]
    },
    {
      "cell_type": "markdown",
      "metadata": {
        "id": "1PPG2ba6Zg4P"
      },
      "source": [
        "После 1 января 2000 года вышла 821 книга из 1000 имеющихся на сервисе.\n",
        "\n",
        "Самое большое количество обзоров на первую книгу \"Сумерки\" (7 обзоров и средний рейтинг 3,66), \"Гарри Поттер и Узник Азкабана\" (6 обзоров и средний рейтинг 4,41) и \"Гарри Поттер и Тайная Комната\" (6 обзоров и средний рейтинг 4,29). На книгу \"The Natural Way to Draw\" не опубликовано ни одного обзора, а ее средний рейтинг 3,0 - самый низкий среди книг без обзоров.\n",
        "\n",
        "Издательство \"Penguin Books\" выпустило наибольшее количество книг толщиной более 50 страниц (42 книги).\n",
        "\n",
        "Соавторы, имеющие самую высокую пользовательскую среднюю оценку (среди книг, имеющих больше 50 оценок) - Дж. К. Роулинг и М. Грандпре (средний рейтинг - 4,285).\n",
        "\n",
        "Среднее число обзоров книг для самых активных пользователей (которые поставили более 50 оценок) - 24."
      ]
    }
  ],
  "metadata": {
    "ExecuteTimeLog": [
      {
        "duration": 593,
        "start_time": "2023-04-20T08:46:15.239Z"
      },
      {
        "duration": 4,
        "start_time": "2023-04-20T08:47:05.845Z"
      },
      {
        "duration": 4,
        "start_time": "2023-04-20T08:47:37.552Z"
      },
      {
        "duration": 5310,
        "start_time": "2023-04-20T08:47:48.517Z"
      },
      {
        "duration": 79,
        "start_time": "2023-04-20T08:47:59.837Z"
      },
      {
        "duration": 2,
        "start_time": "2023-04-20T08:48:39.531Z"
      },
      {
        "duration": 1658,
        "start_time": "2023-04-20T08:48:39.690Z"
      },
      {
        "duration": 2,
        "start_time": "2023-04-20T08:48:52.750Z"
      },
      {
        "duration": 12,
        "start_time": "2023-04-20T08:48:52.944Z"
      },
      {
        "duration": 2,
        "start_time": "2023-04-20T08:50:33.598Z"
      },
      {
        "duration": 8,
        "start_time": "2023-04-20T08:50:34.549Z"
      },
      {
        "duration": 2,
        "start_time": "2023-04-20T08:51:10.051Z"
      },
      {
        "duration": 8,
        "start_time": "2023-04-20T08:51:10.228Z"
      },
      {
        "duration": 3,
        "start_time": "2023-04-20T08:51:19.334Z"
      },
      {
        "duration": 10,
        "start_time": "2023-04-20T08:51:19.806Z"
      },
      {
        "duration": 4,
        "start_time": "2023-04-20T08:51:27.774Z"
      },
      {
        "duration": 14,
        "start_time": "2023-04-20T08:51:28.180Z"
      },
      {
        "duration": 3,
        "start_time": "2023-04-20T08:51:46.636Z"
      },
      {
        "duration": 12,
        "start_time": "2023-04-20T08:51:46.943Z"
      },
      {
        "duration": 3,
        "start_time": "2023-04-20T08:52:13.449Z"
      },
      {
        "duration": 14,
        "start_time": "2023-04-20T08:53:47.494Z"
      },
      {
        "duration": 19,
        "start_time": "2023-04-20T08:54:31.788Z"
      },
      {
        "duration": 75,
        "start_time": "2023-04-20T08:54:43.357Z"
      },
      {
        "duration": 13,
        "start_time": "2023-04-20T08:55:56.204Z"
      },
      {
        "duration": 12,
        "start_time": "2023-04-20T08:56:45.143Z"
      },
      {
        "duration": 3,
        "start_time": "2023-04-20T08:58:53.009Z"
      },
      {
        "duration": 4,
        "start_time": "2023-04-20T08:59:19.332Z"
      },
      {
        "duration": 4,
        "start_time": "2023-04-20T08:59:36.580Z"
      },
      {
        "duration": 3,
        "start_time": "2023-04-20T09:00:10.106Z"
      },
      {
        "duration": 86,
        "start_time": "2023-04-20T09:01:13.632Z"
      },
      {
        "duration": 12,
        "start_time": "2023-04-20T09:01:24.357Z"
      },
      {
        "duration": 13,
        "start_time": "2023-04-20T09:01:34.503Z"
      },
      {
        "duration": 19,
        "start_time": "2023-04-20T09:01:41.835Z"
      },
      {
        "duration": 14,
        "start_time": "2023-04-20T09:01:58.137Z"
      },
      {
        "duration": 11,
        "start_time": "2023-04-20T09:02:15.845Z"
      },
      {
        "duration": 73,
        "start_time": "2023-04-20T09:06:18.188Z"
      },
      {
        "duration": 4,
        "start_time": "2023-04-20T09:07:20.062Z"
      },
      {
        "duration": 18,
        "start_time": "2023-04-20T09:07:20.934Z"
      },
      {
        "duration": 3,
        "start_time": "2023-04-20T09:07:27.388Z"
      },
      {
        "duration": 14,
        "start_time": "2023-04-20T09:07:29.123Z"
      },
      {
        "duration": 72,
        "start_time": "2023-04-20T09:07:59.605Z"
      },
      {
        "duration": 112,
        "start_time": "2023-04-20T09:08:14.888Z"
      },
      {
        "duration": 76,
        "start_time": "2023-04-20T09:08:28.900Z"
      },
      {
        "duration": 94,
        "start_time": "2023-04-20T09:08:50.222Z"
      },
      {
        "duration": 79,
        "start_time": "2023-04-20T09:09:04.243Z"
      },
      {
        "duration": 29,
        "start_time": "2023-04-20T09:09:33.480Z"
      },
      {
        "duration": 15,
        "start_time": "2023-04-20T09:09:42.277Z"
      },
      {
        "duration": 25,
        "start_time": "2023-04-20T09:09:51.806Z"
      },
      {
        "duration": 15,
        "start_time": "2023-04-20T09:10:33.436Z"
      },
      {
        "duration": 14,
        "start_time": "2023-04-20T09:11:45.509Z"
      },
      {
        "duration": 157,
        "start_time": "2023-04-20T09:15:35.818Z"
      },
      {
        "duration": 44,
        "start_time": "2023-04-20T09:15:45.262Z"
      },
      {
        "duration": 11,
        "start_time": "2023-04-20T09:16:41.099Z"
      },
      {
        "duration": 107,
        "start_time": "2023-04-20T09:26:51.429Z"
      },
      {
        "duration": 119,
        "start_time": "2023-04-20T09:27:16.058Z"
      },
      {
        "duration": 89,
        "start_time": "2023-04-20T09:27:43.204Z"
      },
      {
        "duration": 102,
        "start_time": "2023-04-20T09:27:49.454Z"
      },
      {
        "duration": 10,
        "start_time": "2023-04-20T09:29:22.835Z"
      },
      {
        "duration": 10,
        "start_time": "2023-04-20T09:51:53.727Z"
      },
      {
        "duration": 13,
        "start_time": "2023-04-20T09:52:02.975Z"
      },
      {
        "duration": 3,
        "start_time": "2023-04-20T09:53:26.007Z"
      },
      {
        "duration": 5,
        "start_time": "2023-04-20T09:53:44.784Z"
      },
      {
        "duration": 12,
        "start_time": "2023-04-20T09:55:29.308Z"
      },
      {
        "duration": 22,
        "start_time": "2023-04-20T10:01:07.014Z"
      },
      {
        "duration": 21,
        "start_time": "2023-04-20T10:08:16.744Z"
      },
      {
        "duration": 3,
        "start_time": "2023-04-20T10:23:35.799Z"
      },
      {
        "duration": 10,
        "start_time": "2023-04-20T10:23:37.088Z"
      },
      {
        "duration": 41,
        "start_time": "2023-04-20T10:24:34.252Z"
      },
      {
        "duration": 39,
        "start_time": "2023-04-20T10:24:50.956Z"
      },
      {
        "duration": 22,
        "start_time": "2023-04-20T10:25:15.021Z"
      },
      {
        "duration": 69,
        "start_time": "2023-04-20T10:36:04.092Z"
      },
      {
        "duration": 15,
        "start_time": "2023-04-20T10:36:11.184Z"
      },
      {
        "duration": 93,
        "start_time": "2023-04-20T10:36:44.118Z"
      },
      {
        "duration": 90,
        "start_time": "2023-04-20T10:36:50.550Z"
      },
      {
        "duration": 16,
        "start_time": "2023-04-20T10:36:59.497Z"
      },
      {
        "duration": 17,
        "start_time": "2023-04-20T10:37:07.204Z"
      },
      {
        "duration": 19,
        "start_time": "2023-04-20T10:37:45.628Z"
      },
      {
        "duration": 19,
        "start_time": "2023-04-20T10:38:03.984Z"
      },
      {
        "duration": 17,
        "start_time": "2023-04-20T10:38:42.988Z"
      },
      {
        "duration": 87,
        "start_time": "2023-04-20T10:43:56.161Z"
      },
      {
        "duration": 89,
        "start_time": "2023-04-20T10:44:06.540Z"
      },
      {
        "duration": 81,
        "start_time": "2023-04-20T10:44:42.585Z"
      },
      {
        "duration": 47,
        "start_time": "2023-04-20T10:44:49.936Z"
      },
      {
        "duration": 44,
        "start_time": "2023-04-20T10:45:22.132Z"
      },
      {
        "duration": 82,
        "start_time": "2023-04-20T10:45:58.577Z"
      },
      {
        "duration": 101,
        "start_time": "2023-04-20T10:46:28.214Z"
      },
      {
        "duration": 97,
        "start_time": "2023-04-20T10:47:13.907Z"
      },
      {
        "duration": 47,
        "start_time": "2023-04-20T10:47:29.792Z"
      },
      {
        "duration": 46,
        "start_time": "2023-04-20T10:47:37.819Z"
      },
      {
        "duration": 57,
        "start_time": "2023-04-20T10:47:47.138Z"
      },
      {
        "duration": 40,
        "start_time": "2023-04-20T10:49:50.621Z"
      },
      {
        "duration": 71,
        "start_time": "2023-04-20T10:50:09.127Z"
      },
      {
        "duration": 68,
        "start_time": "2023-04-20T10:50:30.484Z"
      },
      {
        "duration": 52,
        "start_time": "2023-04-20T10:51:03.950Z"
      },
      {
        "duration": 9,
        "start_time": "2023-04-20T10:54:14.728Z"
      },
      {
        "duration": 27,
        "start_time": "2023-04-20T10:54:19.863Z"
      },
      {
        "duration": 26,
        "start_time": "2023-04-20T10:54:52.445Z"
      },
      {
        "duration": 26,
        "start_time": "2023-04-20T10:55:09.684Z"
      },
      {
        "duration": 25,
        "start_time": "2023-04-20T10:55:51.029Z"
      },
      {
        "duration": 29,
        "start_time": "2023-04-20T10:55:59.673Z"
      },
      {
        "duration": 24,
        "start_time": "2023-04-20T10:56:05.927Z"
      },
      {
        "duration": 32,
        "start_time": "2023-04-20T11:01:25.754Z"
      },
      {
        "duration": 39,
        "start_time": "2023-04-20T11:01:32.459Z"
      },
      {
        "duration": 32,
        "start_time": "2023-04-20T11:02:01.600Z"
      },
      {
        "duration": 37,
        "start_time": "2023-04-20T11:02:11.522Z"
      },
      {
        "duration": 25,
        "start_time": "2023-04-20T11:02:19.908Z"
      },
      {
        "duration": 29,
        "start_time": "2023-04-20T11:02:26.847Z"
      },
      {
        "duration": 82,
        "start_time": "2023-04-20T11:03:29.393Z"
      },
      {
        "duration": 37,
        "start_time": "2023-04-20T11:03:42.902Z"
      },
      {
        "duration": 41,
        "start_time": "2023-04-20T11:04:23.248Z"
      },
      {
        "duration": 28,
        "start_time": "2023-04-20T11:04:38.805Z"
      },
      {
        "duration": 30,
        "start_time": "2023-04-20T11:05:29.812Z"
      },
      {
        "duration": 26,
        "start_time": "2023-04-20T11:05:51.320Z"
      },
      {
        "duration": 24,
        "start_time": "2023-04-20T11:10:30.783Z"
      },
      {
        "duration": 45,
        "start_time": "2023-04-20T11:10:34.090Z"
      },
      {
        "duration": 11,
        "start_time": "2023-04-20T11:17:15.050Z"
      },
      {
        "duration": 10,
        "start_time": "2023-04-20T11:18:17.141Z"
      },
      {
        "duration": 10,
        "start_time": "2023-04-20T11:18:26.604Z"
      },
      {
        "duration": 11,
        "start_time": "2023-04-20T11:18:40.551Z"
      },
      {
        "duration": 100,
        "start_time": "2023-04-20T11:18:55.724Z"
      },
      {
        "duration": 91,
        "start_time": "2023-04-20T11:19:04.554Z"
      },
      {
        "duration": 37,
        "start_time": "2023-04-20T11:19:26.267Z"
      },
      {
        "duration": 19,
        "start_time": "2023-04-20T11:20:15.185Z"
      },
      {
        "duration": 18,
        "start_time": "2023-04-20T11:20:19.991Z"
      },
      {
        "duration": 27,
        "start_time": "2023-04-20T11:20:27.425Z"
      },
      {
        "duration": 105,
        "start_time": "2023-04-20T11:21:22.721Z"
      },
      {
        "duration": 131,
        "start_time": "2023-04-20T11:21:33.757Z"
      },
      {
        "duration": 20,
        "start_time": "2023-04-20T11:23:25.108Z"
      },
      {
        "duration": 17,
        "start_time": "2023-04-20T11:23:46.240Z"
      },
      {
        "duration": 40,
        "start_time": "2023-04-20T11:24:30.864Z"
      },
      {
        "duration": 583,
        "start_time": "2023-04-20T14:41:16.002Z"
      },
      {
        "duration": 6,
        "start_time": "2023-04-20T14:41:16.587Z"
      },
      {
        "duration": 38,
        "start_time": "2023-04-20T14:41:16.595Z"
      },
      {
        "duration": 11205,
        "start_time": "2023-04-20T14:41:16.638Z"
      },
      {
        "duration": 3,
        "start_time": "2023-04-20T14:41:27.845Z"
      },
      {
        "duration": 389,
        "start_time": "2023-04-20T14:41:27.850Z"
      },
      {
        "duration": 106,
        "start_time": "2023-04-20T14:41:28.240Z"
      },
      {
        "duration": 113,
        "start_time": "2023-04-20T14:41:28.348Z"
      },
      {
        "duration": 114,
        "start_time": "2023-04-20T14:41:28.462Z"
      },
      {
        "duration": 111,
        "start_time": "2023-04-20T14:41:28.578Z"
      },
      {
        "duration": 6,
        "start_time": "2023-04-20T14:41:28.691Z"
      },
      {
        "duration": 128,
        "start_time": "2023-04-20T14:41:28.699Z"
      },
      {
        "duration": 149,
        "start_time": "2023-04-20T14:41:28.828Z"
      },
      {
        "duration": 101,
        "start_time": "2023-04-20T14:41:28.979Z"
      },
      {
        "duration": 134,
        "start_time": "2023-04-20T14:41:29.084Z"
      },
      {
        "duration": 107,
        "start_time": "2023-04-20T14:41:29.220Z"
      },
      {
        "duration": 91,
        "start_time": "2023-04-20T18:02:48.096Z"
      },
      {
        "duration": 43,
        "start_time": "2023-04-20T18:29:20.582Z"
      },
      {
        "duration": 454,
        "start_time": "2023-04-20T18:29:24.611Z"
      },
      {
        "duration": 3,
        "start_time": "2023-04-20T18:29:25.067Z"
      },
      {
        "duration": 5,
        "start_time": "2023-04-20T18:29:25.071Z"
      },
      {
        "duration": 4685,
        "start_time": "2023-04-20T18:29:25.078Z"
      },
      {
        "duration": 3,
        "start_time": "2023-04-20T18:29:29.765Z"
      },
      {
        "duration": 61,
        "start_time": "2023-04-20T18:29:29.769Z"
      },
      {
        "duration": 10,
        "start_time": "2023-04-20T18:29:29.831Z"
      },
      {
        "duration": 9,
        "start_time": "2023-04-20T18:29:29.842Z"
      },
      {
        "duration": 10,
        "start_time": "2023-04-20T18:29:29.852Z"
      },
      {
        "duration": 10,
        "start_time": "2023-04-20T18:29:29.864Z"
      },
      {
        "duration": 2,
        "start_time": "2023-04-20T18:29:29.875Z"
      },
      {
        "duration": 11,
        "start_time": "2023-04-20T18:29:29.879Z"
      },
      {
        "duration": 25,
        "start_time": "2023-04-20T18:29:29.892Z"
      },
      {
        "duration": 10,
        "start_time": "2023-04-20T18:29:29.918Z"
      },
      {
        "duration": 17,
        "start_time": "2023-04-20T18:29:29.929Z"
      },
      {
        "duration": 46,
        "start_time": "2023-04-20T18:29:29.948Z"
      },
      {
        "duration": 21,
        "start_time": "2023-04-20T18:30:27.270Z"
      },
      {
        "duration": 18,
        "start_time": "2023-04-20T18:32:14.690Z"
      },
      {
        "duration": 17,
        "start_time": "2023-04-20T18:33:22.527Z"
      }
    ],
    "kernelspec": {
      "display_name": "Python 3 (ipykernel)",
      "language": "python",
      "name": "python3"
    },
    "language_info": {
      "codemirror_mode": {
        "name": "ipython",
        "version": 3
      },
      "file_extension": ".py",
      "mimetype": "text/x-python",
      "name": "python",
      "nbconvert_exporter": "python",
      "pygments_lexer": "ipython3",
      "version": "3.9.5"
    },
    "toc": {
      "base_numbering": 1,
      "nav_menu": {},
      "number_sections": true,
      "sideBar": true,
      "skip_h1_title": true,
      "title_cell": "Table of Contents",
      "title_sidebar": "Contents",
      "toc_cell": false,
      "toc_position": {},
      "toc_section_display": true,
      "toc_window_display": false
    },
    "colab": {
      "provenance": [],
      "toc_visible": true
    }
  },
  "nbformat": 4,
  "nbformat_minor": 0
}