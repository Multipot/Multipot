{
  "cells": [
    {
      "cell_type": "markdown",
      "metadata": {
        "id": "Q0dcMgw78fpi"
      },
      "source": [
        "Принятие решений в бизнесе\n",
        "\n",
        "# Описание проекта\n",
        "\n",
        "Отдел аналитики интернет-магазина совместно с отделом маркетинга подготовили список гипотез для увеличения выручки. Надо приоритизироват гипотезы, запустить A/B-тест и проанализировать результаты."
      ]
    },
    {
      "cell_type": "markdown",
      "metadata": {
        "id": "VbfvvumN8fpo"
      },
      "source": [
        "# Часть 1. Приоритизацияя гипотез"
      ]
    },
    {
      "cell_type": "markdown",
      "metadata": {
        "id": "7DFtIjqp8fpq"
      },
      "source": [
        "## Выгружаем данные."
      ]
    },
    {
      "cell_type": "code",
      "execution_count": 8,
      "metadata": {
        "id": "3KphSIM68fpr"
      },
      "outputs": [],
      "source": [
        "import pandas as pd\n",
        "import numpy as np\n",
        "import datetime as dt\n",
        "import matplotlib.pyplot as plt\n",
        "import scipy.stats as stats\n",
        "import seaborn as sns"
      ]
    },
    {
      "cell_type": "code",
      "execution_count": 9,
      "metadata": {
        "id": "sAuBCz9U8fpv"
      },
      "outputs": [],
      "source": [
        "hypothesis = pd.read_csv('hypothesis.csv', sep=',')"
      ]
    },
    {
      "cell_type": "code",
      "execution_count": 10,
      "metadata": {
        "id": "fM6FJvnk8fpy"
      },
      "outputs": [],
      "source": [
        "hypothesis.columns = ['hypothesis', 'reach', 'impact', 'confidence', 'efforts']"
      ]
    },
    {
      "cell_type": "code",
      "execution_count": 11,
      "metadata": {
        "colab": {
          "base_uri": "https://localhost:8080/",
          "height": 112
        },
        "id": "_jP_Q7yY8fp0",
        "outputId": "f027c8fb-9a15-4c45-af5b-107eed90d3ac"
      },
      "outputs": [
        {
          "output_type": "execute_result",
          "data": {
            "text/plain": [
              "                                          hypothesis  reach  impact  \\\n",
              "0  Добавить два новых канала привлечения трафика,...      3      10   \n",
              "1  Запустить собственную службу доставки, что сок...      2       5   \n",
              "\n",
              "   confidence  efforts  \n",
              "0           8        6  \n",
              "1           4       10  "
            ],
            "text/html": [
              "\n",
              "  <div id=\"df-8c9c4106-4861-411c-9622-c65956b30458\" class=\"colab-df-container\">\n",
              "    <div>\n",
              "<style scoped>\n",
              "    .dataframe tbody tr th:only-of-type {\n",
              "        vertical-align: middle;\n",
              "    }\n",
              "\n",
              "    .dataframe tbody tr th {\n",
              "        vertical-align: top;\n",
              "    }\n",
              "\n",
              "    .dataframe thead th {\n",
              "        text-align: right;\n",
              "    }\n",
              "</style>\n",
              "<table border=\"1\" class=\"dataframe\">\n",
              "  <thead>\n",
              "    <tr style=\"text-align: right;\">\n",
              "      <th></th>\n",
              "      <th>hypothesis</th>\n",
              "      <th>reach</th>\n",
              "      <th>impact</th>\n",
              "      <th>confidence</th>\n",
              "      <th>efforts</th>\n",
              "    </tr>\n",
              "  </thead>\n",
              "  <tbody>\n",
              "    <tr>\n",
              "      <th>0</th>\n",
              "      <td>Добавить два новых канала привлечения трафика,...</td>\n",
              "      <td>3</td>\n",
              "      <td>10</td>\n",
              "      <td>8</td>\n",
              "      <td>6</td>\n",
              "    </tr>\n",
              "    <tr>\n",
              "      <th>1</th>\n",
              "      <td>Запустить собственную службу доставки, что сок...</td>\n",
              "      <td>2</td>\n",
              "      <td>5</td>\n",
              "      <td>4</td>\n",
              "      <td>10</td>\n",
              "    </tr>\n",
              "  </tbody>\n",
              "</table>\n",
              "</div>\n",
              "    <div class=\"colab-df-buttons\">\n",
              "\n",
              "  <div class=\"colab-df-container\">\n",
              "    <button class=\"colab-df-convert\" onclick=\"convertToInteractive('df-8c9c4106-4861-411c-9622-c65956b30458')\"\n",
              "            title=\"Convert this dataframe to an interactive table.\"\n",
              "            style=\"display:none;\">\n",
              "\n",
              "  <svg xmlns=\"http://www.w3.org/2000/svg\" height=\"24px\" viewBox=\"0 -960 960 960\">\n",
              "    <path d=\"M120-120v-720h720v720H120Zm60-500h600v-160H180v160Zm220 220h160v-160H400v160Zm0 220h160v-160H400v160ZM180-400h160v-160H180v160Zm440 0h160v-160H620v160ZM180-180h160v-160H180v160Zm440 0h160v-160H620v160Z\"/>\n",
              "  </svg>\n",
              "    </button>\n",
              "\n",
              "  <style>\n",
              "    .colab-df-container {\n",
              "      display:flex;\n",
              "      gap: 12px;\n",
              "    }\n",
              "\n",
              "    .colab-df-convert {\n",
              "      background-color: #E8F0FE;\n",
              "      border: none;\n",
              "      border-radius: 50%;\n",
              "      cursor: pointer;\n",
              "      display: none;\n",
              "      fill: #1967D2;\n",
              "      height: 32px;\n",
              "      padding: 0 0 0 0;\n",
              "      width: 32px;\n",
              "    }\n",
              "\n",
              "    .colab-df-convert:hover {\n",
              "      background-color: #E2EBFA;\n",
              "      box-shadow: 0px 1px 2px rgba(60, 64, 67, 0.3), 0px 1px 3px 1px rgba(60, 64, 67, 0.15);\n",
              "      fill: #174EA6;\n",
              "    }\n",
              "\n",
              "    .colab-df-buttons div {\n",
              "      margin-bottom: 4px;\n",
              "    }\n",
              "\n",
              "    [theme=dark] .colab-df-convert {\n",
              "      background-color: #3B4455;\n",
              "      fill: #D2E3FC;\n",
              "    }\n",
              "\n",
              "    [theme=dark] .colab-df-convert:hover {\n",
              "      background-color: #434B5C;\n",
              "      box-shadow: 0px 1px 3px 1px rgba(0, 0, 0, 0.15);\n",
              "      filter: drop-shadow(0px 1px 2px rgba(0, 0, 0, 0.3));\n",
              "      fill: #FFFFFF;\n",
              "    }\n",
              "  </style>\n",
              "\n",
              "    <script>\n",
              "      const buttonEl =\n",
              "        document.querySelector('#df-8c9c4106-4861-411c-9622-c65956b30458 button.colab-df-convert');\n",
              "      buttonEl.style.display =\n",
              "        google.colab.kernel.accessAllowed ? 'block' : 'none';\n",
              "\n",
              "      async function convertToInteractive(key) {\n",
              "        const element = document.querySelector('#df-8c9c4106-4861-411c-9622-c65956b30458');\n",
              "        const dataTable =\n",
              "          await google.colab.kernel.invokeFunction('convertToInteractive',\n",
              "                                                    [key], {});\n",
              "        if (!dataTable) return;\n",
              "\n",
              "        const docLinkHtml = 'Like what you see? Visit the ' +\n",
              "          '<a target=\"_blank\" href=https://colab.research.google.com/notebooks/data_table.ipynb>data table notebook</a>'\n",
              "          + ' to learn more about interactive tables.';\n",
              "        element.innerHTML = '';\n",
              "        dataTable['output_type'] = 'display_data';\n",
              "        await google.colab.output.renderOutput(dataTable, element);\n",
              "        const docLink = document.createElement('div');\n",
              "        docLink.innerHTML = docLinkHtml;\n",
              "        element.appendChild(docLink);\n",
              "      }\n",
              "    </script>\n",
              "  </div>\n",
              "\n",
              "\n",
              "<div id=\"df-813d4af5-e3f4-4f5c-8eef-bd23e91ecdd5\">\n",
              "  <button class=\"colab-df-quickchart\" onclick=\"quickchart('df-813d4af5-e3f4-4f5c-8eef-bd23e91ecdd5')\"\n",
              "            title=\"Suggest charts.\"\n",
              "            style=\"display:none;\">\n",
              "\n",
              "<svg xmlns=\"http://www.w3.org/2000/svg\" height=\"24px\"viewBox=\"0 0 24 24\"\n",
              "     width=\"24px\">\n",
              "    <g>\n",
              "        <path d=\"M19 3H5c-1.1 0-2 .9-2 2v14c0 1.1.9 2 2 2h14c1.1 0 2-.9 2-2V5c0-1.1-.9-2-2-2zM9 17H7v-7h2v7zm4 0h-2V7h2v10zm4 0h-2v-4h2v4z\"/>\n",
              "    </g>\n",
              "</svg>\n",
              "  </button>\n",
              "\n",
              "<style>\n",
              "  .colab-df-quickchart {\n",
              "      --bg-color: #E8F0FE;\n",
              "      --fill-color: #1967D2;\n",
              "      --hover-bg-color: #E2EBFA;\n",
              "      --hover-fill-color: #174EA6;\n",
              "      --disabled-fill-color: #AAA;\n",
              "      --disabled-bg-color: #DDD;\n",
              "  }\n",
              "\n",
              "  [theme=dark] .colab-df-quickchart {\n",
              "      --bg-color: #3B4455;\n",
              "      --fill-color: #D2E3FC;\n",
              "      --hover-bg-color: #434B5C;\n",
              "      --hover-fill-color: #FFFFFF;\n",
              "      --disabled-bg-color: #3B4455;\n",
              "      --disabled-fill-color: #666;\n",
              "  }\n",
              "\n",
              "  .colab-df-quickchart {\n",
              "    background-color: var(--bg-color);\n",
              "    border: none;\n",
              "    border-radius: 50%;\n",
              "    cursor: pointer;\n",
              "    display: none;\n",
              "    fill: var(--fill-color);\n",
              "    height: 32px;\n",
              "    padding: 0;\n",
              "    width: 32px;\n",
              "  }\n",
              "\n",
              "  .colab-df-quickchart:hover {\n",
              "    background-color: var(--hover-bg-color);\n",
              "    box-shadow: 0 1px 2px rgba(60, 64, 67, 0.3), 0 1px 3px 1px rgba(60, 64, 67, 0.15);\n",
              "    fill: var(--button-hover-fill-color);\n",
              "  }\n",
              "\n",
              "  .colab-df-quickchart-complete:disabled,\n",
              "  .colab-df-quickchart-complete:disabled:hover {\n",
              "    background-color: var(--disabled-bg-color);\n",
              "    fill: var(--disabled-fill-color);\n",
              "    box-shadow: none;\n",
              "  }\n",
              "\n",
              "  .colab-df-spinner {\n",
              "    border: 2px solid var(--fill-color);\n",
              "    border-color: transparent;\n",
              "    border-bottom-color: var(--fill-color);\n",
              "    animation:\n",
              "      spin 1s steps(1) infinite;\n",
              "  }\n",
              "\n",
              "  @keyframes spin {\n",
              "    0% {\n",
              "      border-color: transparent;\n",
              "      border-bottom-color: var(--fill-color);\n",
              "      border-left-color: var(--fill-color);\n",
              "    }\n",
              "    20% {\n",
              "      border-color: transparent;\n",
              "      border-left-color: var(--fill-color);\n",
              "      border-top-color: var(--fill-color);\n",
              "    }\n",
              "    30% {\n",
              "      border-color: transparent;\n",
              "      border-left-color: var(--fill-color);\n",
              "      border-top-color: var(--fill-color);\n",
              "      border-right-color: var(--fill-color);\n",
              "    }\n",
              "    40% {\n",
              "      border-color: transparent;\n",
              "      border-right-color: var(--fill-color);\n",
              "      border-top-color: var(--fill-color);\n",
              "    }\n",
              "    60% {\n",
              "      border-color: transparent;\n",
              "      border-right-color: var(--fill-color);\n",
              "    }\n",
              "    80% {\n",
              "      border-color: transparent;\n",
              "      border-right-color: var(--fill-color);\n",
              "      border-bottom-color: var(--fill-color);\n",
              "    }\n",
              "    90% {\n",
              "      border-color: transparent;\n",
              "      border-bottom-color: var(--fill-color);\n",
              "    }\n",
              "  }\n",
              "</style>\n",
              "\n",
              "  <script>\n",
              "    async function quickchart(key) {\n",
              "      const quickchartButtonEl =\n",
              "        document.querySelector('#' + key + ' button');\n",
              "      quickchartButtonEl.disabled = true;  // To prevent multiple clicks.\n",
              "      quickchartButtonEl.classList.add('colab-df-spinner');\n",
              "      try {\n",
              "        const charts = await google.colab.kernel.invokeFunction(\n",
              "            'suggestCharts', [key], {});\n",
              "      } catch (error) {\n",
              "        console.error('Error during call to suggestCharts:', error);\n",
              "      }\n",
              "      quickchartButtonEl.classList.remove('colab-df-spinner');\n",
              "      quickchartButtonEl.classList.add('colab-df-quickchart-complete');\n",
              "    }\n",
              "    (() => {\n",
              "      let quickchartButtonEl =\n",
              "        document.querySelector('#df-813d4af5-e3f4-4f5c-8eef-bd23e91ecdd5 button');\n",
              "      quickchartButtonEl.style.display =\n",
              "        google.colab.kernel.accessAllowed ? 'block' : 'none';\n",
              "    })();\n",
              "  </script>\n",
              "</div>\n",
              "    </div>\n",
              "  </div>\n"
            ]
          },
          "metadata": {},
          "execution_count": 11
        }
      ],
      "source": [
        "hypothesis.head(2)"
      ]
    },
    {
      "cell_type": "markdown",
      "metadata": {
        "id": "WDfIrIsi8fp2"
      },
      "source": [
        "- Hypothesis ;\n",
        "- Reach ;\n",
        "- Impact ;\n",
        "- Confidence ;\n",
        "- Efforts ."
      ]
    },
    {
      "cell_type": "code",
      "execution_count": 12,
      "metadata": {
        "colab": {
          "base_uri": "https://localhost:8080/"
        },
        "id": "ryMsk1z48fp2",
        "outputId": "11d537e5-6ae6-4046-b8b4-bcb20fe60bac"
      },
      "outputs": [
        {
          "output_type": "stream",
          "name": "stdout",
          "text": [
            "Гипотезы:\n"
          ]
        },
        {
          "output_type": "execute_result",
          "data": {
            "text/plain": [
              "0              Добавить два новых канала привлечения трафика, что позволит привлекать на 30% больше пользователей\n",
              "1                                       Запустить собственную службу доставки, что сократит срок доставки заказов\n",
              "2    Добавить блоки рекомендаций товаров на сайт интернет магазина, чтобы повысить конверсию и средний чек заказа\n",
              "3             Изменить структура категорий, что увеличит конверсию, т.к. пользователи быстрее найдут нужный товар\n",
              "4                                Изменить цвет фона главной страницы, чтобы увеличить вовлеченность пользователей\n",
              "5                        Добавить страницу отзывов клиентов о магазине, что позволит увеличить количество заказов\n",
              "6            Показать на главной странице баннеры с актуальными акциями и распродажами, чтобы увеличить конверсию\n",
              "7                Добавить форму подписки на все основные страницы, чтобы собрать базу клиентов для email-рассылок\n",
              "8                                                         Запустить акцию, дающую скидку на товар в день рождения\n",
              "Name: hypothesis, dtype: object"
            ]
          },
          "metadata": {},
          "execution_count": 12
        }
      ],
      "source": [
        "print(\"Гипотезы:\")\n",
        "\n",
        "pd.options.display.max_colwidth = 150\n",
        "hypothesis['hypothesis']"
      ]
    },
    {
      "cell_type": "markdown",
      "metadata": {
        "id": "XvJ2FXls8fp4"
      },
      "source": [
        "Применяем фреймворк ICE для приоритизации гипотез"
      ]
    },
    {
      "cell_type": "code",
      "execution_count": 13,
      "metadata": {
        "id": "llvwRk6e8fp4"
      },
      "outputs": [],
      "source": [
        "hypothesis['ICE'] = (hypothesis['impact'] *\n",
        "              hypothesis['confidence'] /\n",
        "              hypothesis['efforts']).astype(int)\n",
        "hypothesis_ice = hypothesis.sort_values(by='ICE', ascending=False).reset_index()"
      ]
    },
    {
      "cell_type": "code",
      "execution_count": 14,
      "metadata": {
        "colab": {
          "base_uri": "https://localhost:8080/",
          "height": 178
        },
        "id": "yr46AbSP8fp5",
        "outputId": "7c494af2-dd11-4089-d3ba-5c6c7bf60d61"
      },
      "outputs": [
        {
          "output_type": "execute_result",
          "data": {
            "text/plain": [
              "                                                                                           hypothesis  \\\n",
              "0                                             Запустить акцию, дающую скидку на товар в день рождения   \n",
              "1  Добавить два новых канала привлечения трафика, что позволит привлекать на 30% больше пользователей   \n",
              "2    Добавить форму подписки на все основные страницы, чтобы собрать базу клиентов для email-рассылок   \n",
              "\n",
              "   reach  impact  confidence  efforts  ICE  \n",
              "0      1       9           9        5   16  \n",
              "1      3      10           8        6   13  \n",
              "2     10       7           8        5   11  "
            ],
            "text/html": [
              "\n",
              "  <div id=\"df-730c4a90-c297-4e64-a045-8b9f20221a99\" class=\"colab-df-container\">\n",
              "    <div>\n",
              "<style scoped>\n",
              "    .dataframe tbody tr th:only-of-type {\n",
              "        vertical-align: middle;\n",
              "    }\n",
              "\n",
              "    .dataframe tbody tr th {\n",
              "        vertical-align: top;\n",
              "    }\n",
              "\n",
              "    .dataframe thead th {\n",
              "        text-align: right;\n",
              "    }\n",
              "</style>\n",
              "<table border=\"1\" class=\"dataframe\">\n",
              "  <thead>\n",
              "    <tr style=\"text-align: right;\">\n",
              "      <th></th>\n",
              "      <th>hypothesis</th>\n",
              "      <th>reach</th>\n",
              "      <th>impact</th>\n",
              "      <th>confidence</th>\n",
              "      <th>efforts</th>\n",
              "      <th>ICE</th>\n",
              "    </tr>\n",
              "  </thead>\n",
              "  <tbody>\n",
              "    <tr>\n",
              "      <th>0</th>\n",
              "      <td>Запустить акцию, дающую скидку на товар в день рождения</td>\n",
              "      <td>1</td>\n",
              "      <td>9</td>\n",
              "      <td>9</td>\n",
              "      <td>5</td>\n",
              "      <td>16</td>\n",
              "    </tr>\n",
              "    <tr>\n",
              "      <th>1</th>\n",
              "      <td>Добавить два новых канала привлечения трафика, что позволит привлекать на 30% больше пользователей</td>\n",
              "      <td>3</td>\n",
              "      <td>10</td>\n",
              "      <td>8</td>\n",
              "      <td>6</td>\n",
              "      <td>13</td>\n",
              "    </tr>\n",
              "    <tr>\n",
              "      <th>2</th>\n",
              "      <td>Добавить форму подписки на все основные страницы, чтобы собрать базу клиентов для email-рассылок</td>\n",
              "      <td>10</td>\n",
              "      <td>7</td>\n",
              "      <td>8</td>\n",
              "      <td>5</td>\n",
              "      <td>11</td>\n",
              "    </tr>\n",
              "  </tbody>\n",
              "</table>\n",
              "</div>\n",
              "    <div class=\"colab-df-buttons\">\n",
              "\n",
              "  <div class=\"colab-df-container\">\n",
              "    <button class=\"colab-df-convert\" onclick=\"convertToInteractive('df-730c4a90-c297-4e64-a045-8b9f20221a99')\"\n",
              "            title=\"Convert this dataframe to an interactive table.\"\n",
              "            style=\"display:none;\">\n",
              "\n",
              "  <svg xmlns=\"http://www.w3.org/2000/svg\" height=\"24px\" viewBox=\"0 -960 960 960\">\n",
              "    <path d=\"M120-120v-720h720v720H120Zm60-500h600v-160H180v160Zm220 220h160v-160H400v160Zm0 220h160v-160H400v160ZM180-400h160v-160H180v160Zm440 0h160v-160H620v160ZM180-180h160v-160H180v160Zm440 0h160v-160H620v160Z\"/>\n",
              "  </svg>\n",
              "    </button>\n",
              "\n",
              "  <style>\n",
              "    .colab-df-container {\n",
              "      display:flex;\n",
              "      gap: 12px;\n",
              "    }\n",
              "\n",
              "    .colab-df-convert {\n",
              "      background-color: #E8F0FE;\n",
              "      border: none;\n",
              "      border-radius: 50%;\n",
              "      cursor: pointer;\n",
              "      display: none;\n",
              "      fill: #1967D2;\n",
              "      height: 32px;\n",
              "      padding: 0 0 0 0;\n",
              "      width: 32px;\n",
              "    }\n",
              "\n",
              "    .colab-df-convert:hover {\n",
              "      background-color: #E2EBFA;\n",
              "      box-shadow: 0px 1px 2px rgba(60, 64, 67, 0.3), 0px 1px 3px 1px rgba(60, 64, 67, 0.15);\n",
              "      fill: #174EA6;\n",
              "    }\n",
              "\n",
              "    .colab-df-buttons div {\n",
              "      margin-bottom: 4px;\n",
              "    }\n",
              "\n",
              "    [theme=dark] .colab-df-convert {\n",
              "      background-color: #3B4455;\n",
              "      fill: #D2E3FC;\n",
              "    }\n",
              "\n",
              "    [theme=dark] .colab-df-convert:hover {\n",
              "      background-color: #434B5C;\n",
              "      box-shadow: 0px 1px 3px 1px rgba(0, 0, 0, 0.15);\n",
              "      filter: drop-shadow(0px 1px 2px rgba(0, 0, 0, 0.3));\n",
              "      fill: #FFFFFF;\n",
              "    }\n",
              "  </style>\n",
              "\n",
              "    <script>\n",
              "      const buttonEl =\n",
              "        document.querySelector('#df-730c4a90-c297-4e64-a045-8b9f20221a99 button.colab-df-convert');\n",
              "      buttonEl.style.display =\n",
              "        google.colab.kernel.accessAllowed ? 'block' : 'none';\n",
              "\n",
              "      async function convertToInteractive(key) {\n",
              "        const element = document.querySelector('#df-730c4a90-c297-4e64-a045-8b9f20221a99');\n",
              "        const dataTable =\n",
              "          await google.colab.kernel.invokeFunction('convertToInteractive',\n",
              "                                                    [key], {});\n",
              "        if (!dataTable) return;\n",
              "\n",
              "        const docLinkHtml = 'Like what you see? Visit the ' +\n",
              "          '<a target=\"_blank\" href=https://colab.research.google.com/notebooks/data_table.ipynb>data table notebook</a>'\n",
              "          + ' to learn more about interactive tables.';\n",
              "        element.innerHTML = '';\n",
              "        dataTable['output_type'] = 'display_data';\n",
              "        await google.colab.output.renderOutput(dataTable, element);\n",
              "        const docLink = document.createElement('div');\n",
              "        docLink.innerHTML = docLinkHtml;\n",
              "        element.appendChild(docLink);\n",
              "      }\n",
              "    </script>\n",
              "  </div>\n",
              "\n",
              "\n",
              "<div id=\"df-3274f3d1-5d87-4326-84ec-9c4dd7cf7e85\">\n",
              "  <button class=\"colab-df-quickchart\" onclick=\"quickchart('df-3274f3d1-5d87-4326-84ec-9c4dd7cf7e85')\"\n",
              "            title=\"Suggest charts.\"\n",
              "            style=\"display:none;\">\n",
              "\n",
              "<svg xmlns=\"http://www.w3.org/2000/svg\" height=\"24px\"viewBox=\"0 0 24 24\"\n",
              "     width=\"24px\">\n",
              "    <g>\n",
              "        <path d=\"M19 3H5c-1.1 0-2 .9-2 2v14c0 1.1.9 2 2 2h14c1.1 0 2-.9 2-2V5c0-1.1-.9-2-2-2zM9 17H7v-7h2v7zm4 0h-2V7h2v10zm4 0h-2v-4h2v4z\"/>\n",
              "    </g>\n",
              "</svg>\n",
              "  </button>\n",
              "\n",
              "<style>\n",
              "  .colab-df-quickchart {\n",
              "      --bg-color: #E8F0FE;\n",
              "      --fill-color: #1967D2;\n",
              "      --hover-bg-color: #E2EBFA;\n",
              "      --hover-fill-color: #174EA6;\n",
              "      --disabled-fill-color: #AAA;\n",
              "      --disabled-bg-color: #DDD;\n",
              "  }\n",
              "\n",
              "  [theme=dark] .colab-df-quickchart {\n",
              "      --bg-color: #3B4455;\n",
              "      --fill-color: #D2E3FC;\n",
              "      --hover-bg-color: #434B5C;\n",
              "      --hover-fill-color: #FFFFFF;\n",
              "      --disabled-bg-color: #3B4455;\n",
              "      --disabled-fill-color: #666;\n",
              "  }\n",
              "\n",
              "  .colab-df-quickchart {\n",
              "    background-color: var(--bg-color);\n",
              "    border: none;\n",
              "    border-radius: 50%;\n",
              "    cursor: pointer;\n",
              "    display: none;\n",
              "    fill: var(--fill-color);\n",
              "    height: 32px;\n",
              "    padding: 0;\n",
              "    width: 32px;\n",
              "  }\n",
              "\n",
              "  .colab-df-quickchart:hover {\n",
              "    background-color: var(--hover-bg-color);\n",
              "    box-shadow: 0 1px 2px rgba(60, 64, 67, 0.3), 0 1px 3px 1px rgba(60, 64, 67, 0.15);\n",
              "    fill: var(--button-hover-fill-color);\n",
              "  }\n",
              "\n",
              "  .colab-df-quickchart-complete:disabled,\n",
              "  .colab-df-quickchart-complete:disabled:hover {\n",
              "    background-color: var(--disabled-bg-color);\n",
              "    fill: var(--disabled-fill-color);\n",
              "    box-shadow: none;\n",
              "  }\n",
              "\n",
              "  .colab-df-spinner {\n",
              "    border: 2px solid var(--fill-color);\n",
              "    border-color: transparent;\n",
              "    border-bottom-color: var(--fill-color);\n",
              "    animation:\n",
              "      spin 1s steps(1) infinite;\n",
              "  }\n",
              "\n",
              "  @keyframes spin {\n",
              "    0% {\n",
              "      border-color: transparent;\n",
              "      border-bottom-color: var(--fill-color);\n",
              "      border-left-color: var(--fill-color);\n",
              "    }\n",
              "    20% {\n",
              "      border-color: transparent;\n",
              "      border-left-color: var(--fill-color);\n",
              "      border-top-color: var(--fill-color);\n",
              "    }\n",
              "    30% {\n",
              "      border-color: transparent;\n",
              "      border-left-color: var(--fill-color);\n",
              "      border-top-color: var(--fill-color);\n",
              "      border-right-color: var(--fill-color);\n",
              "    }\n",
              "    40% {\n",
              "      border-color: transparent;\n",
              "      border-right-color: var(--fill-color);\n",
              "      border-top-color: var(--fill-color);\n",
              "    }\n",
              "    60% {\n",
              "      border-color: transparent;\n",
              "      border-right-color: var(--fill-color);\n",
              "    }\n",
              "    80% {\n",
              "      border-color: transparent;\n",
              "      border-right-color: var(--fill-color);\n",
              "      border-bottom-color: var(--fill-color);\n",
              "    }\n",
              "    90% {\n",
              "      border-color: transparent;\n",
              "      border-bottom-color: var(--fill-color);\n",
              "    }\n",
              "  }\n",
              "</style>\n",
              "\n",
              "  <script>\n",
              "    async function quickchart(key) {\n",
              "      const quickchartButtonEl =\n",
              "        document.querySelector('#' + key + ' button');\n",
              "      quickchartButtonEl.disabled = true;  // To prevent multiple clicks.\n",
              "      quickchartButtonEl.classList.add('colab-df-spinner');\n",
              "      try {\n",
              "        const charts = await google.colab.kernel.invokeFunction(\n",
              "            'suggestCharts', [key], {});\n",
              "      } catch (error) {\n",
              "        console.error('Error during call to suggestCharts:', error);\n",
              "      }\n",
              "      quickchartButtonEl.classList.remove('colab-df-spinner');\n",
              "      quickchartButtonEl.classList.add('colab-df-quickchart-complete');\n",
              "    }\n",
              "    (() => {\n",
              "      let quickchartButtonEl =\n",
              "        document.querySelector('#df-3274f3d1-5d87-4326-84ec-9c4dd7cf7e85 button');\n",
              "      quickchartButtonEl.style.display =\n",
              "        google.colab.kernel.accessAllowed ? 'block' : 'none';\n",
              "    })();\n",
              "  </script>\n",
              "</div>\n",
              "    </div>\n",
              "  </div>\n"
            ]
          },
          "metadata": {},
          "execution_count": 14
        }
      ],
      "source": [
        "hypothesis_ice.head(3).drop(labels='index', axis=1)"
      ]
    },
    {
      "cell_type": "code",
      "execution_count": 15,
      "metadata": {
        "scrolled": true,
        "colab": {
          "base_uri": "https://localhost:8080/",
          "height": 35
        },
        "id": "brQ_o-Tq8fp5",
        "outputId": "6befdda5-45ba-457c-fd83-7954d57d06b5"
      },
      "outputs": [
        {
          "output_type": "execute_result",
          "data": {
            "text/plain": [
              "'Запустить акцию, дающую скидку на товар в день рождения'"
            ],
            "application/vnd.google.colaboratory.intrinsic+json": {
              "type": "string"
            }
          },
          "metadata": {},
          "execution_count": 15
        }
      ],
      "source": [
        "hypothesis_ice['hypothesis'][0]"
      ]
    },
    {
      "cell_type": "markdown",
      "metadata": {
        "id": "Ue0ofYhC8fp6"
      },
      "source": [
        "Применяем фреймворк RICE для приоритизации гипотез"
      ]
    },
    {
      "cell_type": "code",
      "execution_count": 16,
      "metadata": {
        "id": "9dWWz27W8fp7"
      },
      "outputs": [],
      "source": [
        "hypothesis['RICE'] = (hypothesis['reach'] *\n",
        "               hypothesis['impact'] *\n",
        "               hypothesis['confidence'] /\n",
        "               hypothesis['efforts']).astype(int)\n",
        "hypothesis_rice = hypothesis.sort_values(by='RICE', ascending=False).reset_index()"
      ]
    },
    {
      "cell_type": "code",
      "execution_count": 17,
      "metadata": {
        "colab": {
          "base_uri": "https://localhost:8080/",
          "height": 196
        },
        "id": "LIe3E3nj8fp7",
        "outputId": "bfce2a3e-a91b-48e6-9341-59df3de2c887"
      },
      "outputs": [
        {
          "output_type": "execute_result",
          "data": {
            "text/plain": [
              "                                                                                                     hypothesis  \\\n",
              "0              Добавить форму подписки на все основные страницы, чтобы собрать базу клиентов для email-рассылок   \n",
              "1  Добавить блоки рекомендаций товаров на сайт интернет магазина, чтобы повысить конверсию и средний чек заказа   \n",
              "2            Добавить два новых канала привлечения трафика, что позволит привлекать на 30% больше пользователей   \n",
              "\n",
              "   reach  impact  confidence  efforts  ICE  RICE  \n",
              "0     10       7           8        5   11   112  \n",
              "1      8       3           7        3    7    56  \n",
              "2      3      10           8        6   13    40  "
            ],
            "text/html": [
              "\n",
              "  <div id=\"df-e15f620b-ad11-4f66-9b33-af2164b92018\" class=\"colab-df-container\">\n",
              "    <div>\n",
              "<style scoped>\n",
              "    .dataframe tbody tr th:only-of-type {\n",
              "        vertical-align: middle;\n",
              "    }\n",
              "\n",
              "    .dataframe tbody tr th {\n",
              "        vertical-align: top;\n",
              "    }\n",
              "\n",
              "    .dataframe thead th {\n",
              "        text-align: right;\n",
              "    }\n",
              "</style>\n",
              "<table border=\"1\" class=\"dataframe\">\n",
              "  <thead>\n",
              "    <tr style=\"text-align: right;\">\n",
              "      <th></th>\n",
              "      <th>hypothesis</th>\n",
              "      <th>reach</th>\n",
              "      <th>impact</th>\n",
              "      <th>confidence</th>\n",
              "      <th>efforts</th>\n",
              "      <th>ICE</th>\n",
              "      <th>RICE</th>\n",
              "    </tr>\n",
              "  </thead>\n",
              "  <tbody>\n",
              "    <tr>\n",
              "      <th>0</th>\n",
              "      <td>Добавить форму подписки на все основные страницы, чтобы собрать базу клиентов для email-рассылок</td>\n",
              "      <td>10</td>\n",
              "      <td>7</td>\n",
              "      <td>8</td>\n",
              "      <td>5</td>\n",
              "      <td>11</td>\n",
              "      <td>112</td>\n",
              "    </tr>\n",
              "    <tr>\n",
              "      <th>1</th>\n",
              "      <td>Добавить блоки рекомендаций товаров на сайт интернет магазина, чтобы повысить конверсию и средний чек заказа</td>\n",
              "      <td>8</td>\n",
              "      <td>3</td>\n",
              "      <td>7</td>\n",
              "      <td>3</td>\n",
              "      <td>7</td>\n",
              "      <td>56</td>\n",
              "    </tr>\n",
              "    <tr>\n",
              "      <th>2</th>\n",
              "      <td>Добавить два новых канала привлечения трафика, что позволит привлекать на 30% больше пользователей</td>\n",
              "      <td>3</td>\n",
              "      <td>10</td>\n",
              "      <td>8</td>\n",
              "      <td>6</td>\n",
              "      <td>13</td>\n",
              "      <td>40</td>\n",
              "    </tr>\n",
              "  </tbody>\n",
              "</table>\n",
              "</div>\n",
              "    <div class=\"colab-df-buttons\">\n",
              "\n",
              "  <div class=\"colab-df-container\">\n",
              "    <button class=\"colab-df-convert\" onclick=\"convertToInteractive('df-e15f620b-ad11-4f66-9b33-af2164b92018')\"\n",
              "            title=\"Convert this dataframe to an interactive table.\"\n",
              "            style=\"display:none;\">\n",
              "\n",
              "  <svg xmlns=\"http://www.w3.org/2000/svg\" height=\"24px\" viewBox=\"0 -960 960 960\">\n",
              "    <path d=\"M120-120v-720h720v720H120Zm60-500h600v-160H180v160Zm220 220h160v-160H400v160Zm0 220h160v-160H400v160ZM180-400h160v-160H180v160Zm440 0h160v-160H620v160ZM180-180h160v-160H180v160Zm440 0h160v-160H620v160Z\"/>\n",
              "  </svg>\n",
              "    </button>\n",
              "\n",
              "  <style>\n",
              "    .colab-df-container {\n",
              "      display:flex;\n",
              "      gap: 12px;\n",
              "    }\n",
              "\n",
              "    .colab-df-convert {\n",
              "      background-color: #E8F0FE;\n",
              "      border: none;\n",
              "      border-radius: 50%;\n",
              "      cursor: pointer;\n",
              "      display: none;\n",
              "      fill: #1967D2;\n",
              "      height: 32px;\n",
              "      padding: 0 0 0 0;\n",
              "      width: 32px;\n",
              "    }\n",
              "\n",
              "    .colab-df-convert:hover {\n",
              "      background-color: #E2EBFA;\n",
              "      box-shadow: 0px 1px 2px rgba(60, 64, 67, 0.3), 0px 1px 3px 1px rgba(60, 64, 67, 0.15);\n",
              "      fill: #174EA6;\n",
              "    }\n",
              "\n",
              "    .colab-df-buttons div {\n",
              "      margin-bottom: 4px;\n",
              "    }\n",
              "\n",
              "    [theme=dark] .colab-df-convert {\n",
              "      background-color: #3B4455;\n",
              "      fill: #D2E3FC;\n",
              "    }\n",
              "\n",
              "    [theme=dark] .colab-df-convert:hover {\n",
              "      background-color: #434B5C;\n",
              "      box-shadow: 0px 1px 3px 1px rgba(0, 0, 0, 0.15);\n",
              "      filter: drop-shadow(0px 1px 2px rgba(0, 0, 0, 0.3));\n",
              "      fill: #FFFFFF;\n",
              "    }\n",
              "  </style>\n",
              "\n",
              "    <script>\n",
              "      const buttonEl =\n",
              "        document.querySelector('#df-e15f620b-ad11-4f66-9b33-af2164b92018 button.colab-df-convert');\n",
              "      buttonEl.style.display =\n",
              "        google.colab.kernel.accessAllowed ? 'block' : 'none';\n",
              "\n",
              "      async function convertToInteractive(key) {\n",
              "        const element = document.querySelector('#df-e15f620b-ad11-4f66-9b33-af2164b92018');\n",
              "        const dataTable =\n",
              "          await google.colab.kernel.invokeFunction('convertToInteractive',\n",
              "                                                    [key], {});\n",
              "        if (!dataTable) return;\n",
              "\n",
              "        const docLinkHtml = 'Like what you see? Visit the ' +\n",
              "          '<a target=\"_blank\" href=https://colab.research.google.com/notebooks/data_table.ipynb>data table notebook</a>'\n",
              "          + ' to learn more about interactive tables.';\n",
              "        element.innerHTML = '';\n",
              "        dataTable['output_type'] = 'display_data';\n",
              "        await google.colab.output.renderOutput(dataTable, element);\n",
              "        const docLink = document.createElement('div');\n",
              "        docLink.innerHTML = docLinkHtml;\n",
              "        element.appendChild(docLink);\n",
              "      }\n",
              "    </script>\n",
              "  </div>\n",
              "\n",
              "\n",
              "<div id=\"df-bd426f11-68db-4775-bea3-7b025d53d738\">\n",
              "  <button class=\"colab-df-quickchart\" onclick=\"quickchart('df-bd426f11-68db-4775-bea3-7b025d53d738')\"\n",
              "            title=\"Suggest charts.\"\n",
              "            style=\"display:none;\">\n",
              "\n",
              "<svg xmlns=\"http://www.w3.org/2000/svg\" height=\"24px\"viewBox=\"0 0 24 24\"\n",
              "     width=\"24px\">\n",
              "    <g>\n",
              "        <path d=\"M19 3H5c-1.1 0-2 .9-2 2v14c0 1.1.9 2 2 2h14c1.1 0 2-.9 2-2V5c0-1.1-.9-2-2-2zM9 17H7v-7h2v7zm4 0h-2V7h2v10zm4 0h-2v-4h2v4z\"/>\n",
              "    </g>\n",
              "</svg>\n",
              "  </button>\n",
              "\n",
              "<style>\n",
              "  .colab-df-quickchart {\n",
              "      --bg-color: #E8F0FE;\n",
              "      --fill-color: #1967D2;\n",
              "      --hover-bg-color: #E2EBFA;\n",
              "      --hover-fill-color: #174EA6;\n",
              "      --disabled-fill-color: #AAA;\n",
              "      --disabled-bg-color: #DDD;\n",
              "  }\n",
              "\n",
              "  [theme=dark] .colab-df-quickchart {\n",
              "      --bg-color: #3B4455;\n",
              "      --fill-color: #D2E3FC;\n",
              "      --hover-bg-color: #434B5C;\n",
              "      --hover-fill-color: #FFFFFF;\n",
              "      --disabled-bg-color: #3B4455;\n",
              "      --disabled-fill-color: #666;\n",
              "  }\n",
              "\n",
              "  .colab-df-quickchart {\n",
              "    background-color: var(--bg-color);\n",
              "    border: none;\n",
              "    border-radius: 50%;\n",
              "    cursor: pointer;\n",
              "    display: none;\n",
              "    fill: var(--fill-color);\n",
              "    height: 32px;\n",
              "    padding: 0;\n",
              "    width: 32px;\n",
              "  }\n",
              "\n",
              "  .colab-df-quickchart:hover {\n",
              "    background-color: var(--hover-bg-color);\n",
              "    box-shadow: 0 1px 2px rgba(60, 64, 67, 0.3), 0 1px 3px 1px rgba(60, 64, 67, 0.15);\n",
              "    fill: var(--button-hover-fill-color);\n",
              "  }\n",
              "\n",
              "  .colab-df-quickchart-complete:disabled,\n",
              "  .colab-df-quickchart-complete:disabled:hover {\n",
              "    background-color: var(--disabled-bg-color);\n",
              "    fill: var(--disabled-fill-color);\n",
              "    box-shadow: none;\n",
              "  }\n",
              "\n",
              "  .colab-df-spinner {\n",
              "    border: 2px solid var(--fill-color);\n",
              "    border-color: transparent;\n",
              "    border-bottom-color: var(--fill-color);\n",
              "    animation:\n",
              "      spin 1s steps(1) infinite;\n",
              "  }\n",
              "\n",
              "  @keyframes spin {\n",
              "    0% {\n",
              "      border-color: transparent;\n",
              "      border-bottom-color: var(--fill-color);\n",
              "      border-left-color: var(--fill-color);\n",
              "    }\n",
              "    20% {\n",
              "      border-color: transparent;\n",
              "      border-left-color: var(--fill-color);\n",
              "      border-top-color: var(--fill-color);\n",
              "    }\n",
              "    30% {\n",
              "      border-color: transparent;\n",
              "      border-left-color: var(--fill-color);\n",
              "      border-top-color: var(--fill-color);\n",
              "      border-right-color: var(--fill-color);\n",
              "    }\n",
              "    40% {\n",
              "      border-color: transparent;\n",
              "      border-right-color: var(--fill-color);\n",
              "      border-top-color: var(--fill-color);\n",
              "    }\n",
              "    60% {\n",
              "      border-color: transparent;\n",
              "      border-right-color: var(--fill-color);\n",
              "    }\n",
              "    80% {\n",
              "      border-color: transparent;\n",
              "      border-right-color: var(--fill-color);\n",
              "      border-bottom-color: var(--fill-color);\n",
              "    }\n",
              "    90% {\n",
              "      border-color: transparent;\n",
              "      border-bottom-color: var(--fill-color);\n",
              "    }\n",
              "  }\n",
              "</style>\n",
              "\n",
              "  <script>\n",
              "    async function quickchart(key) {\n",
              "      const quickchartButtonEl =\n",
              "        document.querySelector('#' + key + ' button');\n",
              "      quickchartButtonEl.disabled = true;  // To prevent multiple clicks.\n",
              "      quickchartButtonEl.classList.add('colab-df-spinner');\n",
              "      try {\n",
              "        const charts = await google.colab.kernel.invokeFunction(\n",
              "            'suggestCharts', [key], {});\n",
              "      } catch (error) {\n",
              "        console.error('Error during call to suggestCharts:', error);\n",
              "      }\n",
              "      quickchartButtonEl.classList.remove('colab-df-spinner');\n",
              "      quickchartButtonEl.classList.add('colab-df-quickchart-complete');\n",
              "    }\n",
              "    (() => {\n",
              "      let quickchartButtonEl =\n",
              "        document.querySelector('#df-bd426f11-68db-4775-bea3-7b025d53d738 button');\n",
              "      quickchartButtonEl.style.display =\n",
              "        google.colab.kernel.accessAllowed ? 'block' : 'none';\n",
              "    })();\n",
              "  </script>\n",
              "</div>\n",
              "    </div>\n",
              "  </div>\n"
            ]
          },
          "metadata": {},
          "execution_count": 17
        }
      ],
      "source": [
        "hypothesis_rice.head(3).drop(labels='index', axis=1)"
      ]
    },
    {
      "cell_type": "code",
      "execution_count": 18,
      "metadata": {
        "colab": {
          "base_uri": "https://localhost:8080/",
          "height": 35
        },
        "id": "eRt7n-gS8fp8",
        "outputId": "72998ba4-472e-4ff3-98df-3a230edbb21d"
      },
      "outputs": [
        {
          "output_type": "execute_result",
          "data": {
            "text/plain": [
              "'Добавить форму подписки на все основные страницы, чтобы собрать базу клиентов для email-рассылок'"
            ],
            "application/vnd.google.colaboratory.intrinsic+json": {
              "type": "string"
            }
          },
          "metadata": {},
          "execution_count": 18
        }
      ],
      "source": [
        "hypothesis_rice['hypothesis'][0]"
      ]
    },
    {
      "cell_type": "markdown",
      "metadata": {
        "id": "v-GvdDSL8fp9"
      },
      "source": [
        "Выводы"
      ]
    },
    {
      "cell_type": "markdown",
      "metadata": {
        "id": "FVf_Fsty8fp9"
      },
      "source": [
        "При применении фреймворка ICE приоритетной гипотезой оказалась гипотеза о скидке на день рождения. При применении RICE на первом месте находится гипотеза о форме подписки на email-рассылки. Различия в приоритетах обусловлены тем, что во фреймворке ICE не учитывается параметр охвата пользователей, которых затронет изменение. Поэтому из таблицы видно, что параметр reach у приоритетной гипотезы ICE равен 1. Возможно, это объясняется тем, что только небольшое количество пользователей готовы предоставить свои личные данные. В случае RICE параметр количества пользователей значительно влияет на итоговое число, поскольку данное изменение скорее всего охватит всех пользователей."
      ]
    },
    {
      "cell_type": "markdown",
      "metadata": {
        "id": "VtNwy6Io8fp_"
      },
      "source": [
        "# Часть 2. Анализ A/B-теста"
      ]
    },
    {
      "cell_type": "markdown",
      "metadata": {
        "id": "UDDcV9do8fp_"
      },
      "source": [
        "## Выгружаем данные"
      ]
    },
    {
      "cell_type": "code",
      "execution_count": 21,
      "metadata": {
        "id": "K3BEkcjI8fp_"
      },
      "outputs": [],
      "source": [
        "orders = pd.read_csv('orders.csv')\n",
        "visitors = pd.read_csv('visitors.csv')"
      ]
    },
    {
      "cell_type": "code",
      "execution_count": 22,
      "metadata": {
        "colab": {
          "base_uri": "https://localhost:8080/",
          "height": 267
        },
        "id": "edg4nV6J8fqA",
        "outputId": "7edfb561-3447-4ab8-d47b-852e38cbbb38"
      },
      "outputs": [
        {
          "output_type": "stream",
          "name": "stdout",
          "text": [
            "<class 'pandas.core.frame.DataFrame'>\n",
            "RangeIndex: 1197 entries, 0 to 1196\n",
            "Data columns (total 5 columns):\n",
            " #   Column         Non-Null Count  Dtype \n",
            "---  ------         --------------  ----- \n",
            " 0   transactionId  1197 non-null   int64 \n",
            " 1   visitorId      1197 non-null   int64 \n",
            " 2   date           1197 non-null   object\n",
            " 3   revenue        1197 non-null   int64 \n",
            " 4   group          1197 non-null   object\n",
            "dtypes: int64(3), object(2)\n",
            "memory usage: 46.9+ KB\n"
          ]
        },
        {
          "output_type": "display_data",
          "data": {
            "text/plain": [
              "None"
            ]
          },
          "metadata": {}
        },
        {
          "output_type": "display_data",
          "data": {
            "text/plain": [
              "0"
            ]
          },
          "metadata": {}
        }
      ],
      "source": [
        "display(orders.info())\n",
        "display(orders.duplicated().sum())"
      ]
    },
    {
      "cell_type": "code",
      "execution_count": 23,
      "metadata": {
        "colab": {
          "base_uri": "https://localhost:8080/",
          "height": 231
        },
        "id": "Eqn8fMo68fqB",
        "outputId": "534f05d7-a170-403c-9466-5a8b495d2829"
      },
      "outputs": [
        {
          "output_type": "stream",
          "name": "stdout",
          "text": [
            "<class 'pandas.core.frame.DataFrame'>\n",
            "RangeIndex: 62 entries, 0 to 61\n",
            "Data columns (total 3 columns):\n",
            " #   Column    Non-Null Count  Dtype \n",
            "---  ------    --------------  ----- \n",
            " 0   date      62 non-null     object\n",
            " 1   group     62 non-null     object\n",
            " 2   visitors  62 non-null     int64 \n",
            "dtypes: int64(1), object(2)\n",
            "memory usage: 1.6+ KB\n"
          ]
        },
        {
          "output_type": "display_data",
          "data": {
            "text/plain": [
              "None"
            ]
          },
          "metadata": {}
        },
        {
          "output_type": "display_data",
          "data": {
            "text/plain": [
              "0"
            ]
          },
          "metadata": {}
        }
      ],
      "source": [
        "display(visitors.info())\n",
        "display(visitors.duplicated().sum())"
      ]
    },
    {
      "cell_type": "code",
      "execution_count": 24,
      "metadata": {
        "colab": {
          "base_uri": "https://localhost:8080/",
          "height": 424
        },
        "id": "_1xeOnhH8fqB",
        "outputId": "71b77c46-ddb9-4aad-939a-34b53ef5c8ac"
      },
      "outputs": [
        {
          "output_type": "execute_result",
          "data": {
            "text/plain": [
              "      transactionId   visitorId       date  revenue group\n",
              "0        3667963787  3312258926 2019-08-15     1650     B\n",
              "1        2804400009  3642806036 2019-08-15      730     B\n",
              "2        2961555356  4069496402 2019-08-15      400     A\n",
              "3        3797467345  1196621759 2019-08-15     9759     B\n",
              "4        2282983706  2322279887 2019-08-15     2308     B\n",
              "...             ...         ...        ...      ...   ...\n",
              "1192     2662137336  3733762160 2019-08-14     6490     B\n",
              "1193     2203539145   370388673 2019-08-14     3190     A\n",
              "1194     1807773912   573423106 2019-08-14    10550     A\n",
              "1195     1947021204  1614305549 2019-08-14      100     A\n",
              "1196     3936777065  2108080724 2019-08-15   202740     B\n",
              "\n",
              "[1197 rows x 5 columns]"
            ],
            "text/html": [
              "\n",
              "  <div id=\"df-ca35ad84-8c87-4278-9b52-b8ad820d94aa\" class=\"colab-df-container\">\n",
              "    <div>\n",
              "<style scoped>\n",
              "    .dataframe tbody tr th:only-of-type {\n",
              "        vertical-align: middle;\n",
              "    }\n",
              "\n",
              "    .dataframe tbody tr th {\n",
              "        vertical-align: top;\n",
              "    }\n",
              "\n",
              "    .dataframe thead th {\n",
              "        text-align: right;\n",
              "    }\n",
              "</style>\n",
              "<table border=\"1\" class=\"dataframe\">\n",
              "  <thead>\n",
              "    <tr style=\"text-align: right;\">\n",
              "      <th></th>\n",
              "      <th>transactionId</th>\n",
              "      <th>visitorId</th>\n",
              "      <th>date</th>\n",
              "      <th>revenue</th>\n",
              "      <th>group</th>\n",
              "    </tr>\n",
              "  </thead>\n",
              "  <tbody>\n",
              "    <tr>\n",
              "      <th>0</th>\n",
              "      <td>3667963787</td>\n",
              "      <td>3312258926</td>\n",
              "      <td>2019-08-15</td>\n",
              "      <td>1650</td>\n",
              "      <td>B</td>\n",
              "    </tr>\n",
              "    <tr>\n",
              "      <th>1</th>\n",
              "      <td>2804400009</td>\n",
              "      <td>3642806036</td>\n",
              "      <td>2019-08-15</td>\n",
              "      <td>730</td>\n",
              "      <td>B</td>\n",
              "    </tr>\n",
              "    <tr>\n",
              "      <th>2</th>\n",
              "      <td>2961555356</td>\n",
              "      <td>4069496402</td>\n",
              "      <td>2019-08-15</td>\n",
              "      <td>400</td>\n",
              "      <td>A</td>\n",
              "    </tr>\n",
              "    <tr>\n",
              "      <th>3</th>\n",
              "      <td>3797467345</td>\n",
              "      <td>1196621759</td>\n",
              "      <td>2019-08-15</td>\n",
              "      <td>9759</td>\n",
              "      <td>B</td>\n",
              "    </tr>\n",
              "    <tr>\n",
              "      <th>4</th>\n",
              "      <td>2282983706</td>\n",
              "      <td>2322279887</td>\n",
              "      <td>2019-08-15</td>\n",
              "      <td>2308</td>\n",
              "      <td>B</td>\n",
              "    </tr>\n",
              "    <tr>\n",
              "      <th>...</th>\n",
              "      <td>...</td>\n",
              "      <td>...</td>\n",
              "      <td>...</td>\n",
              "      <td>...</td>\n",
              "      <td>...</td>\n",
              "    </tr>\n",
              "    <tr>\n",
              "      <th>1192</th>\n",
              "      <td>2662137336</td>\n",
              "      <td>3733762160</td>\n",
              "      <td>2019-08-14</td>\n",
              "      <td>6490</td>\n",
              "      <td>B</td>\n",
              "    </tr>\n",
              "    <tr>\n",
              "      <th>1193</th>\n",
              "      <td>2203539145</td>\n",
              "      <td>370388673</td>\n",
              "      <td>2019-08-14</td>\n",
              "      <td>3190</td>\n",
              "      <td>A</td>\n",
              "    </tr>\n",
              "    <tr>\n",
              "      <th>1194</th>\n",
              "      <td>1807773912</td>\n",
              "      <td>573423106</td>\n",
              "      <td>2019-08-14</td>\n",
              "      <td>10550</td>\n",
              "      <td>A</td>\n",
              "    </tr>\n",
              "    <tr>\n",
              "      <th>1195</th>\n",
              "      <td>1947021204</td>\n",
              "      <td>1614305549</td>\n",
              "      <td>2019-08-14</td>\n",
              "      <td>100</td>\n",
              "      <td>A</td>\n",
              "    </tr>\n",
              "    <tr>\n",
              "      <th>1196</th>\n",
              "      <td>3936777065</td>\n",
              "      <td>2108080724</td>\n",
              "      <td>2019-08-15</td>\n",
              "      <td>202740</td>\n",
              "      <td>B</td>\n",
              "    </tr>\n",
              "  </tbody>\n",
              "</table>\n",
              "<p>1197 rows × 5 columns</p>\n",
              "</div>\n",
              "    <div class=\"colab-df-buttons\">\n",
              "\n",
              "  <div class=\"colab-df-container\">\n",
              "    <button class=\"colab-df-convert\" onclick=\"convertToInteractive('df-ca35ad84-8c87-4278-9b52-b8ad820d94aa')\"\n",
              "            title=\"Convert this dataframe to an interactive table.\"\n",
              "            style=\"display:none;\">\n",
              "\n",
              "  <svg xmlns=\"http://www.w3.org/2000/svg\" height=\"24px\" viewBox=\"0 -960 960 960\">\n",
              "    <path d=\"M120-120v-720h720v720H120Zm60-500h600v-160H180v160Zm220 220h160v-160H400v160Zm0 220h160v-160H400v160ZM180-400h160v-160H180v160Zm440 0h160v-160H620v160ZM180-180h160v-160H180v160Zm440 0h160v-160H620v160Z\"/>\n",
              "  </svg>\n",
              "    </button>\n",
              "\n",
              "  <style>\n",
              "    .colab-df-container {\n",
              "      display:flex;\n",
              "      gap: 12px;\n",
              "    }\n",
              "\n",
              "    .colab-df-convert {\n",
              "      background-color: #E8F0FE;\n",
              "      border: none;\n",
              "      border-radius: 50%;\n",
              "      cursor: pointer;\n",
              "      display: none;\n",
              "      fill: #1967D2;\n",
              "      height: 32px;\n",
              "      padding: 0 0 0 0;\n",
              "      width: 32px;\n",
              "    }\n",
              "\n",
              "    .colab-df-convert:hover {\n",
              "      background-color: #E2EBFA;\n",
              "      box-shadow: 0px 1px 2px rgba(60, 64, 67, 0.3), 0px 1px 3px 1px rgba(60, 64, 67, 0.15);\n",
              "      fill: #174EA6;\n",
              "    }\n",
              "\n",
              "    .colab-df-buttons div {\n",
              "      margin-bottom: 4px;\n",
              "    }\n",
              "\n",
              "    [theme=dark] .colab-df-convert {\n",
              "      background-color: #3B4455;\n",
              "      fill: #D2E3FC;\n",
              "    }\n",
              "\n",
              "    [theme=dark] .colab-df-convert:hover {\n",
              "      background-color: #434B5C;\n",
              "      box-shadow: 0px 1px 3px 1px rgba(0, 0, 0, 0.15);\n",
              "      filter: drop-shadow(0px 1px 2px rgba(0, 0, 0, 0.3));\n",
              "      fill: #FFFFFF;\n",
              "    }\n",
              "  </style>\n",
              "\n",
              "    <script>\n",
              "      const buttonEl =\n",
              "        document.querySelector('#df-ca35ad84-8c87-4278-9b52-b8ad820d94aa button.colab-df-convert');\n",
              "      buttonEl.style.display =\n",
              "        google.colab.kernel.accessAllowed ? 'block' : 'none';\n",
              "\n",
              "      async function convertToInteractive(key) {\n",
              "        const element = document.querySelector('#df-ca35ad84-8c87-4278-9b52-b8ad820d94aa');\n",
              "        const dataTable =\n",
              "          await google.colab.kernel.invokeFunction('convertToInteractive',\n",
              "                                                    [key], {});\n",
              "        if (!dataTable) return;\n",
              "\n",
              "        const docLinkHtml = 'Like what you see? Visit the ' +\n",
              "          '<a target=\"_blank\" href=https://colab.research.google.com/notebooks/data_table.ipynb>data table notebook</a>'\n",
              "          + ' to learn more about interactive tables.';\n",
              "        element.innerHTML = '';\n",
              "        dataTable['output_type'] = 'display_data';\n",
              "        await google.colab.output.renderOutput(dataTable, element);\n",
              "        const docLink = document.createElement('div');\n",
              "        docLink.innerHTML = docLinkHtml;\n",
              "        element.appendChild(docLink);\n",
              "      }\n",
              "    </script>\n",
              "  </div>\n",
              "\n",
              "\n",
              "<div id=\"df-fb3cb11a-4f77-4856-85b4-8a3117abafaf\">\n",
              "  <button class=\"colab-df-quickchart\" onclick=\"quickchart('df-fb3cb11a-4f77-4856-85b4-8a3117abafaf')\"\n",
              "            title=\"Suggest charts.\"\n",
              "            style=\"display:none;\">\n",
              "\n",
              "<svg xmlns=\"http://www.w3.org/2000/svg\" height=\"24px\"viewBox=\"0 0 24 24\"\n",
              "     width=\"24px\">\n",
              "    <g>\n",
              "        <path d=\"M19 3H5c-1.1 0-2 .9-2 2v14c0 1.1.9 2 2 2h14c1.1 0 2-.9 2-2V5c0-1.1-.9-2-2-2zM9 17H7v-7h2v7zm4 0h-2V7h2v10zm4 0h-2v-4h2v4z\"/>\n",
              "    </g>\n",
              "</svg>\n",
              "  </button>\n",
              "\n",
              "<style>\n",
              "  .colab-df-quickchart {\n",
              "      --bg-color: #E8F0FE;\n",
              "      --fill-color: #1967D2;\n",
              "      --hover-bg-color: #E2EBFA;\n",
              "      --hover-fill-color: #174EA6;\n",
              "      --disabled-fill-color: #AAA;\n",
              "      --disabled-bg-color: #DDD;\n",
              "  }\n",
              "\n",
              "  [theme=dark] .colab-df-quickchart {\n",
              "      --bg-color: #3B4455;\n",
              "      --fill-color: #D2E3FC;\n",
              "      --hover-bg-color: #434B5C;\n",
              "      --hover-fill-color: #FFFFFF;\n",
              "      --disabled-bg-color: #3B4455;\n",
              "      --disabled-fill-color: #666;\n",
              "  }\n",
              "\n",
              "  .colab-df-quickchart {\n",
              "    background-color: var(--bg-color);\n",
              "    border: none;\n",
              "    border-radius: 50%;\n",
              "    cursor: pointer;\n",
              "    display: none;\n",
              "    fill: var(--fill-color);\n",
              "    height: 32px;\n",
              "    padding: 0;\n",
              "    width: 32px;\n",
              "  }\n",
              "\n",
              "  .colab-df-quickchart:hover {\n",
              "    background-color: var(--hover-bg-color);\n",
              "    box-shadow: 0 1px 2px rgba(60, 64, 67, 0.3), 0 1px 3px 1px rgba(60, 64, 67, 0.15);\n",
              "    fill: var(--button-hover-fill-color);\n",
              "  }\n",
              "\n",
              "  .colab-df-quickchart-complete:disabled,\n",
              "  .colab-df-quickchart-complete:disabled:hover {\n",
              "    background-color: var(--disabled-bg-color);\n",
              "    fill: var(--disabled-fill-color);\n",
              "    box-shadow: none;\n",
              "  }\n",
              "\n",
              "  .colab-df-spinner {\n",
              "    border: 2px solid var(--fill-color);\n",
              "    border-color: transparent;\n",
              "    border-bottom-color: var(--fill-color);\n",
              "    animation:\n",
              "      spin 1s steps(1) infinite;\n",
              "  }\n",
              "\n",
              "  @keyframes spin {\n",
              "    0% {\n",
              "      border-color: transparent;\n",
              "      border-bottom-color: var(--fill-color);\n",
              "      border-left-color: var(--fill-color);\n",
              "    }\n",
              "    20% {\n",
              "      border-color: transparent;\n",
              "      border-left-color: var(--fill-color);\n",
              "      border-top-color: var(--fill-color);\n",
              "    }\n",
              "    30% {\n",
              "      border-color: transparent;\n",
              "      border-left-color: var(--fill-color);\n",
              "      border-top-color: var(--fill-color);\n",
              "      border-right-color: var(--fill-color);\n",
              "    }\n",
              "    40% {\n",
              "      border-color: transparent;\n",
              "      border-right-color: var(--fill-color);\n",
              "      border-top-color: var(--fill-color);\n",
              "    }\n",
              "    60% {\n",
              "      border-color: transparent;\n",
              "      border-right-color: var(--fill-color);\n",
              "    }\n",
              "    80% {\n",
              "      border-color: transparent;\n",
              "      border-right-color: var(--fill-color);\n",
              "      border-bottom-color: var(--fill-color);\n",
              "    }\n",
              "    90% {\n",
              "      border-color: transparent;\n",
              "      border-bottom-color: var(--fill-color);\n",
              "    }\n",
              "  }\n",
              "</style>\n",
              "\n",
              "  <script>\n",
              "    async function quickchart(key) {\n",
              "      const quickchartButtonEl =\n",
              "        document.querySelector('#' + key + ' button');\n",
              "      quickchartButtonEl.disabled = true;  // To prevent multiple clicks.\n",
              "      quickchartButtonEl.classList.add('colab-df-spinner');\n",
              "      try {\n",
              "        const charts = await google.colab.kernel.invokeFunction(\n",
              "            'suggestCharts', [key], {});\n",
              "      } catch (error) {\n",
              "        console.error('Error during call to suggestCharts:', error);\n",
              "      }\n",
              "      quickchartButtonEl.classList.remove('colab-df-spinner');\n",
              "      quickchartButtonEl.classList.add('colab-df-quickchart-complete');\n",
              "    }\n",
              "    (() => {\n",
              "      let quickchartButtonEl =\n",
              "        document.querySelector('#df-fb3cb11a-4f77-4856-85b4-8a3117abafaf button');\n",
              "      quickchartButtonEl.style.display =\n",
              "        google.colab.kernel.accessAllowed ? 'block' : 'none';\n",
              "    })();\n",
              "  </script>\n",
              "</div>\n",
              "    </div>\n",
              "  </div>\n"
            ]
          },
          "metadata": {},
          "execution_count": 24
        }
      ],
      "source": [
        "orders['date'] = orders['date'].map(\n",
        "    lambda x: dt.datetime.strptime(x, '%Y-%m-%d')\n",
        ")\n",
        "orders"
      ]
    },
    {
      "cell_type": "markdown",
      "metadata": {
        "id": "Ww41BLiN8fqC"
      },
      "source": [
        "- transactionId ;\n",
        "- visitorId ;\n",
        "- date ;\n",
        "- revenue ;\n",
        "- group ."
      ]
    },
    {
      "cell_type": "code",
      "execution_count": 25,
      "metadata": {
        "colab": {
          "base_uri": "https://localhost:8080/",
          "height": 424
        },
        "id": "kl83all08fqC",
        "outputId": "0582598d-44ce-4b40-bf25-56277c66b49a"
      },
      "outputs": [
        {
          "output_type": "execute_result",
          "data": {
            "text/plain": [
              "         date group  visitors\n",
              "0  2019-08-01     A       719\n",
              "1  2019-08-02     A       619\n",
              "2  2019-08-03     A       507\n",
              "3  2019-08-04     A       717\n",
              "4  2019-08-05     A       756\n",
              "..        ...   ...       ...\n",
              "57 2019-08-27     B       720\n",
              "58 2019-08-28     B       654\n",
              "59 2019-08-29     B       531\n",
              "60 2019-08-30     B       490\n",
              "61 2019-08-31     B       718\n",
              "\n",
              "[62 rows x 3 columns]"
            ],
            "text/html": [
              "\n",
              "  <div id=\"df-7579589a-24ba-4571-a137-0a83288cdb44\" class=\"colab-df-container\">\n",
              "    <div>\n",
              "<style scoped>\n",
              "    .dataframe tbody tr th:only-of-type {\n",
              "        vertical-align: middle;\n",
              "    }\n",
              "\n",
              "    .dataframe tbody tr th {\n",
              "        vertical-align: top;\n",
              "    }\n",
              "\n",
              "    .dataframe thead th {\n",
              "        text-align: right;\n",
              "    }\n",
              "</style>\n",
              "<table border=\"1\" class=\"dataframe\">\n",
              "  <thead>\n",
              "    <tr style=\"text-align: right;\">\n",
              "      <th></th>\n",
              "      <th>date</th>\n",
              "      <th>group</th>\n",
              "      <th>visitors</th>\n",
              "    </tr>\n",
              "  </thead>\n",
              "  <tbody>\n",
              "    <tr>\n",
              "      <th>0</th>\n",
              "      <td>2019-08-01</td>\n",
              "      <td>A</td>\n",
              "      <td>719</td>\n",
              "    </tr>\n",
              "    <tr>\n",
              "      <th>1</th>\n",
              "      <td>2019-08-02</td>\n",
              "      <td>A</td>\n",
              "      <td>619</td>\n",
              "    </tr>\n",
              "    <tr>\n",
              "      <th>2</th>\n",
              "      <td>2019-08-03</td>\n",
              "      <td>A</td>\n",
              "      <td>507</td>\n",
              "    </tr>\n",
              "    <tr>\n",
              "      <th>3</th>\n",
              "      <td>2019-08-04</td>\n",
              "      <td>A</td>\n",
              "      <td>717</td>\n",
              "    </tr>\n",
              "    <tr>\n",
              "      <th>4</th>\n",
              "      <td>2019-08-05</td>\n",
              "      <td>A</td>\n",
              "      <td>756</td>\n",
              "    </tr>\n",
              "    <tr>\n",
              "      <th>...</th>\n",
              "      <td>...</td>\n",
              "      <td>...</td>\n",
              "      <td>...</td>\n",
              "    </tr>\n",
              "    <tr>\n",
              "      <th>57</th>\n",
              "      <td>2019-08-27</td>\n",
              "      <td>B</td>\n",
              "      <td>720</td>\n",
              "    </tr>\n",
              "    <tr>\n",
              "      <th>58</th>\n",
              "      <td>2019-08-28</td>\n",
              "      <td>B</td>\n",
              "      <td>654</td>\n",
              "    </tr>\n",
              "    <tr>\n",
              "      <th>59</th>\n",
              "      <td>2019-08-29</td>\n",
              "      <td>B</td>\n",
              "      <td>531</td>\n",
              "    </tr>\n",
              "    <tr>\n",
              "      <th>60</th>\n",
              "      <td>2019-08-30</td>\n",
              "      <td>B</td>\n",
              "      <td>490</td>\n",
              "    </tr>\n",
              "    <tr>\n",
              "      <th>61</th>\n",
              "      <td>2019-08-31</td>\n",
              "      <td>B</td>\n",
              "      <td>718</td>\n",
              "    </tr>\n",
              "  </tbody>\n",
              "</table>\n",
              "<p>62 rows × 3 columns</p>\n",
              "</div>\n",
              "    <div class=\"colab-df-buttons\">\n",
              "\n",
              "  <div class=\"colab-df-container\">\n",
              "    <button class=\"colab-df-convert\" onclick=\"convertToInteractive('df-7579589a-24ba-4571-a137-0a83288cdb44')\"\n",
              "            title=\"Convert this dataframe to an interactive table.\"\n",
              "            style=\"display:none;\">\n",
              "\n",
              "  <svg xmlns=\"http://www.w3.org/2000/svg\" height=\"24px\" viewBox=\"0 -960 960 960\">\n",
              "    <path d=\"M120-120v-720h720v720H120Zm60-500h600v-160H180v160Zm220 220h160v-160H400v160Zm0 220h160v-160H400v160ZM180-400h160v-160H180v160Zm440 0h160v-160H620v160ZM180-180h160v-160H180v160Zm440 0h160v-160H620v160Z\"/>\n",
              "  </svg>\n",
              "    </button>\n",
              "\n",
              "  <style>\n",
              "    .colab-df-container {\n",
              "      display:flex;\n",
              "      gap: 12px;\n",
              "    }\n",
              "\n",
              "    .colab-df-convert {\n",
              "      background-color: #E8F0FE;\n",
              "      border: none;\n",
              "      border-radius: 50%;\n",
              "      cursor: pointer;\n",
              "      display: none;\n",
              "      fill: #1967D2;\n",
              "      height: 32px;\n",
              "      padding: 0 0 0 0;\n",
              "      width: 32px;\n",
              "    }\n",
              "\n",
              "    .colab-df-convert:hover {\n",
              "      background-color: #E2EBFA;\n",
              "      box-shadow: 0px 1px 2px rgba(60, 64, 67, 0.3), 0px 1px 3px 1px rgba(60, 64, 67, 0.15);\n",
              "      fill: #174EA6;\n",
              "    }\n",
              "\n",
              "    .colab-df-buttons div {\n",
              "      margin-bottom: 4px;\n",
              "    }\n",
              "\n",
              "    [theme=dark] .colab-df-convert {\n",
              "      background-color: #3B4455;\n",
              "      fill: #D2E3FC;\n",
              "    }\n",
              "\n",
              "    [theme=dark] .colab-df-convert:hover {\n",
              "      background-color: #434B5C;\n",
              "      box-shadow: 0px 1px 3px 1px rgba(0, 0, 0, 0.15);\n",
              "      filter: drop-shadow(0px 1px 2px rgba(0, 0, 0, 0.3));\n",
              "      fill: #FFFFFF;\n",
              "    }\n",
              "  </style>\n",
              "\n",
              "    <script>\n",
              "      const buttonEl =\n",
              "        document.querySelector('#df-7579589a-24ba-4571-a137-0a83288cdb44 button.colab-df-convert');\n",
              "      buttonEl.style.display =\n",
              "        google.colab.kernel.accessAllowed ? 'block' : 'none';\n",
              "\n",
              "      async function convertToInteractive(key) {\n",
              "        const element = document.querySelector('#df-7579589a-24ba-4571-a137-0a83288cdb44');\n",
              "        const dataTable =\n",
              "          await google.colab.kernel.invokeFunction('convertToInteractive',\n",
              "                                                    [key], {});\n",
              "        if (!dataTable) return;\n",
              "\n",
              "        const docLinkHtml = 'Like what you see? Visit the ' +\n",
              "          '<a target=\"_blank\" href=https://colab.research.google.com/notebooks/data_table.ipynb>data table notebook</a>'\n",
              "          + ' to learn more about interactive tables.';\n",
              "        element.innerHTML = '';\n",
              "        dataTable['output_type'] = 'display_data';\n",
              "        await google.colab.output.renderOutput(dataTable, element);\n",
              "        const docLink = document.createElement('div');\n",
              "        docLink.innerHTML = docLinkHtml;\n",
              "        element.appendChild(docLink);\n",
              "      }\n",
              "    </script>\n",
              "  </div>\n",
              "\n",
              "\n",
              "<div id=\"df-dc22e277-066d-4c8a-9d5a-fcd17e079e92\">\n",
              "  <button class=\"colab-df-quickchart\" onclick=\"quickchart('df-dc22e277-066d-4c8a-9d5a-fcd17e079e92')\"\n",
              "            title=\"Suggest charts.\"\n",
              "            style=\"display:none;\">\n",
              "\n",
              "<svg xmlns=\"http://www.w3.org/2000/svg\" height=\"24px\"viewBox=\"0 0 24 24\"\n",
              "     width=\"24px\">\n",
              "    <g>\n",
              "        <path d=\"M19 3H5c-1.1 0-2 .9-2 2v14c0 1.1.9 2 2 2h14c1.1 0 2-.9 2-2V5c0-1.1-.9-2-2-2zM9 17H7v-7h2v7zm4 0h-2V7h2v10zm4 0h-2v-4h2v4z\"/>\n",
              "    </g>\n",
              "</svg>\n",
              "  </button>\n",
              "\n",
              "<style>\n",
              "  .colab-df-quickchart {\n",
              "      --bg-color: #E8F0FE;\n",
              "      --fill-color: #1967D2;\n",
              "      --hover-bg-color: #E2EBFA;\n",
              "      --hover-fill-color: #174EA6;\n",
              "      --disabled-fill-color: #AAA;\n",
              "      --disabled-bg-color: #DDD;\n",
              "  }\n",
              "\n",
              "  [theme=dark] .colab-df-quickchart {\n",
              "      --bg-color: #3B4455;\n",
              "      --fill-color: #D2E3FC;\n",
              "      --hover-bg-color: #434B5C;\n",
              "      --hover-fill-color: #FFFFFF;\n",
              "      --disabled-bg-color: #3B4455;\n",
              "      --disabled-fill-color: #666;\n",
              "  }\n",
              "\n",
              "  .colab-df-quickchart {\n",
              "    background-color: var(--bg-color);\n",
              "    border: none;\n",
              "    border-radius: 50%;\n",
              "    cursor: pointer;\n",
              "    display: none;\n",
              "    fill: var(--fill-color);\n",
              "    height: 32px;\n",
              "    padding: 0;\n",
              "    width: 32px;\n",
              "  }\n",
              "\n",
              "  .colab-df-quickchart:hover {\n",
              "    background-color: var(--hover-bg-color);\n",
              "    box-shadow: 0 1px 2px rgba(60, 64, 67, 0.3), 0 1px 3px 1px rgba(60, 64, 67, 0.15);\n",
              "    fill: var(--button-hover-fill-color);\n",
              "  }\n",
              "\n",
              "  .colab-df-quickchart-complete:disabled,\n",
              "  .colab-df-quickchart-complete:disabled:hover {\n",
              "    background-color: var(--disabled-bg-color);\n",
              "    fill: var(--disabled-fill-color);\n",
              "    box-shadow: none;\n",
              "  }\n",
              "\n",
              "  .colab-df-spinner {\n",
              "    border: 2px solid var(--fill-color);\n",
              "    border-color: transparent;\n",
              "    border-bottom-color: var(--fill-color);\n",
              "    animation:\n",
              "      spin 1s steps(1) infinite;\n",
              "  }\n",
              "\n",
              "  @keyframes spin {\n",
              "    0% {\n",
              "      border-color: transparent;\n",
              "      border-bottom-color: var(--fill-color);\n",
              "      border-left-color: var(--fill-color);\n",
              "    }\n",
              "    20% {\n",
              "      border-color: transparent;\n",
              "      border-left-color: var(--fill-color);\n",
              "      border-top-color: var(--fill-color);\n",
              "    }\n",
              "    30% {\n",
              "      border-color: transparent;\n",
              "      border-left-color: var(--fill-color);\n",
              "      border-top-color: var(--fill-color);\n",
              "      border-right-color: var(--fill-color);\n",
              "    }\n",
              "    40% {\n",
              "      border-color: transparent;\n",
              "      border-right-color: var(--fill-color);\n",
              "      border-top-color: var(--fill-color);\n",
              "    }\n",
              "    60% {\n",
              "      border-color: transparent;\n",
              "      border-right-color: var(--fill-color);\n",
              "    }\n",
              "    80% {\n",
              "      border-color: transparent;\n",
              "      border-right-color: var(--fill-color);\n",
              "      border-bottom-color: var(--fill-color);\n",
              "    }\n",
              "    90% {\n",
              "      border-color: transparent;\n",
              "      border-bottom-color: var(--fill-color);\n",
              "    }\n",
              "  }\n",
              "</style>\n",
              "\n",
              "  <script>\n",
              "    async function quickchart(key) {\n",
              "      const quickchartButtonEl =\n",
              "        document.querySelector('#' + key + ' button');\n",
              "      quickchartButtonEl.disabled = true;  // To prevent multiple clicks.\n",
              "      quickchartButtonEl.classList.add('colab-df-spinner');\n",
              "      try {\n",
              "        const charts = await google.colab.kernel.invokeFunction(\n",
              "            'suggestCharts', [key], {});\n",
              "      } catch (error) {\n",
              "        console.error('Error during call to suggestCharts:', error);\n",
              "      }\n",
              "      quickchartButtonEl.classList.remove('colab-df-spinner');\n",
              "      quickchartButtonEl.classList.add('colab-df-quickchart-complete');\n",
              "    }\n",
              "    (() => {\n",
              "      let quickchartButtonEl =\n",
              "        document.querySelector('#df-dc22e277-066d-4c8a-9d5a-fcd17e079e92 button');\n",
              "      quickchartButtonEl.style.display =\n",
              "        google.colab.kernel.accessAllowed ? 'block' : 'none';\n",
              "    })();\n",
              "  </script>\n",
              "</div>\n",
              "    </div>\n",
              "  </div>\n"
            ]
          },
          "metadata": {},
          "execution_count": 25
        }
      ],
      "source": [
        "visitors['date'] = visitors['date'].map(\n",
        "    lambda x: dt.datetime.strptime(x, '%Y-%m-%d')\n",
        ")\n",
        "visitors"
      ]
    },
    {
      "cell_type": "markdown",
      "metadata": {
        "id": "k65O8mvL8fqD"
      },
      "source": [
        "- date ;\n",
        "- group ;\n",
        "- visitors ."
      ]
    },
    {
      "cell_type": "markdown",
      "metadata": {
        "id": "rVuEItJn8fqD"
      },
      "source": [
        "Проверим пересечения пользователей по группам"
      ]
    },
    {
      "cell_type": "code",
      "execution_count": 26,
      "metadata": {
        "colab": {
          "base_uri": "https://localhost:8080/"
        },
        "id": "z-TWlTMv8fqE",
        "outputId": "a29eb67c-65d6-4acb-fef6-e70f4f1cf6f1"
      },
      "outputs": [
        {
          "output_type": "execute_result",
          "data": {
            "text/plain": [
              "groups_number    58\n",
              "dtype: int64"
            ]
          },
          "metadata": {},
          "execution_count": 26
        }
      ],
      "source": [
        "orders_visitors = orders.groupby('visitorId').agg({'group': 'nunique'})\n",
        "orders_visitors.columns = ['groups_number']\n",
        "orders_visitors[orders_visitors['groups_number'] > 1].count()"
      ]
    },
    {
      "cell_type": "code",
      "execution_count": 27,
      "metadata": {
        "colab": {
          "base_uri": "https://localhost:8080/",
          "height": 143
        },
        "id": "zbf4_g7F8fqE",
        "outputId": "66b99131-ebdc-461f-c1f2-17e0c093e905"
      },
      "outputs": [
        {
          "output_type": "execute_result",
          "data": {
            "text/plain": [
              "       visitorId\n",
              "group           \n",
              "A            503\n",
              "B            586"
            ],
            "text/html": [
              "\n",
              "  <div id=\"df-5d9c1758-54ca-4aa0-8ffc-fb773634d5a5\" class=\"colab-df-container\">\n",
              "    <div>\n",
              "<style scoped>\n",
              "    .dataframe tbody tr th:only-of-type {\n",
              "        vertical-align: middle;\n",
              "    }\n",
              "\n",
              "    .dataframe tbody tr th {\n",
              "        vertical-align: top;\n",
              "    }\n",
              "\n",
              "    .dataframe thead th {\n",
              "        text-align: right;\n",
              "    }\n",
              "</style>\n",
              "<table border=\"1\" class=\"dataframe\">\n",
              "  <thead>\n",
              "    <tr style=\"text-align: right;\">\n",
              "      <th></th>\n",
              "      <th>visitorId</th>\n",
              "    </tr>\n",
              "    <tr>\n",
              "      <th>group</th>\n",
              "      <th></th>\n",
              "    </tr>\n",
              "  </thead>\n",
              "  <tbody>\n",
              "    <tr>\n",
              "      <th>A</th>\n",
              "      <td>503</td>\n",
              "    </tr>\n",
              "    <tr>\n",
              "      <th>B</th>\n",
              "      <td>586</td>\n",
              "    </tr>\n",
              "  </tbody>\n",
              "</table>\n",
              "</div>\n",
              "    <div class=\"colab-df-buttons\">\n",
              "\n",
              "  <div class=\"colab-df-container\">\n",
              "    <button class=\"colab-df-convert\" onclick=\"convertToInteractive('df-5d9c1758-54ca-4aa0-8ffc-fb773634d5a5')\"\n",
              "            title=\"Convert this dataframe to an interactive table.\"\n",
              "            style=\"display:none;\">\n",
              "\n",
              "  <svg xmlns=\"http://www.w3.org/2000/svg\" height=\"24px\" viewBox=\"0 -960 960 960\">\n",
              "    <path d=\"M120-120v-720h720v720H120Zm60-500h600v-160H180v160Zm220 220h160v-160H400v160Zm0 220h160v-160H400v160ZM180-400h160v-160H180v160Zm440 0h160v-160H620v160ZM180-180h160v-160H180v160Zm440 0h160v-160H620v160Z\"/>\n",
              "  </svg>\n",
              "    </button>\n",
              "\n",
              "  <style>\n",
              "    .colab-df-container {\n",
              "      display:flex;\n",
              "      gap: 12px;\n",
              "    }\n",
              "\n",
              "    .colab-df-convert {\n",
              "      background-color: #E8F0FE;\n",
              "      border: none;\n",
              "      border-radius: 50%;\n",
              "      cursor: pointer;\n",
              "      display: none;\n",
              "      fill: #1967D2;\n",
              "      height: 32px;\n",
              "      padding: 0 0 0 0;\n",
              "      width: 32px;\n",
              "    }\n",
              "\n",
              "    .colab-df-convert:hover {\n",
              "      background-color: #E2EBFA;\n",
              "      box-shadow: 0px 1px 2px rgba(60, 64, 67, 0.3), 0px 1px 3px 1px rgba(60, 64, 67, 0.15);\n",
              "      fill: #174EA6;\n",
              "    }\n",
              "\n",
              "    .colab-df-buttons div {\n",
              "      margin-bottom: 4px;\n",
              "    }\n",
              "\n",
              "    [theme=dark] .colab-df-convert {\n",
              "      background-color: #3B4455;\n",
              "      fill: #D2E3FC;\n",
              "    }\n",
              "\n",
              "    [theme=dark] .colab-df-convert:hover {\n",
              "      background-color: #434B5C;\n",
              "      box-shadow: 0px 1px 3px 1px rgba(0, 0, 0, 0.15);\n",
              "      filter: drop-shadow(0px 1px 2px rgba(0, 0, 0, 0.3));\n",
              "      fill: #FFFFFF;\n",
              "    }\n",
              "  </style>\n",
              "\n",
              "    <script>\n",
              "      const buttonEl =\n",
              "        document.querySelector('#df-5d9c1758-54ca-4aa0-8ffc-fb773634d5a5 button.colab-df-convert');\n",
              "      buttonEl.style.display =\n",
              "        google.colab.kernel.accessAllowed ? 'block' : 'none';\n",
              "\n",
              "      async function convertToInteractive(key) {\n",
              "        const element = document.querySelector('#df-5d9c1758-54ca-4aa0-8ffc-fb773634d5a5');\n",
              "        const dataTable =\n",
              "          await google.colab.kernel.invokeFunction('convertToInteractive',\n",
              "                                                    [key], {});\n",
              "        if (!dataTable) return;\n",
              "\n",
              "        const docLinkHtml = 'Like what you see? Visit the ' +\n",
              "          '<a target=\"_blank\" href=https://colab.research.google.com/notebooks/data_table.ipynb>data table notebook</a>'\n",
              "          + ' to learn more about interactive tables.';\n",
              "        element.innerHTML = '';\n",
              "        dataTable['output_type'] = 'display_data';\n",
              "        await google.colab.output.renderOutput(dataTable, element);\n",
              "        const docLink = document.createElement('div');\n",
              "        docLink.innerHTML = docLinkHtml;\n",
              "        element.appendChild(docLink);\n",
              "      }\n",
              "    </script>\n",
              "  </div>\n",
              "\n",
              "\n",
              "<div id=\"df-2eab2d5a-c0a8-46b0-8cda-b73b75e106cf\">\n",
              "  <button class=\"colab-df-quickchart\" onclick=\"quickchart('df-2eab2d5a-c0a8-46b0-8cda-b73b75e106cf')\"\n",
              "            title=\"Suggest charts.\"\n",
              "            style=\"display:none;\">\n",
              "\n",
              "<svg xmlns=\"http://www.w3.org/2000/svg\" height=\"24px\"viewBox=\"0 0 24 24\"\n",
              "     width=\"24px\">\n",
              "    <g>\n",
              "        <path d=\"M19 3H5c-1.1 0-2 .9-2 2v14c0 1.1.9 2 2 2h14c1.1 0 2-.9 2-2V5c0-1.1-.9-2-2-2zM9 17H7v-7h2v7zm4 0h-2V7h2v10zm4 0h-2v-4h2v4z\"/>\n",
              "    </g>\n",
              "</svg>\n",
              "  </button>\n",
              "\n",
              "<style>\n",
              "  .colab-df-quickchart {\n",
              "      --bg-color: #E8F0FE;\n",
              "      --fill-color: #1967D2;\n",
              "      --hover-bg-color: #E2EBFA;\n",
              "      --hover-fill-color: #174EA6;\n",
              "      --disabled-fill-color: #AAA;\n",
              "      --disabled-bg-color: #DDD;\n",
              "  }\n",
              "\n",
              "  [theme=dark] .colab-df-quickchart {\n",
              "      --bg-color: #3B4455;\n",
              "      --fill-color: #D2E3FC;\n",
              "      --hover-bg-color: #434B5C;\n",
              "      --hover-fill-color: #FFFFFF;\n",
              "      --disabled-bg-color: #3B4455;\n",
              "      --disabled-fill-color: #666;\n",
              "  }\n",
              "\n",
              "  .colab-df-quickchart {\n",
              "    background-color: var(--bg-color);\n",
              "    border: none;\n",
              "    border-radius: 50%;\n",
              "    cursor: pointer;\n",
              "    display: none;\n",
              "    fill: var(--fill-color);\n",
              "    height: 32px;\n",
              "    padding: 0;\n",
              "    width: 32px;\n",
              "  }\n",
              "\n",
              "  .colab-df-quickchart:hover {\n",
              "    background-color: var(--hover-bg-color);\n",
              "    box-shadow: 0 1px 2px rgba(60, 64, 67, 0.3), 0 1px 3px 1px rgba(60, 64, 67, 0.15);\n",
              "    fill: var(--button-hover-fill-color);\n",
              "  }\n",
              "\n",
              "  .colab-df-quickchart-complete:disabled,\n",
              "  .colab-df-quickchart-complete:disabled:hover {\n",
              "    background-color: var(--disabled-bg-color);\n",
              "    fill: var(--disabled-fill-color);\n",
              "    box-shadow: none;\n",
              "  }\n",
              "\n",
              "  .colab-df-spinner {\n",
              "    border: 2px solid var(--fill-color);\n",
              "    border-color: transparent;\n",
              "    border-bottom-color: var(--fill-color);\n",
              "    animation:\n",
              "      spin 1s steps(1) infinite;\n",
              "  }\n",
              "\n",
              "  @keyframes spin {\n",
              "    0% {\n",
              "      border-color: transparent;\n",
              "      border-bottom-color: var(--fill-color);\n",
              "      border-left-color: var(--fill-color);\n",
              "    }\n",
              "    20% {\n",
              "      border-color: transparent;\n",
              "      border-left-color: var(--fill-color);\n",
              "      border-top-color: var(--fill-color);\n",
              "    }\n",
              "    30% {\n",
              "      border-color: transparent;\n",
              "      border-left-color: var(--fill-color);\n",
              "      border-top-color: var(--fill-color);\n",
              "      border-right-color: var(--fill-color);\n",
              "    }\n",
              "    40% {\n",
              "      border-color: transparent;\n",
              "      border-right-color: var(--fill-color);\n",
              "      border-top-color: var(--fill-color);\n",
              "    }\n",
              "    60% {\n",
              "      border-color: transparent;\n",
              "      border-right-color: var(--fill-color);\n",
              "    }\n",
              "    80% {\n",
              "      border-color: transparent;\n",
              "      border-right-color: var(--fill-color);\n",
              "      border-bottom-color: var(--fill-color);\n",
              "    }\n",
              "    90% {\n",
              "      border-color: transparent;\n",
              "      border-bottom-color: var(--fill-color);\n",
              "    }\n",
              "  }\n",
              "</style>\n",
              "\n",
              "  <script>\n",
              "    async function quickchart(key) {\n",
              "      const quickchartButtonEl =\n",
              "        document.querySelector('#' + key + ' button');\n",
              "      quickchartButtonEl.disabled = true;  // To prevent multiple clicks.\n",
              "      quickchartButtonEl.classList.add('colab-df-spinner');\n",
              "      try {\n",
              "        const charts = await google.colab.kernel.invokeFunction(\n",
              "            'suggestCharts', [key], {});\n",
              "      } catch (error) {\n",
              "        console.error('Error during call to suggestCharts:', error);\n",
              "      }\n",
              "      quickchartButtonEl.classList.remove('colab-df-spinner');\n",
              "      quickchartButtonEl.classList.add('colab-df-quickchart-complete');\n",
              "    }\n",
              "    (() => {\n",
              "      let quickchartButtonEl =\n",
              "        document.querySelector('#df-2eab2d5a-c0a8-46b0-8cda-b73b75e106cf button');\n",
              "      quickchartButtonEl.style.display =\n",
              "        google.colab.kernel.accessAllowed ? 'block' : 'none';\n",
              "    })();\n",
              "  </script>\n",
              "</div>\n",
              "    </div>\n",
              "  </div>\n"
            ]
          },
          "metadata": {},
          "execution_count": 27
        }
      ],
      "source": [
        "orders.groupby('group').agg({'visitorId': 'nunique'})"
      ]
    },
    {
      "cell_type": "markdown",
      "metadata": {
        "id": "fw33t2Ml8fqF"
      },
      "source": [
        "Небольшое количество пользователей пересекается по группам (около 5%). Это может происходить из-за того, что пользователи заходят с разных устройств."
      ]
    },
    {
      "cell_type": "markdown",
      "metadata": {
        "id": "-rJjzyUE8fqF"
      },
      "source": [
        "Пропуски и дубликаты отсутствуют, данные приведены к правильным типам и готовы к дальнейшему анализу"
      ]
    },
    {
      "cell_type": "markdown",
      "metadata": {
        "id": "vStf4W3-8fqI"
      },
      "source": [
        "# Проанализируем A/B тест"
      ]
    },
    {
      "cell_type": "markdown",
      "metadata": {
        "id": "jZN1CBCU8fqI"
      },
      "source": [
        "Построим график коммулятивной выручки по группам"
      ]
    },
    {
      "cell_type": "code",
      "execution_count": 28,
      "metadata": {
        "colab": {
          "base_uri": "https://localhost:8080/",
          "height": 206
        },
        "id": "Nidl5WiW8fqJ",
        "outputId": "b85c4e2a-970a-482c-c734-a3d683f4850b"
      },
      "outputs": [
        {
          "output_type": "execute_result",
          "data": {
            "text/plain": [
              "        date group  orders  buyers  revenue  visitors\n",
              "0 2019-08-01     A      24      20   148579       719\n",
              "1 2019-08-01     B      21      20   101217       713\n",
              "2 2019-08-02     A      44      38   242401      1338\n",
              "3 2019-08-02     B      45      43   266748      1294\n",
              "4 2019-08-03     A      68      62   354874      1845"
            ],
            "text/html": [
              "\n",
              "  <div id=\"df-39c82b99-6ee0-4f1a-9c06-0e8432fd4602\" class=\"colab-df-container\">\n",
              "    <div>\n",
              "<style scoped>\n",
              "    .dataframe tbody tr th:only-of-type {\n",
              "        vertical-align: middle;\n",
              "    }\n",
              "\n",
              "    .dataframe tbody tr th {\n",
              "        vertical-align: top;\n",
              "    }\n",
              "\n",
              "    .dataframe thead th {\n",
              "        text-align: right;\n",
              "    }\n",
              "</style>\n",
              "<table border=\"1\" class=\"dataframe\">\n",
              "  <thead>\n",
              "    <tr style=\"text-align: right;\">\n",
              "      <th></th>\n",
              "      <th>date</th>\n",
              "      <th>group</th>\n",
              "      <th>orders</th>\n",
              "      <th>buyers</th>\n",
              "      <th>revenue</th>\n",
              "      <th>visitors</th>\n",
              "    </tr>\n",
              "  </thead>\n",
              "  <tbody>\n",
              "    <tr>\n",
              "      <th>0</th>\n",
              "      <td>2019-08-01</td>\n",
              "      <td>A</td>\n",
              "      <td>24</td>\n",
              "      <td>20</td>\n",
              "      <td>148579</td>\n",
              "      <td>719</td>\n",
              "    </tr>\n",
              "    <tr>\n",
              "      <th>1</th>\n",
              "      <td>2019-08-01</td>\n",
              "      <td>B</td>\n",
              "      <td>21</td>\n",
              "      <td>20</td>\n",
              "      <td>101217</td>\n",
              "      <td>713</td>\n",
              "    </tr>\n",
              "    <tr>\n",
              "      <th>2</th>\n",
              "      <td>2019-08-02</td>\n",
              "      <td>A</td>\n",
              "      <td>44</td>\n",
              "      <td>38</td>\n",
              "      <td>242401</td>\n",
              "      <td>1338</td>\n",
              "    </tr>\n",
              "    <tr>\n",
              "      <th>3</th>\n",
              "      <td>2019-08-02</td>\n",
              "      <td>B</td>\n",
              "      <td>45</td>\n",
              "      <td>43</td>\n",
              "      <td>266748</td>\n",
              "      <td>1294</td>\n",
              "    </tr>\n",
              "    <tr>\n",
              "      <th>4</th>\n",
              "      <td>2019-08-03</td>\n",
              "      <td>A</td>\n",
              "      <td>68</td>\n",
              "      <td>62</td>\n",
              "      <td>354874</td>\n",
              "      <td>1845</td>\n",
              "    </tr>\n",
              "  </tbody>\n",
              "</table>\n",
              "</div>\n",
              "    <div class=\"colab-df-buttons\">\n",
              "\n",
              "  <div class=\"colab-df-container\">\n",
              "    <button class=\"colab-df-convert\" onclick=\"convertToInteractive('df-39c82b99-6ee0-4f1a-9c06-0e8432fd4602')\"\n",
              "            title=\"Convert this dataframe to an interactive table.\"\n",
              "            style=\"display:none;\">\n",
              "\n",
              "  <svg xmlns=\"http://www.w3.org/2000/svg\" height=\"24px\" viewBox=\"0 -960 960 960\">\n",
              "    <path d=\"M120-120v-720h720v720H120Zm60-500h600v-160H180v160Zm220 220h160v-160H400v160Zm0 220h160v-160H400v160ZM180-400h160v-160H180v160Zm440 0h160v-160H620v160ZM180-180h160v-160H180v160Zm440 0h160v-160H620v160Z\"/>\n",
              "  </svg>\n",
              "    </button>\n",
              "\n",
              "  <style>\n",
              "    .colab-df-container {\n",
              "      display:flex;\n",
              "      gap: 12px;\n",
              "    }\n",
              "\n",
              "    .colab-df-convert {\n",
              "      background-color: #E8F0FE;\n",
              "      border: none;\n",
              "      border-radius: 50%;\n",
              "      cursor: pointer;\n",
              "      display: none;\n",
              "      fill: #1967D2;\n",
              "      height: 32px;\n",
              "      padding: 0 0 0 0;\n",
              "      width: 32px;\n",
              "    }\n",
              "\n",
              "    .colab-df-convert:hover {\n",
              "      background-color: #E2EBFA;\n",
              "      box-shadow: 0px 1px 2px rgba(60, 64, 67, 0.3), 0px 1px 3px 1px rgba(60, 64, 67, 0.15);\n",
              "      fill: #174EA6;\n",
              "    }\n",
              "\n",
              "    .colab-df-buttons div {\n",
              "      margin-bottom: 4px;\n",
              "    }\n",
              "\n",
              "    [theme=dark] .colab-df-convert {\n",
              "      background-color: #3B4455;\n",
              "      fill: #D2E3FC;\n",
              "    }\n",
              "\n",
              "    [theme=dark] .colab-df-convert:hover {\n",
              "      background-color: #434B5C;\n",
              "      box-shadow: 0px 1px 3px 1px rgba(0, 0, 0, 0.15);\n",
              "      filter: drop-shadow(0px 1px 2px rgba(0, 0, 0, 0.3));\n",
              "      fill: #FFFFFF;\n",
              "    }\n",
              "  </style>\n",
              "\n",
              "    <script>\n",
              "      const buttonEl =\n",
              "        document.querySelector('#df-39c82b99-6ee0-4f1a-9c06-0e8432fd4602 button.colab-df-convert');\n",
              "      buttonEl.style.display =\n",
              "        google.colab.kernel.accessAllowed ? 'block' : 'none';\n",
              "\n",
              "      async function convertToInteractive(key) {\n",
              "        const element = document.querySelector('#df-39c82b99-6ee0-4f1a-9c06-0e8432fd4602');\n",
              "        const dataTable =\n",
              "          await google.colab.kernel.invokeFunction('convertToInteractive',\n",
              "                                                    [key], {});\n",
              "        if (!dataTable) return;\n",
              "\n",
              "        const docLinkHtml = 'Like what you see? Visit the ' +\n",
              "          '<a target=\"_blank\" href=https://colab.research.google.com/notebooks/data_table.ipynb>data table notebook</a>'\n",
              "          + ' to learn more about interactive tables.';\n",
              "        element.innerHTML = '';\n",
              "        dataTable['output_type'] = 'display_data';\n",
              "        await google.colab.output.renderOutput(dataTable, element);\n",
              "        const docLink = document.createElement('div');\n",
              "        docLink.innerHTML = docLinkHtml;\n",
              "        element.appendChild(docLink);\n",
              "      }\n",
              "    </script>\n",
              "  </div>\n",
              "\n",
              "\n",
              "<div id=\"df-7bc86256-800d-4b12-bc16-769911f5f729\">\n",
              "  <button class=\"colab-df-quickchart\" onclick=\"quickchart('df-7bc86256-800d-4b12-bc16-769911f5f729')\"\n",
              "            title=\"Suggest charts.\"\n",
              "            style=\"display:none;\">\n",
              "\n",
              "<svg xmlns=\"http://www.w3.org/2000/svg\" height=\"24px\"viewBox=\"0 0 24 24\"\n",
              "     width=\"24px\">\n",
              "    <g>\n",
              "        <path d=\"M19 3H5c-1.1 0-2 .9-2 2v14c0 1.1.9 2 2 2h14c1.1 0 2-.9 2-2V5c0-1.1-.9-2-2-2zM9 17H7v-7h2v7zm4 0h-2V7h2v10zm4 0h-2v-4h2v4z\"/>\n",
              "    </g>\n",
              "</svg>\n",
              "  </button>\n",
              "\n",
              "<style>\n",
              "  .colab-df-quickchart {\n",
              "      --bg-color: #E8F0FE;\n",
              "      --fill-color: #1967D2;\n",
              "      --hover-bg-color: #E2EBFA;\n",
              "      --hover-fill-color: #174EA6;\n",
              "      --disabled-fill-color: #AAA;\n",
              "      --disabled-bg-color: #DDD;\n",
              "  }\n",
              "\n",
              "  [theme=dark] .colab-df-quickchart {\n",
              "      --bg-color: #3B4455;\n",
              "      --fill-color: #D2E3FC;\n",
              "      --hover-bg-color: #434B5C;\n",
              "      --hover-fill-color: #FFFFFF;\n",
              "      --disabled-bg-color: #3B4455;\n",
              "      --disabled-fill-color: #666;\n",
              "  }\n",
              "\n",
              "  .colab-df-quickchart {\n",
              "    background-color: var(--bg-color);\n",
              "    border: none;\n",
              "    border-radius: 50%;\n",
              "    cursor: pointer;\n",
              "    display: none;\n",
              "    fill: var(--fill-color);\n",
              "    height: 32px;\n",
              "    padding: 0;\n",
              "    width: 32px;\n",
              "  }\n",
              "\n",
              "  .colab-df-quickchart:hover {\n",
              "    background-color: var(--hover-bg-color);\n",
              "    box-shadow: 0 1px 2px rgba(60, 64, 67, 0.3), 0 1px 3px 1px rgba(60, 64, 67, 0.15);\n",
              "    fill: var(--button-hover-fill-color);\n",
              "  }\n",
              "\n",
              "  .colab-df-quickchart-complete:disabled,\n",
              "  .colab-df-quickchart-complete:disabled:hover {\n",
              "    background-color: var(--disabled-bg-color);\n",
              "    fill: var(--disabled-fill-color);\n",
              "    box-shadow: none;\n",
              "  }\n",
              "\n",
              "  .colab-df-spinner {\n",
              "    border: 2px solid var(--fill-color);\n",
              "    border-color: transparent;\n",
              "    border-bottom-color: var(--fill-color);\n",
              "    animation:\n",
              "      spin 1s steps(1) infinite;\n",
              "  }\n",
              "\n",
              "  @keyframes spin {\n",
              "    0% {\n",
              "      border-color: transparent;\n",
              "      border-bottom-color: var(--fill-color);\n",
              "      border-left-color: var(--fill-color);\n",
              "    }\n",
              "    20% {\n",
              "      border-color: transparent;\n",
              "      border-left-color: var(--fill-color);\n",
              "      border-top-color: var(--fill-color);\n",
              "    }\n",
              "    30% {\n",
              "      border-color: transparent;\n",
              "      border-left-color: var(--fill-color);\n",
              "      border-top-color: var(--fill-color);\n",
              "      border-right-color: var(--fill-color);\n",
              "    }\n",
              "    40% {\n",
              "      border-color: transparent;\n",
              "      border-right-color: var(--fill-color);\n",
              "      border-top-color: var(--fill-color);\n",
              "    }\n",
              "    60% {\n",
              "      border-color: transparent;\n",
              "      border-right-color: var(--fill-color);\n",
              "    }\n",
              "    80% {\n",
              "      border-color: transparent;\n",
              "      border-right-color: var(--fill-color);\n",
              "      border-bottom-color: var(--fill-color);\n",
              "    }\n",
              "    90% {\n",
              "      border-color: transparent;\n",
              "      border-bottom-color: var(--fill-color);\n",
              "    }\n",
              "  }\n",
              "</style>\n",
              "\n",
              "  <script>\n",
              "    async function quickchart(key) {\n",
              "      const quickchartButtonEl =\n",
              "        document.querySelector('#' + key + ' button');\n",
              "      quickchartButtonEl.disabled = true;  // To prevent multiple clicks.\n",
              "      quickchartButtonEl.classList.add('colab-df-spinner');\n",
              "      try {\n",
              "        const charts = await google.colab.kernel.invokeFunction(\n",
              "            'suggestCharts', [key], {});\n",
              "      } catch (error) {\n",
              "        console.error('Error during call to suggestCharts:', error);\n",
              "      }\n",
              "      quickchartButtonEl.classList.remove('colab-df-spinner');\n",
              "      quickchartButtonEl.classList.add('colab-df-quickchart-complete');\n",
              "    }\n",
              "    (() => {\n",
              "      let quickchartButtonEl =\n",
              "        document.querySelector('#df-7bc86256-800d-4b12-bc16-769911f5f729 button');\n",
              "      quickchartButtonEl.style.display =\n",
              "        google.colab.kernel.accessAllowed ? 'block' : 'none';\n",
              "    })();\n",
              "  </script>\n",
              "</div>\n",
              "    </div>\n",
              "  </div>\n"
            ]
          },
          "metadata": {},
          "execution_count": 28
        }
      ],
      "source": [
        "# массив уникальных пар значений дат и групп\n",
        "datesGroups = orders[['date','group']].drop_duplicates()\n",
        "\n",
        "# получим агрегированные кумулятивные по дням данные о заказах\n",
        "ordersAggregated = datesGroups.apply(lambda x: orders[np.logical_and(orders['date'] <= x['date'], orders['group'] == x['group'])]\\\n",
        ".agg({'date' : 'max', 'group' : 'max', 'transactionId' : 'nunique', 'visitorId' : 'nunique', 'revenue' : 'sum'}), axis=1).sort_values(by=['date','group'])\n",
        "\n",
        "# и о посетителях интернет-магазина\n",
        "visitorsAggregated = datesGroups.apply(lambda x: visitors[np.logical_and(visitors['date'] <= x['date'], visitors['group'] == x['group'])].agg({'date' : 'max', 'group' : 'max', 'visitors' : 'sum'}), axis=1).sort_values(by=['date','group'])\n",
        "\n",
        "# объединим кумулятивные данные в одной таблице\n",
        "cumulativeData = ordersAggregated.merge(visitorsAggregated, left_on=['date', 'group'], right_on=['date', 'group'])\n",
        "cumulativeData.columns = ['date', 'group', 'orders', 'buyers', 'revenue', 'visitors']\n",
        "\n",
        "cumulativeData.head(5)"
      ]
    },
    {
      "cell_type": "code",
      "execution_count": 29,
      "metadata": {
        "id": "OeJQNFU78fqJ"
      },
      "outputs": [],
      "source": [
        "cumulativeRevenueA = cumulativeData[cumulativeData['group']=='A'][['date','revenue', 'orders']]\n",
        "cumulativeRevenueB = cumulativeData[cumulativeData['group']=='B'][['date','revenue', 'orders']]"
      ]
    },
    {
      "cell_type": "code",
      "execution_count": 30,
      "metadata": {
        "colab": {
          "base_uri": "https://localhost:8080/",
          "height": 581
        },
        "id": "R4YISdwn8fqM",
        "outputId": "319a6166-844e-4423-ad48-e0898b04249c"
      },
      "outputs": [
        {
          "output_type": "display_data",
          "data": {
            "text/plain": [
              "<Figure size 1400x800 with 1 Axes>"
            ],
            "image/png": "[encoded data removed]"
          },
          "metadata": {}
        }
      ],
      "source": [
        "plt.figure(figsize=(14,8))\n",
        "plt.xlabel('Дата')\n",
        "plt.ylabel('Кумулятивная выручка')\n",
        "plt.plot(cumulativeRevenueA['date'], cumulativeRevenueA['revenue'], label='A')\n",
        "plt.plot(cumulativeRevenueB['date'], cumulativeRevenueB['revenue'], label='B')\n",
        "plt.legend()\n",
        "plt.title('Изменение кумулятивной выручки')\n",
        "plt.show()"
      ]
    },
    {
      "cell_type": "markdown",
      "metadata": {
        "id": "sb6GonNZ8fqP"
      },
      "source": [
        "Выручка равномерно увеличивается в течение всего теста. Примечательно, что в группе B график резко вырос в одной точке. Это может свидетельствовать о какой-либо аномалии."
      ]
    },
    {
      "cell_type": "markdown",
      "metadata": {
        "id": "lQR5QZJ78fqS"
      },
      "source": [
        "Построим график кумулятивного среднего чека"
      ]
    },
    {
      "cell_type": "code",
      "execution_count": 31,
      "metadata": {
        "colab": {
          "base_uri": "https://localhost:8080/",
          "height": 564
        },
        "id": "g-3qYwqC8fqT",
        "outputId": "2e3bb7a1-9726-4242-8d75-0f767b30fd9a"
      },
      "outputs": [
        {
          "output_type": "display_data",
          "data": {
            "text/plain": [
              "<Figure size 1400x800 with 1 Axes>"
            ],
            "image/png": "[encoded data removed]"
          },
          "metadata": {}
        }
      ],
      "source": [
        "plt.figure(figsize=(14,8))\n",
        "plt.xlabel('Дата')\n",
        "plt.ylabel('Кумулятивный средний чек')\n",
        "# делим среднюю выручку на число заказов\n",
        "plt.plot(cumulativeRevenueA['date'], cumulativeRevenueA['revenue']/cumulativeRevenueA['orders'], label='A')\n",
        "plt.plot(cumulativeRevenueB['date'], cumulativeRevenueB['revenue']/cumulativeRevenueB['orders'], label='B')\n",
        "plt.legend()\n",
        "plt.title('Изменение кумулятивного среднего чека')\n",
        "plt.show()"
      ]
    },
    {
      "cell_type": "markdown",
      "metadata": {
        "id": "-ZVhJ9xe8fqW"
      },
      "source": [
        "Средний чек активно рос и ближе к концу наблюдений стабилизировался. В группе B он падает после резкого роста, а в группе A установился на одном уровне. Резкий подъем может говорить о том, что в период 17-21 августа были дорогие заказы."
      ]
    },
    {
      "cell_type": "markdown",
      "metadata": {
        "id": "g63l1aud8fqY"
      },
      "source": [
        "Построим график относительного изменения кумулятивного среднего чека группы B к группе A"
      ]
    },
    {
      "cell_type": "code",
      "execution_count": 32,
      "metadata": {
        "colab": {
          "base_uri": "https://localhost:8080/",
          "height": 569
        },
        "id": "A1O2c5UI8fqZ",
        "outputId": "772bcfb3-2968-4fa7-c65f-1700a53e81a6"
      },
      "outputs": [
        {
          "output_type": "display_data",
          "data": {
            "text/plain": [
              "<Figure size 1400x800 with 1 Axes>"
            ],
            "image/png": "[encoded data removed]"
          },
          "metadata": {}
        }
      ],
      "source": [
        "plt.figure(figsize=(14,8))\n",
        "plt.xlabel('Дата')\n",
        "plt.ylabel('Относительный кумулятивный средний чек')\n",
        "mergedCumulativeRevenue = cumulativeRevenueA.merge(cumulativeRevenueB,\n",
        "                                                   left_on='date',\n",
        "                                                   right_on='date',\n",
        "                                                   how='left',\n",
        "                                                   suffixes=['A', 'B'])\n",
        "\n",
        "plt.plot(mergedCumulativeRevenue['date'], (mergedCumulativeRevenue['revenueB']/mergedCumulativeRevenue['ordersB']) /\n",
        "         (mergedCumulativeRevenue['revenueA']/mergedCumulativeRevenue['ordersA'])-1)\n",
        "\n",
        "plt.axhline(y=0, color='black', linestyle='--')\n",
        "plt.title('Изменение относительного кумулятивного среднего чека')\n",
        "plt.show()"
      ]
    },
    {
      "cell_type": "markdown",
      "metadata": {
        "id": "qzxKlMF28fqa"
      },
      "source": [
        "Из графика видно, что большую часть времени график различия между группами скачет, выравниваясь только к концу. Вероятнее всего, причина этому - выбросы и дорогие заказы."
      ]
    },
    {
      "cell_type": "markdown",
      "metadata": {
        "id": "eRABP-UI8fqb"
      },
      "source": [
        "Построим график кумулятивного среднего количества заказов на посетителя по группам"
      ]
    },
    {
      "cell_type": "code",
      "execution_count": 33,
      "metadata": {
        "id": "laJy3E358fqc"
      },
      "outputs": [],
      "source": [
        "cumulativeData['meanOrders'] = cumulativeData['orders']/cumulativeData['visitors']\n",
        "cumulativeDataA = cumulativeData[cumulativeData['group']=='A']\n",
        "cumulativeDataB = cumulativeData[cumulativeData['group']=='B']"
      ]
    },
    {
      "cell_type": "code",
      "execution_count": 34,
      "metadata": {
        "colab": {
          "base_uri": "https://localhost:8080/",
          "height": 559
        },
        "id": "XVYO9zmI8fqd",
        "outputId": "1e04b611-d1ba-403a-e8a4-04c2fb3ba1ca"
      },
      "outputs": [
        {
          "output_type": "display_data",
          "data": {
            "text/plain": [
              "<Figure size 1400x800 with 1 Axes>"
            ],
            "image/png": "[encoded data removed]"
          },
          "metadata": {}
        }
      ],
      "source": [
        "plt.figure(figsize=(14,8))\n",
        "plt.xlabel('Дата')\n",
        "plt.ylabel('Кумулятивное среднее количество заказов')\n",
        "plt.plot(cumulativeDataA['date'], cumulativeDataA['meanOrders'], label='A')\n",
        "plt.plot(cumulativeDataB['date'], cumulativeDataB['meanOrders'], label='B')\n",
        "plt.legend()\n",
        "plt.title('Изменение кумулятивного среднего количества заказов')\n",
        "plt.axis([dt.datetime(2019, 8, 1), dt.datetime(2019, 9, 1), 0.0275, 0.0375])\n",
        "plt.show()"
      ]
    },
    {
      "cell_type": "markdown",
      "metadata": {
        "id": "iwEJ6IHq8fqf"
      },
      "source": [
        "Из графика видно, что среднее количество заказов еще не установилось, однако к концу наблюдений отметился тренд на выравнивание. Среднее количество заказов группы A поначалу было выше, но затем сильно снизилось и несильно колебалось возле значения 0.03."
      ]
    },
    {
      "cell_type": "markdown",
      "metadata": {
        "id": "25053hG18fqj"
      },
      "source": [
        "Построим график относительного изменения кумулятивного среднего количества заказов на посетителя группы B к группе A"
      ]
    },
    {
      "cell_type": "code",
      "execution_count": 35,
      "metadata": {
        "colab": {
          "base_uri": "https://localhost:8080/",
          "height": 561
        },
        "id": "85WwWs-98fql",
        "outputId": "b602cde2-df56-43c4-94f3-8a4f7bf539b6"
      },
      "outputs": [
        {
          "output_type": "display_data",
          "data": {
            "text/plain": [
              "<Figure size 1400x800 with 1 Axes>"
            ],
            "image/png": "[encoded data removed]"
          },
          "metadata": {}
        }
      ],
      "source": [
        "plt.figure(figsize=(14,8))\n",
        "plt.xlabel('Дата')\n",
        "plt.ylabel('Относительный прирост среднего количества заказов B относительно A')\n",
        "\n",
        "mergedCumulativeConversions = cumulativeDataA[['date','meanOrders']].merge(cumulativeDataB[['date','meanOrders']], left_on='date', right_on='date', how='left', suffixes=['A', 'B'])\n",
        "\n",
        "plt.plot(mergedCumulativeConversions['date'], mergedCumulativeConversions['meanOrdersB']/mergedCumulativeConversions['meanOrdersA']-1, label=\"Относительный прирост среднего количества заказов группы B относительно группы A\")\n",
        "plt.legend()\n",
        "plt.title('Относительное изменение комулятивного среднего количества заказов по группам')\n",
        "plt.axhline(y=0, color='black', linestyle='--')\n",
        "plt.axhline(y=0.2, color='grey', linestyle='--')\n",
        "plt.axis([dt.datetime(2019, 8, 1), dt.datetime(2019, 9, 1), -0.2, 0.3])\n",
        "plt.show()"
      ]
    },
    {
      "cell_type": "markdown",
      "metadata": {
        "id": "6Jj725kB8fql"
      },
      "source": [
        "Из графика видно, что в начале теста группа B проигрывала A, затем был резкий скачок и падение. После среднее количество заказов на пользователя группы B по отношению к A начало стремительно расти и среднее количество заказов B стало выигрывать у A. К концу наблюдений среднее количество заказов на пользователя группы B зафиксировалось около прироста 10-15% относительно среднего количества заказов A."
      ]
    },
    {
      "cell_type": "markdown",
      "metadata": {
        "id": "8yEd63158fqn"
      },
      "source": [
        "На данном этапе нельзя точно сделать выводы по тесту, поскольку в данных имеются аномалии и выбросы."
      ]
    },
    {
      "cell_type": "markdown",
      "metadata": {
        "id": "LbD7FJtm8fqn"
      },
      "source": [
        "Построим точечный график количества заказов по пользователям"
      ]
    },
    {
      "cell_type": "code",
      "execution_count": 36,
      "metadata": {
        "colab": {
          "base_uri": "https://localhost:8080/",
          "height": 424
        },
        "id": "Z_gJtXfL8fqp",
        "outputId": "e918dede-ac03-48ec-9fe8-4370473470d5"
      },
      "outputs": [
        {
          "output_type": "execute_result",
          "data": {
            "text/plain": [
              "       visitorId group  orders_count\n",
              "0        5114589     B             1\n",
              "1        6958315     B             1\n",
              "2        8300375     A             1\n",
              "3        8300375     B             1\n",
              "4       11685486     A             1\n",
              "...          ...   ...           ...\n",
              "1084  4266935830     B             1\n",
              "1085  4278982564     A             1\n",
              "1086  4279090005     B             1\n",
              "1087  4281247801     B             1\n",
              "1088  4283872382     B             1\n",
              "\n",
              "[1089 rows x 3 columns]"
            ],
            "text/html": [
              "\n",
              "  <div id=\"df-4b40d3c4-96bb-4485-bce8-90f6b5662045\" class=\"colab-df-container\">\n",
              "    <div>\n",
              "<style scoped>\n",
              "    .dataframe tbody tr th:only-of-type {\n",
              "        vertical-align: middle;\n",
              "    }\n",
              "\n",
              "    .dataframe tbody tr th {\n",
              "        vertical-align: top;\n",
              "    }\n",
              "\n",
              "    .dataframe thead th {\n",
              "        text-align: right;\n",
              "    }\n",
              "</style>\n",
              "<table border=\"1\" class=\"dataframe\">\n",
              "  <thead>\n",
              "    <tr style=\"text-align: right;\">\n",
              "      <th></th>\n",
              "      <th>visitorId</th>\n",
              "      <th>group</th>\n",
              "      <th>orders_count</th>\n",
              "    </tr>\n",
              "  </thead>\n",
              "  <tbody>\n",
              "    <tr>\n",
              "      <th>0</th>\n",
              "      <td>5114589</td>\n",
              "      <td>B</td>\n",
              "      <td>1</td>\n",
              "    </tr>\n",
              "    <tr>\n",
              "      <th>1</th>\n",
              "      <td>6958315</td>\n",
              "      <td>B</td>\n",
              "      <td>1</td>\n",
              "    </tr>\n",
              "    <tr>\n",
              "      <th>2</th>\n",
              "      <td>8300375</td>\n",
              "      <td>A</td>\n",
              "      <td>1</td>\n",
              "    </tr>\n",
              "    <tr>\n",
              "      <th>3</th>\n",
              "      <td>8300375</td>\n",
              "      <td>B</td>\n",
              "      <td>1</td>\n",
              "    </tr>\n",
              "    <tr>\n",
              "      <th>4</th>\n",
              "      <td>11685486</td>\n",
              "      <td>A</td>\n",
              "      <td>1</td>\n",
              "    </tr>\n",
              "    <tr>\n",
              "      <th>...</th>\n",
              "      <td>...</td>\n",
              "      <td>...</td>\n",
              "      <td>...</td>\n",
              "    </tr>\n",
              "    <tr>\n",
              "      <th>1084</th>\n",
              "      <td>4266935830</td>\n",
              "      <td>B</td>\n",
              "      <td>1</td>\n",
              "    </tr>\n",
              "    <tr>\n",
              "      <th>1085</th>\n",
              "      <td>4278982564</td>\n",
              "      <td>A</td>\n",
              "      <td>1</td>\n",
              "    </tr>\n",
              "    <tr>\n",
              "      <th>1086</th>\n",
              "      <td>4279090005</td>\n",
              "      <td>B</td>\n",
              "      <td>1</td>\n",
              "    </tr>\n",
              "    <tr>\n",
              "      <th>1087</th>\n",
              "      <td>4281247801</td>\n",
              "      <td>B</td>\n",
              "      <td>1</td>\n",
              "    </tr>\n",
              "    <tr>\n",
              "      <th>1088</th>\n",
              "      <td>4283872382</td>\n",
              "      <td>B</td>\n",
              "      <td>1</td>\n",
              "    </tr>\n",
              "  </tbody>\n",
              "</table>\n",
              "<p>1089 rows × 3 columns</p>\n",
              "</div>\n",
              "    <div class=\"colab-df-buttons\">\n",
              "\n",
              "  <div class=\"colab-df-container\">\n",
              "    <button class=\"colab-df-convert\" onclick=\"convertToInteractive('df-4b40d3c4-96bb-4485-bce8-90f6b5662045')\"\n",
              "            title=\"Convert this dataframe to an interactive table.\"\n",
              "            style=\"display:none;\">\n",
              "\n",
              "  <svg xmlns=\"http://www.w3.org/2000/svg\" height=\"24px\" viewBox=\"0 -960 960 960\">\n",
              "    <path d=\"M120-120v-720h720v720H120Zm60-500h600v-160H180v160Zm220 220h160v-160H400v160Zm0 220h160v-160H400v160ZM180-400h160v-160H180v160Zm440 0h160v-160H620v160ZM180-180h160v-160H180v160Zm440 0h160v-160H620v160Z\"/>\n",
              "  </svg>\n",
              "    </button>\n",
              "\n",
              "  <style>\n",
              "    .colab-df-container {\n",
              "      display:flex;\n",
              "      gap: 12px;\n",
              "    }\n",
              "\n",
              "    .colab-df-convert {\n",
              "      background-color: #E8F0FE;\n",
              "      border: none;\n",
              "      border-radius: 50%;\n",
              "      cursor: pointer;\n",
              "      display: none;\n",
              "      fill: #1967D2;\n",
              "      height: 32px;\n",
              "      padding: 0 0 0 0;\n",
              "      width: 32px;\n",
              "    }\n",
              "\n",
              "    .colab-df-convert:hover {\n",
              "      background-color: #E2EBFA;\n",
              "      box-shadow: 0px 1px 2px rgba(60, 64, 67, 0.3), 0px 1px 3px 1px rgba(60, 64, 67, 0.15);\n",
              "      fill: #174EA6;\n",
              "    }\n",
              "\n",
              "    .colab-df-buttons div {\n",
              "      margin-bottom: 4px;\n",
              "    }\n",
              "\n",
              "    [theme=dark] .colab-df-convert {\n",
              "      background-color: #3B4455;\n",
              "      fill: #D2E3FC;\n",
              "    }\n",
              "\n",
              "    [theme=dark] .colab-df-convert:hover {\n",
              "      background-color: #434B5C;\n",
              "      box-shadow: 0px 1px 3px 1px rgba(0, 0, 0, 0.15);\n",
              "      filter: drop-shadow(0px 1px 2px rgba(0, 0, 0, 0.3));\n",
              "      fill: #FFFFFF;\n",
              "    }\n",
              "  </style>\n",
              "\n",
              "    <script>\n",
              "      const buttonEl =\n",
              "        document.querySelector('#df-4b40d3c4-96bb-4485-bce8-90f6b5662045 button.colab-df-convert');\n",
              "      buttonEl.style.display =\n",
              "        google.colab.kernel.accessAllowed ? 'block' : 'none';\n",
              "\n",
              "      async function convertToInteractive(key) {\n",
              "        const element = document.querySelector('#df-4b40d3c4-96bb-4485-bce8-90f6b5662045');\n",
              "        const dataTable =\n",
              "          await google.colab.kernel.invokeFunction('convertToInteractive',\n",
              "                                                    [key], {});\n",
              "        if (!dataTable) return;\n",
              "\n",
              "        const docLinkHtml = 'Like what you see? Visit the ' +\n",
              "          '<a target=\"_blank\" href=https://colab.research.google.com/notebooks/data_table.ipynb>data table notebook</a>'\n",
              "          + ' to learn more about interactive tables.';\n",
              "        element.innerHTML = '';\n",
              "        dataTable['output_type'] = 'display_data';\n",
              "        await google.colab.output.renderOutput(dataTable, element);\n",
              "        const docLink = document.createElement('div');\n",
              "        docLink.innerHTML = docLinkHtml;\n",
              "        element.appendChild(docLink);\n",
              "      }\n",
              "    </script>\n",
              "  </div>\n",
              "\n",
              "\n",
              "<div id=\"df-f3639db5-c21b-4c66-ac70-7f20508ea1d8\">\n",
              "  <button class=\"colab-df-quickchart\" onclick=\"quickchart('df-f3639db5-c21b-4c66-ac70-7f20508ea1d8')\"\n",
              "            title=\"Suggest charts.\"\n",
              "            style=\"display:none;\">\n",
              "\n",
              "<svg xmlns=\"http://www.w3.org/2000/svg\" height=\"24px\"viewBox=\"0 0 24 24\"\n",
              "     width=\"24px\">\n",
              "    <g>\n",
              "        <path d=\"M19 3H5c-1.1 0-2 .9-2 2v14c0 1.1.9 2 2 2h14c1.1 0 2-.9 2-2V5c0-1.1-.9-2-2-2zM9 17H7v-7h2v7zm4 0h-2V7h2v10zm4 0h-2v-4h2v4z\"/>\n",
              "    </g>\n",
              "</svg>\n",
              "  </button>\n",
              "\n",
              "<style>\n",
              "  .colab-df-quickchart {\n",
              "      --bg-color: #E8F0FE;\n",
              "      --fill-color: #1967D2;\n",
              "      --hover-bg-color: #E2EBFA;\n",
              "      --hover-fill-color: #174EA6;\n",
              "      --disabled-fill-color: #AAA;\n",
              "      --disabled-bg-color: #DDD;\n",
              "  }\n",
              "\n",
              "  [theme=dark] .colab-df-quickchart {\n",
              "      --bg-color: #3B4455;\n",
              "      --fill-color: #D2E3FC;\n",
              "      --hover-bg-color: #434B5C;\n",
              "      --hover-fill-color: #FFFFFF;\n",
              "      --disabled-bg-color: #3B4455;\n",
              "      --disabled-fill-color: #666;\n",
              "  }\n",
              "\n",
              "  .colab-df-quickchart {\n",
              "    background-color: var(--bg-color);\n",
              "    border: none;\n",
              "    border-radius: 50%;\n",
              "    cursor: pointer;\n",
              "    display: none;\n",
              "    fill: var(--fill-color);\n",
              "    height: 32px;\n",
              "    padding: 0;\n",
              "    width: 32px;\n",
              "  }\n",
              "\n",
              "  .colab-df-quickchart:hover {\n",
              "    background-color: var(--hover-bg-color);\n",
              "    box-shadow: 0 1px 2px rgba(60, 64, 67, 0.3), 0 1px 3px 1px rgba(60, 64, 67, 0.15);\n",
              "    fill: var(--button-hover-fill-color);\n",
              "  }\n",
              "\n",
              "  .colab-df-quickchart-complete:disabled,\n",
              "  .colab-df-quickchart-complete:disabled:hover {\n",
              "    background-color: var(--disabled-bg-color);\n",
              "    fill: var(--disabled-fill-color);\n",
              "    box-shadow: none;\n",
              "  }\n",
              "\n",
              "  .colab-df-spinner {\n",
              "    border: 2px solid var(--fill-color);\n",
              "    border-color: transparent;\n",
              "    border-bottom-color: var(--fill-color);\n",
              "    animation:\n",
              "      spin 1s steps(1) infinite;\n",
              "  }\n",
              "\n",
              "  @keyframes spin {\n",
              "    0% {\n",
              "      border-color: transparent;\n",
              "      border-bottom-color: var(--fill-color);\n",
              "      border-left-color: var(--fill-color);\n",
              "    }\n",
              "    20% {\n",
              "      border-color: transparent;\n",
              "      border-left-color: var(--fill-color);\n",
              "      border-top-color: var(--fill-color);\n",
              "    }\n",
              "    30% {\n",
              "      border-color: transparent;\n",
              "      border-left-color: var(--fill-color);\n",
              "      border-top-color: var(--fill-color);\n",
              "      border-right-color: var(--fill-color);\n",
              "    }\n",
              "    40% {\n",
              "      border-color: transparent;\n",
              "      border-right-color: var(--fill-color);\n",
              "      border-top-color: var(--fill-color);\n",
              "    }\n",
              "    60% {\n",
              "      border-color: transparent;\n",
              "      border-right-color: var(--fill-color);\n",
              "    }\n",
              "    80% {\n",
              "      border-color: transparent;\n",
              "      border-right-color: var(--fill-color);\n",
              "      border-bottom-color: var(--fill-color);\n",
              "    }\n",
              "    90% {\n",
              "      border-color: transparent;\n",
              "      border-bottom-color: var(--fill-color);\n",
              "    }\n",
              "  }\n",
              "</style>\n",
              "\n",
              "  <script>\n",
              "    async function quickchart(key) {\n",
              "      const quickchartButtonEl =\n",
              "        document.querySelector('#' + key + ' button');\n",
              "      quickchartButtonEl.disabled = true;  // To prevent multiple clicks.\n",
              "      quickchartButtonEl.classList.add('colab-df-spinner');\n",
              "      try {\n",
              "        const charts = await google.colab.kernel.invokeFunction(\n",
              "            'suggestCharts', [key], {});\n",
              "      } catch (error) {\n",
              "        console.error('Error during call to suggestCharts:', error);\n",
              "      }\n",
              "      quickchartButtonEl.classList.remove('colab-df-spinner');\n",
              "      quickchartButtonEl.classList.add('colab-df-quickchart-complete');\n",
              "    }\n",
              "    (() => {\n",
              "      let quickchartButtonEl =\n",
              "        document.querySelector('#df-f3639db5-c21b-4c66-ac70-7f20508ea1d8 button');\n",
              "      quickchartButtonEl.style.display =\n",
              "        google.colab.kernel.accessAllowed ? 'block' : 'none';\n",
              "    })();\n",
              "  </script>\n",
              "</div>\n",
              "    </div>\n",
              "  </div>\n"
            ]
          },
          "metadata": {},
          "execution_count": 36
        }
      ],
      "source": [
        "ordersByVisitors = (\n",
        "    orders.groupby(['visitorId', 'group'], as_index=False)\n",
        "    .agg({'transactionId': 'count'})\n",
        ")\n",
        "ordersByVisitors.columns = ['visitorId', 'group', 'orders_count']\n",
        "ordersByVisitors"
      ]
    },
    {
      "cell_type": "code",
      "execution_count": 37,
      "metadata": {
        "colab": {
          "base_uri": "https://localhost:8080/",
          "height": 472
        },
        "id": "hZlOEyZQ8fqq",
        "outputId": "13f6e352-6c88-4747-931b-08fa24bdc084"
      },
      "outputs": [
        {
          "output_type": "display_data",
          "data": {
            "text/plain": [
              "<Figure size 640x480 with 1 Axes>"
            ],
            "image/png": "[encoded data removed]"
          },
          "metadata": {}
        }
      ],
      "source": [
        "sns.scatterplot(data=ordersByVisitors, x=ordersByVisitors.index, y=ordersByVisitors['orders_count'], hue='group')\n",
        "plt.title('Количество заказов по пользователям и группам')\n",
        "plt.ylabel('Количество заказов')\n",
        "plt.xlabel('Индекс')\n",
        "plt.show()"
      ]
    },
    {
      "cell_type": "markdown",
      "metadata": {
        "id": "ZOaPusC-8fqq"
      },
      "source": [
        "В основном пользователи совершали по одной покупке. Однако из графика видно, что некоторые совершали 3 и более покупок. Например, покупатель из группы A совершил 7 покупок. Возможно, благодаря таким выбросам мы увидели пики ранее на графиках."
      ]
    },
    {
      "cell_type": "markdown",
      "metadata": {
        "id": "mty7cSqq8fqr"
      },
      "source": [
        "Посчитаем перцентили количества заказов на пользователя"
      ]
    },
    {
      "cell_type": "code",
      "execution_count": 38,
      "metadata": {
        "colab": {
          "base_uri": "https://localhost:8080/"
        },
        "id": "HRrBz98k8fqs",
        "outputId": "e22cea8b-4c30-4bcd-98d8-1a0b87fde5c8"
      },
      "outputs": [
        {
          "output_type": "stream",
          "name": "stdout",
          "text": [
            "[2. 4.]\n"
          ]
        }
      ],
      "source": [
        "print(np.percentile(ordersByVisitors['orders_count'], [95, 99]))"
      ]
    },
    {
      "cell_type": "markdown",
      "metadata": {
        "id": "GuecWLoz8fqt"
      },
      "source": [
        "Делаем вывод, что было не более 5% покупателей, совершивших 2 покупки и больше, и не более 1%, совершивших 4 покупки и больше. Выберем за нижнюю границу число заказов, равное 2."
      ]
    },
    {
      "cell_type": "markdown",
      "metadata": {
        "id": "CnyScR1Y8fqu"
      },
      "source": [
        "Построим точечный график стоимостей заказов"
      ]
    },
    {
      "cell_type": "code",
      "execution_count": 39,
      "metadata": {
        "id": "Nurv2e8G8fqv"
      },
      "outputs": [],
      "source": [
        "x_values = pd.Series(range(0, len(orders['revenue'])))"
      ]
    },
    {
      "cell_type": "code",
      "execution_count": 40,
      "metadata": {
        "scrolled": false,
        "colab": {
          "base_uri": "https://localhost:8080/",
          "height": 472
        },
        "id": "uJ8IdOTK8fqv",
        "outputId": "b5521d79-b0d2-4e2c-ea6a-7910e824b100"
      },
      "outputs": [
        {
          "output_type": "display_data",
          "data": {
            "text/plain": [
              "<Figure size 640x480 with 1 Axes>"
            ],
            "image/png": "[encoded data removed]"
          },
          "metadata": {}
        }
      ],
      "source": [
        "sns.scatterplot(data=orders, x=x_values, y=orders['revenue'], hue='group')\n",
        "plt.title('Cтоимость заказов по группам')\n",
        "plt.ylabel('Стоимость заказа')\n",
        "plt.xlabel('Индекс')\n",
        "plt.show()"
      ]
    },
    {
      "cell_type": "markdown",
      "metadata": {
        "id": "YPh2YXF38fqw"
      },
      "source": [
        "Один заказ из группы B имеет аномальное значение стоимости (выше 1 200 000). Вероятнее всего, этот заказ влияет на всплески на графике среднего чека."
      ]
    },
    {
      "cell_type": "code",
      "execution_count": 41,
      "metadata": {
        "colab": {
          "base_uri": "https://localhost:8080/",
          "height": 472
        },
        "id": "0yrNmSSy8fqw",
        "outputId": "9bcc8d30-1625-4d76-e21f-49393a3142b6"
      },
      "outputs": [
        {
          "output_type": "display_data",
          "data": {
            "text/plain": [
              "<Figure size 640x480 with 1 Axes>"
            ],
            "image/png": "[encoded data removed]"
          },
          "metadata": {}
        }
      ],
      "source": [
        "sns.scatterplot(data=orders, x=x_values, y=orders['revenue'], hue='group')\n",
        "plt.title('Cтоимость заказов по группам (без выбросов)')\n",
        "plt.ylabel('Стоимость заказа')\n",
        "plt.xlabel('Индекс')\n",
        "plt.ylim(0,120000)\n",
        "plt.show()"
      ]
    },
    {
      "cell_type": "markdown",
      "metadata": {
        "id": "r_A1-v_l8fqx"
      },
      "source": [
        "Из графика видно, что чаще всего заказы не превышают 30 000. Также присутствует небольшое количество дорогих заказов (более 50 000)."
      ]
    },
    {
      "cell_type": "markdown",
      "metadata": {
        "id": "K-ttkGLP8fqx"
      },
      "source": [
        "Посчитаем перцентили стоимости заказов"
      ]
    },
    {
      "cell_type": "code",
      "execution_count": 42,
      "metadata": {
        "colab": {
          "base_uri": "https://localhost:8080/"
        },
        "id": "QNFNrvwP8fqy",
        "outputId": "566d47b9-18b5-41ad-f64c-27cc5c4e4fde"
      },
      "outputs": [
        {
          "output_type": "stream",
          "name": "stdout",
          "text": [
            "[28000.  58233.2]\n"
          ]
        }
      ],
      "source": [
        "print(np.percentile(orders['revenue'], [95, 99]))"
      ]
    },
    {
      "cell_type": "markdown",
      "metadata": {
        "id": "B-xhwcty8fqy"
      },
      "source": [
        "Было не более 5% заказов ценой больше 28 000 и не более 1% заказов ценой больше 58 000. За нижнюю границу возьмем 28 000."
      ]
    },
    {
      "cell_type": "markdown",
      "metadata": {
        "id": "-Mvv7LT58fqz"
      },
      "source": [
        "### Статистическая значимость"
      ]
    },
    {
      "cell_type": "markdown",
      "metadata": {
        "id": "TmEbKyNe8fqz"
      },
      "source": [
        "Посчитаем статистическую значимость различий в среднем количестве заказов на посетителя между группами по «сырым» данным"
      ]
    },
    {
      "cell_type": "code",
      "execution_count": 43,
      "metadata": {
        "id": "csza2sMI8fq0"
      },
      "outputs": [],
      "source": [
        "# считаем число визитов по группам и дням\n",
        "\n",
        "visitorsADaily = visitors[visitors['group'] == 'A'][['date', 'visitors']]\n",
        "visitorsADaily.columns = ['date', 'visitorsPerDateA']\n",
        "\n",
        "visitorsACummulative = visitorsADaily.apply(\n",
        "    lambda x: visitorsADaily[visitorsADaily['date'] <= x['date']].agg(\n",
        "        {'date': 'max', 'visitorsPerDateA': 'sum'}\n",
        "    ),\n",
        "    axis=1,\n",
        ")\n",
        "visitorsACummulative.columns = ['date', 'visitorsCummulativeA']\n",
        "\n",
        "visitorsBDaily = visitors[visitors['group'] == 'B'][['date', 'visitors']]\n",
        "visitorsBDaily.columns = ['date', 'visitorsPerDateB']\n",
        "\n",
        "visitorsBCummulative = visitorsBDaily.apply(\n",
        "    lambda x: visitorsBDaily[visitorsBDaily['date'] <= x['date']].agg(\n",
        "        {'date': 'max', 'visitorsPerDateB': 'sum'}\n",
        "    ),\n",
        "    axis=1,\n",
        ")\n",
        "visitorsBCummulative.columns = ['date', 'visitorsCummulativeB']"
      ]
    },
    {
      "cell_type": "code",
      "execution_count": 44,
      "metadata": {
        "id": "At4KaCxX8fq0"
      },
      "outputs": [],
      "source": [
        "# считаем число заказов по группам и дням\n",
        "\n",
        "ordersADaily = (\n",
        "    orders[orders['group'] == 'A'][['date', 'transactionId', 'visitorId', 'revenue']]\n",
        "    .groupby('date', as_index=False)\n",
        "    .agg({'transactionId': pd.Series.nunique, 'revenue': 'sum'})\n",
        ")\n",
        "ordersADaily.columns = ['date', 'ordersPerDateA', 'revenuePerDateA']\n",
        "\n",
        "ordersACummulative = ordersADaily.apply(\n",
        "    lambda x: ordersADaily[ordersADaily['date'] <= x['date']].agg(\n",
        "        {'date': 'max', 'ordersPerDateA': 'sum', 'revenuePerDateA': 'sum'}\n",
        "    ),\n",
        "    axis=1,\n",
        ").sort_values(by=['date'])\n",
        "ordersACummulative.columns = [\n",
        "    'date',\n",
        "    'ordersCummulativeA',\n",
        "    'revenueCummulativeA',\n",
        "]\n",
        "\n",
        "ordersBDaily = (\n",
        "    orders[orders['group'] == 'B'][['date', 'transactionId', 'visitorId', 'revenue']]\n",
        "    .groupby('date', as_index=False)\n",
        "    .agg({'transactionId': pd.Series.nunique, 'revenue': 'sum'})\n",
        ")\n",
        "ordersBDaily.columns = ['date', 'ordersPerDateB', 'revenuePerDateB']\n",
        "\n",
        "ordersBCummulative = ordersBDaily.apply(\n",
        "    lambda x: ordersBDaily[ordersBDaily['date'] <= x['date']].agg(\n",
        "        {'date': 'max', 'ordersPerDateB': 'sum', 'revenuePerDateB': 'sum'}\n",
        "    ),\n",
        "    axis=1,\n",
        ").sort_values(by=['date'])\n",
        "ordersBCummulative.columns = [\n",
        "    'date',\n",
        "    'ordersCummulativeB',\n",
        "    'revenueCummulativeB',\n",
        "]"
      ]
    },
    {
      "cell_type": "code",
      "execution_count": 45,
      "metadata": {
        "colab": {
          "base_uri": "https://localhost:8080/",
          "height": 226
        },
        "id": "4K-bVdwf8fq2",
        "outputId": "2bbacef0-36ce-4f85-a000-16354ff22363"
      },
      "outputs": [
        {
          "output_type": "execute_result",
          "data": {
            "text/plain": [
              "        date  ordersPerDateA  revenuePerDateA  ordersPerDateB  \\\n",
              "0 2019-08-01              24           148579              21   \n",
              "1 2019-08-02              20            93822              24   \n",
              "2 2019-08-03              24           112473              16   \n",
              "3 2019-08-04              16            70825              17   \n",
              "4 2019-08-05              25           124218              23   \n",
              "\n",
              "   revenuePerDateB  ordersCummulativeA  revenueCummulativeA  \\\n",
              "0           101217                  24               148579   \n",
              "1           165531                  44               242401   \n",
              "2           114248                  68               354874   \n",
              "3           108571                  84               425699   \n",
              "4            92428                 109               549917   \n",
              "\n",
              "   ordersCummulativeB  revenueCummulativeB  visitorsPerDateA  \\\n",
              "0                  21               101217               719   \n",
              "1                  45               266748               619   \n",
              "2                  61               380996               507   \n",
              "3                  78               489567               717   \n",
              "4                 101               581995               756   \n",
              "\n",
              "   visitorsPerDateB  visitorsCummulativeA  visitorsCummulativeB  \n",
              "0               713                   719                   713  \n",
              "1               581                  1338                  1294  \n",
              "2               509                  1845                  1803  \n",
              "3               770                  2562                  2573  \n",
              "4               707                  3318                  3280  "
            ],
            "text/html": [
              "\n",
              "  <div id=\"df-40df1521-3e1b-4d59-9ce9-03a95cefe72d\" class=\"colab-df-container\">\n",
              "    <div>\n",
              "<style scoped>\n",
              "    .dataframe tbody tr th:only-of-type {\n",
              "        vertical-align: middle;\n",
              "    }\n",
              "\n",
              "    .dataframe tbody tr th {\n",
              "        vertical-align: top;\n",
              "    }\n",
              "\n",
              "    .dataframe thead th {\n",
              "        text-align: right;\n",
              "    }\n",
              "</style>\n",
              "<table border=\"1\" class=\"dataframe\">\n",
              "  <thead>\n",
              "    <tr style=\"text-align: right;\">\n",
              "      <th></th>\n",
              "      <th>date</th>\n",
              "      <th>ordersPerDateA</th>\n",
              "      <th>revenuePerDateA</th>\n",
              "      <th>ordersPerDateB</th>\n",
              "      <th>revenuePerDateB</th>\n",
              "      <th>ordersCummulativeA</th>\n",
              "      <th>revenueCummulativeA</th>\n",
              "      <th>ordersCummulativeB</th>\n",
              "      <th>revenueCummulativeB</th>\n",
              "      <th>visitorsPerDateA</th>\n",
              "      <th>visitorsPerDateB</th>\n",
              "      <th>visitorsCummulativeA</th>\n",
              "      <th>visitorsCummulativeB</th>\n",
              "    </tr>\n",
              "  </thead>\n",
              "  <tbody>\n",
              "    <tr>\n",
              "      <th>0</th>\n",
              "      <td>2019-08-01</td>\n",
              "      <td>24</td>\n",
              "      <td>148579</td>\n",
              "      <td>21</td>\n",
              "      <td>101217</td>\n",
              "      <td>24</td>\n",
              "      <td>148579</td>\n",
              "      <td>21</td>\n",
              "      <td>101217</td>\n",
              "      <td>719</td>\n",
              "      <td>713</td>\n",
              "      <td>719</td>\n",
              "      <td>713</td>\n",
              "    </tr>\n",
              "    <tr>\n",
              "      <th>1</th>\n",
              "      <td>2019-08-02</td>\n",
              "      <td>20</td>\n",
              "      <td>93822</td>\n",
              "      <td>24</td>\n",
              "      <td>165531</td>\n",
              "      <td>44</td>\n",
              "      <td>242401</td>\n",
              "      <td>45</td>\n",
              "      <td>266748</td>\n",
              "      <td>619</td>\n",
              "      <td>581</td>\n",
              "      <td>1338</td>\n",
              "      <td>1294</td>\n",
              "    </tr>\n",
              "    <tr>\n",
              "      <th>2</th>\n",
              "      <td>2019-08-03</td>\n",
              "      <td>24</td>\n",
              "      <td>112473</td>\n",
              "      <td>16</td>\n",
              "      <td>114248</td>\n",
              "      <td>68</td>\n",
              "      <td>354874</td>\n",
              "      <td>61</td>\n",
              "      <td>380996</td>\n",
              "      <td>507</td>\n",
              "      <td>509</td>\n",
              "      <td>1845</td>\n",
              "      <td>1803</td>\n",
              "    </tr>\n",
              "    <tr>\n",
              "      <th>3</th>\n",
              "      <td>2019-08-04</td>\n",
              "      <td>16</td>\n",
              "      <td>70825</td>\n",
              "      <td>17</td>\n",
              "      <td>108571</td>\n",
              "      <td>84</td>\n",
              "      <td>425699</td>\n",
              "      <td>78</td>\n",
              "      <td>489567</td>\n",
              "      <td>717</td>\n",
              "      <td>770</td>\n",
              "      <td>2562</td>\n",
              "      <td>2573</td>\n",
              "    </tr>\n",
              "    <tr>\n",
              "      <th>4</th>\n",
              "      <td>2019-08-05</td>\n",
              "      <td>25</td>\n",
              "      <td>124218</td>\n",
              "      <td>23</td>\n",
              "      <td>92428</td>\n",
              "      <td>109</td>\n",
              "      <td>549917</td>\n",
              "      <td>101</td>\n",
              "      <td>581995</td>\n",
              "      <td>756</td>\n",
              "      <td>707</td>\n",
              "      <td>3318</td>\n",
              "      <td>3280</td>\n",
              "    </tr>\n",
              "  </tbody>\n",
              "</table>\n",
              "</div>\n",
              "    <div class=\"colab-df-buttons\">\n",
              "\n",
              "  <div class=\"colab-df-container\">\n",
              "    <button class=\"colab-df-convert\" onclick=\"convertToInteractive('df-40df1521-3e1b-4d59-9ce9-03a95cefe72d')\"\n",
              "            title=\"Convert this dataframe to an interactive table.\"\n",
              "            style=\"display:none;\">\n",
              "\n",
              "  <svg xmlns=\"http://www.w3.org/2000/svg\" height=\"24px\" viewBox=\"0 -960 960 960\">\n",
              "    <path d=\"M120-120v-720h720v720H120Zm60-500h600v-160H180v160Zm220 220h160v-160H400v160Zm0 220h160v-160H400v160ZM180-400h160v-160H180v160Zm440 0h160v-160H620v160ZM180-180h160v-160H180v160Zm440 0h160v-160H620v160Z\"/>\n",
              "  </svg>\n",
              "    </button>\n",
              "\n",
              "  <style>\n",
              "    .colab-df-container {\n",
              "      display:flex;\n",
              "      gap: 12px;\n",
              "    }\n",
              "\n",
              "    .colab-df-convert {\n",
              "      background-color: #E8F0FE;\n",
              "      border: none;\n",
              "      border-radius: 50%;\n",
              "      cursor: pointer;\n",
              "      display: none;\n",
              "      fill: #1967D2;\n",
              "      height: 32px;\n",
              "      padding: 0 0 0 0;\n",
              "      width: 32px;\n",
              "    }\n",
              "\n",
              "    .colab-df-convert:hover {\n",
              "      background-color: #E2EBFA;\n",
              "      box-shadow: 0px 1px 2px rgba(60, 64, 67, 0.3), 0px 1px 3px 1px rgba(60, 64, 67, 0.15);\n",
              "      fill: #174EA6;\n",
              "    }\n",
              "\n",
              "    .colab-df-buttons div {\n",
              "      margin-bottom: 4px;\n",
              "    }\n",
              "\n",
              "    [theme=dark] .colab-df-convert {\n",
              "      background-color: #3B4455;\n",
              "      fill: #D2E3FC;\n",
              "    }\n",
              "\n",
              "    [theme=dark] .colab-df-convert:hover {\n",
              "      background-color: #434B5C;\n",
              "      box-shadow: 0px 1px 3px 1px rgba(0, 0, 0, 0.15);\n",
              "      filter: drop-shadow(0px 1px 2px rgba(0, 0, 0, 0.3));\n",
              "      fill: #FFFFFF;\n",
              "    }\n",
              "  </style>\n",
              "\n",
              "    <script>\n",
              "      const buttonEl =\n",
              "        document.querySelector('#df-40df1521-3e1b-4d59-9ce9-03a95cefe72d button.colab-df-convert');\n",
              "      buttonEl.style.display =\n",
              "        google.colab.kernel.accessAllowed ? 'block' : 'none';\n",
              "\n",
              "      async function convertToInteractive(key) {\n",
              "        const element = document.querySelector('#df-40df1521-3e1b-4d59-9ce9-03a95cefe72d');\n",
              "        const dataTable =\n",
              "          await google.colab.kernel.invokeFunction('convertToInteractive',\n",
              "                                                    [key], {});\n",
              "        if (!dataTable) return;\n",
              "\n",
              "        const docLinkHtml = 'Like what you see? Visit the ' +\n",
              "          '<a target=\"_blank\" href=https://colab.research.google.com/notebooks/data_table.ipynb>data table notebook</a>'\n",
              "          + ' to learn more about interactive tables.';\n",
              "        element.innerHTML = '';\n",
              "        dataTable['output_type'] = 'display_data';\n",
              "        await google.colab.output.renderOutput(dataTable, element);\n",
              "        const docLink = document.createElement('div');\n",
              "        docLink.innerHTML = docLinkHtml;\n",
              "        element.appendChild(docLink);\n",
              "      }\n",
              "    </script>\n",
              "  </div>\n",
              "\n",
              "\n",
              "<div id=\"df-d8d5361f-5a5c-45ef-baf5-5526e2c67e7b\">\n",
              "  <button class=\"colab-df-quickchart\" onclick=\"quickchart('df-d8d5361f-5a5c-45ef-baf5-5526e2c67e7b')\"\n",
              "            title=\"Suggest charts.\"\n",
              "            style=\"display:none;\">\n",
              "\n",
              "<svg xmlns=\"http://www.w3.org/2000/svg\" height=\"24px\"viewBox=\"0 0 24 24\"\n",
              "     width=\"24px\">\n",
              "    <g>\n",
              "        <path d=\"M19 3H5c-1.1 0-2 .9-2 2v14c0 1.1.9 2 2 2h14c1.1 0 2-.9 2-2V5c0-1.1-.9-2-2-2zM9 17H7v-7h2v7zm4 0h-2V7h2v10zm4 0h-2v-4h2v4z\"/>\n",
              "    </g>\n",
              "</svg>\n",
              "  </button>\n",
              "\n",
              "<style>\n",
              "  .colab-df-quickchart {\n",
              "      --bg-color: #E8F0FE;\n",
              "      --fill-color: #1967D2;\n",
              "      --hover-bg-color: #E2EBFA;\n",
              "      --hover-fill-color: #174EA6;\n",
              "      --disabled-fill-color: #AAA;\n",
              "      --disabled-bg-color: #DDD;\n",
              "  }\n",
              "\n",
              "  [theme=dark] .colab-df-quickchart {\n",
              "      --bg-color: #3B4455;\n",
              "      --fill-color: #D2E3FC;\n",
              "      --hover-bg-color: #434B5C;\n",
              "      --hover-fill-color: #FFFFFF;\n",
              "      --disabled-bg-color: #3B4455;\n",
              "      --disabled-fill-color: #666;\n",
              "  }\n",
              "\n",
              "  .colab-df-quickchart {\n",
              "    background-color: var(--bg-color);\n",
              "    border: none;\n",
              "    border-radius: 50%;\n",
              "    cursor: pointer;\n",
              "    display: none;\n",
              "    fill: var(--fill-color);\n",
              "    height: 32px;\n",
              "    padding: 0;\n",
              "    width: 32px;\n",
              "  }\n",
              "\n",
              "  .colab-df-quickchart:hover {\n",
              "    background-color: var(--hover-bg-color);\n",
              "    box-shadow: 0 1px 2px rgba(60, 64, 67, 0.3), 0 1px 3px 1px rgba(60, 64, 67, 0.15);\n",
              "    fill: var(--button-hover-fill-color);\n",
              "  }\n",
              "\n",
              "  .colab-df-quickchart-complete:disabled,\n",
              "  .colab-df-quickchart-complete:disabled:hover {\n",
              "    background-color: var(--disabled-bg-color);\n",
              "    fill: var(--disabled-fill-color);\n",
              "    box-shadow: none;\n",
              "  }\n",
              "\n",
              "  .colab-df-spinner {\n",
              "    border: 2px solid var(--fill-color);\n",
              "    border-color: transparent;\n",
              "    border-bottom-color: var(--fill-color);\n",
              "    animation:\n",
              "      spin 1s steps(1) infinite;\n",
              "  }\n",
              "\n",
              "  @keyframes spin {\n",
              "    0% {\n",
              "      border-color: transparent;\n",
              "      border-bottom-color: var(--fill-color);\n",
              "      border-left-color: var(--fill-color);\n",
              "    }\n",
              "    20% {\n",
              "      border-color: transparent;\n",
              "      border-left-color: var(--fill-color);\n",
              "      border-top-color: var(--fill-color);\n",
              "    }\n",
              "    30% {\n",
              "      border-color: transparent;\n",
              "      border-left-color: var(--fill-color);\n",
              "      border-top-color: var(--fill-color);\n",
              "      border-right-color: var(--fill-color);\n",
              "    }\n",
              "    40% {\n",
              "      border-color: transparent;\n",
              "      border-right-color: var(--fill-color);\n",
              "      border-top-color: var(--fill-color);\n",
              "    }\n",
              "    60% {\n",
              "      border-color: transparent;\n",
              "      border-right-color: var(--fill-color);\n",
              "    }\n",
              "    80% {\n",
              "      border-color: transparent;\n",
              "      border-right-color: var(--fill-color);\n",
              "      border-bottom-color: var(--fill-color);\n",
              "    }\n",
              "    90% {\n",
              "      border-color: transparent;\n",
              "      border-bottom-color: var(--fill-color);\n",
              "    }\n",
              "  }\n",
              "</style>\n",
              "\n",
              "  <script>\n",
              "    async function quickchart(key) {\n",
              "      const quickchartButtonEl =\n",
              "        document.querySelector('#' + key + ' button');\n",
              "      quickchartButtonEl.disabled = true;  // To prevent multiple clicks.\n",
              "      quickchartButtonEl.classList.add('colab-df-spinner');\n",
              "      try {\n",
              "        const charts = await google.colab.kernel.invokeFunction(\n",
              "            'suggestCharts', [key], {});\n",
              "      } catch (error) {\n",
              "        console.error('Error during call to suggestCharts:', error);\n",
              "      }\n",
              "      quickchartButtonEl.classList.remove('colab-df-spinner');\n",
              "      quickchartButtonEl.classList.add('colab-df-quickchart-complete');\n",
              "    }\n",
              "    (() => {\n",
              "      let quickchartButtonEl =\n",
              "        document.querySelector('#df-d8d5361f-5a5c-45ef-baf5-5526e2c67e7b button');\n",
              "      quickchartButtonEl.style.display =\n",
              "        google.colab.kernel.accessAllowed ? 'block' : 'none';\n",
              "    })();\n",
              "  </script>\n",
              "</div>\n",
              "    </div>\n",
              "  </div>\n"
            ]
          },
          "metadata": {},
          "execution_count": 45
        }
      ],
      "source": [
        "data = (\n",
        "    ordersADaily.merge(\n",
        "        ordersBDaily, left_on='date', right_on='date', how='left'\n",
        "    )\n",
        "    .merge(ordersACummulative, left_on='date', right_on='date', how='left')\n",
        "    .merge(ordersBCummulative, left_on='date', right_on='date', how='left')\n",
        "    .merge(visitorsADaily, left_on='date', right_on='date', how='left')\n",
        "    .merge(visitorsBDaily, left_on='date', right_on='date', how='left')\n",
        "    .merge(visitorsACummulative, left_on='date', right_on='date', how='left')\n",
        "    .merge(visitorsBCummulative, left_on='date', right_on='date', how='left')\n",
        ")\n",
        "\n",
        "data.head(5)"
      ]
    },
    {
      "cell_type": "code",
      "execution_count": 46,
      "metadata": {
        "id": "OJN-Qr2J8fq2"
      },
      "outputs": [],
      "source": [
        "# число пользователей, совершавших заказ хотя бы 1 раз\n",
        "\n",
        "ordersByUsersA = (\n",
        "    orders[orders['group'] == 'A']\n",
        "    .groupby('visitorId', as_index=False)\n",
        "    .agg({'transactionId': pd.Series.nunique})\n",
        ")\n",
        "ordersByUsersA.columns = ['visitorId', 'orders']\n",
        "\n",
        "ordersByUsersB = (\n",
        "    orders[orders['group'] == 'B']\n",
        "    .groupby('visitorId', as_index=False)\n",
        "    .agg({'transactionId': pd.Series.nunique})\n",
        ")\n",
        "ordersByUsersB.columns = ['visitorId', 'orders']"
      ]
    },
    {
      "cell_type": "code",
      "execution_count": 47,
      "metadata": {
        "id": "nGZXisNt8fq3"
      },
      "outputs": [],
      "source": [
        "# объявляем переменные, в которых пользователям из разных групп будет соответствовать количество заказов\n",
        "# тем, кто ничего не заказал, будут соответствовать нули\n",
        "\n",
        "sampleA = pd.concat([ordersByUsersA['orders'],pd.Series(0, index=np.arange(data['visitorsPerDateA'].sum() - len(ordersByUsersA['orders'])), name='orders')],axis=0)\n",
        "\n",
        "sampleB = pd.concat([ordersByUsersB['orders'],pd.Series(0, index=np.arange(data['visitorsPerDateB'].sum() - len(ordersByUsersB['orders'])), name='orders')],axis=0)"
      ]
    },
    {
      "cell_type": "markdown",
      "metadata": {
        "id": "TalYZVNG8fq3"
      },
      "source": [
        "0-гипотеза - статистически значимых различий в среднем количестве заказов по \"сырым\" данным между группами нет\n",
        "\n",
        "Альтернативная гипотеза - между группами имеются статистически значимые различия в среднем количестве заказов по \"сырым\" данным"
      ]
    },
    {
      "cell_type": "markdown",
      "metadata": {
        "id": "urSwt3m98fq7"
      },
      "source": [
        "### Проверим критерием Манна-Уитни"
      ]
    },
    {
      "cell_type": "code",
      "execution_count": 48,
      "metadata": {
        "colab": {
          "base_uri": "https://localhost:8080/"
        },
        "id": "_F1wXa188fq7",
        "outputId": "d101c044-1e7c-429e-fc58-153b1e75d4f4"
      },
      "outputs": [
        {
          "output_type": "stream",
          "name": "stdout",
          "text": [
            "p-значение: 0.017\n",
            "Различие: 0.138\n"
          ]
        }
      ],
      "source": [
        "print(\"p-значение: {0:.3f}\".format(stats.mannwhitneyu(sampleA, sampleB)[1]))\n",
        "\n",
        "print('Различие: {0:.3f}'.format(sampleB.mean()/sampleA.mean()-1))"
      ]
    },
    {
      "cell_type": "markdown",
      "metadata": {
        "id": "MgO637Dk8fq-"
      },
      "source": [
        "Первое число: p-value < 0.05, следовательно, нулевая гипотеза может быть отвергнута. Таким образом, различия в среднем количестве заказов статистически значимы и относительный выигрыш группы B=13.8%. По сырым данным можно сказать, что, вероятнее всего, различие по среднему количеству заказов есть."
      ]
    },
    {
      "cell_type": "markdown",
      "metadata": {
        "id": "xxj54sM98fq-"
      },
      "source": [
        "Посчитаем статистическую значимость различий в среднем чеке заказа между группами по «сырым» данным"
      ]
    },
    {
      "cell_type": "markdown",
      "metadata": {
        "id": "JTY5wnNo8fq_"
      },
      "source": [
        "Нулевая гипотеза - статистически значимых различий в среднем чеке по \"сырым\" данным между группами нет\n",
        "\n",
        "Альтернативная гипотеза - между группами имеются статистически значимые различия в среднем чеке по \"сырым\" данным"
      ]
    },
    {
      "cell_type": "code",
      "execution_count": 49,
      "metadata": {
        "colab": {
          "base_uri": "https://localhost:8080/"
        },
        "id": "K1gkrznX8frB",
        "outputId": "491c4a21-2f38-41e2-840d-fd4294c8a283"
      },
      "outputs": [
        {
          "output_type": "stream",
          "name": "stdout",
          "text": [
            "p-значение: 0.729\n",
            "Различие: 0.259\n"
          ]
        }
      ],
      "source": [
        "print('p-значение: {0:.3f}'.format(stats.mannwhitneyu(orders[orders['group'] == 'A']['revenue'], orders[orders['group'] == 'B']['revenue'])[1]))\n",
        "\n",
        "print('Различие: {0:.3f}'.format(orders[orders['group'] == 'B']['revenue'].mean()/orders[orders['group'] == 'A']['revenue'].mean()-1))"
      ]
    },
    {
      "cell_type": "markdown",
      "metadata": {
        "id": "eC6CCjwO8frB"
      },
      "source": [
        "p-value значительно больше 0.05. Значит, причин отвергать нулевую гипотезу и считать, что в среднем чеке есть различия, нет. При этом средний чек группы B значительно выше среднего чека A."
      ]
    },
    {
      "cell_type": "markdown",
      "metadata": {
        "id": "KBOubrA08frC"
      },
      "source": [
        "Посчитаем статистическую значимость различий в среднем количестве заказов на посетителя между группами по «очищенным» данным"
      ]
    },
    {
      "cell_type": "markdown",
      "metadata": {
        "id": "yHZ9K0XU8frC"
      },
      "source": [
        "Узнаем число аномальных пользователей\n",
        "\n",
        "Нулевая гипотеза - статистически значимых различий между средним количеством заказов на посетителя в \"очищенных\" группах нет\n",
        "\n",
        "Альтернативная гипотеза - различия в среднем количестве заказов по \"очищенным\" данным статистически значимы"
      ]
    },
    {
      "cell_type": "code",
      "execution_count": 50,
      "metadata": {
        "colab": {
          "base_uri": "https://localhost:8080/"
        },
        "id": "MmgdIZ608frD",
        "outputId": "7a72f513-6313-4dca-bcdb-29effd9c31f0"
      },
      "outputs": [
        {
          "output_type": "stream",
          "name": "stdout",
          "text": [
            "(74,)\n"
          ]
        }
      ],
      "source": [
        "usersWithManyOrders = pd.concat(\n",
        "    [\n",
        "        ordersByUsersA[ordersByUsersA['orders'] > 2]['visitorId'],\n",
        "        ordersByUsersB[ordersByUsersB['orders'] > 2]['visitorId'],\n",
        "    ],\n",
        "    axis=0,\n",
        ")\n",
        "usersWithExpensiveOrders = orders[orders['revenue'] > 28000]['visitorId']\n",
        "abnormalUsers = (\n",
        "    pd.concat([usersWithManyOrders, usersWithExpensiveOrders], axis=0)\n",
        "    .drop_duplicates()\n",
        "    .sort_values()\n",
        ")\n",
        "print(abnormalUsers.shape)"
      ]
    },
    {
      "cell_type": "markdown",
      "metadata": {
        "id": "junS-dsF8frE"
      },
      "source": [
        "Имеется 74 аномальных пользователя"
      ]
    },
    {
      "cell_type": "code",
      "execution_count": 51,
      "metadata": {
        "colab": {
          "base_uri": "https://localhost:8080/"
        },
        "id": "4W9PvGj88frE",
        "outputId": "c4bf334b-1bad-49ad-ff43-783fbbf96f14"
      },
      "outputs": [
        {
          "output_type": "stream",
          "name": "stdout",
          "text": [
            "p-значение: 0.013\n",
            "Различие: 0.173\n"
          ]
        }
      ],
      "source": [
        "sampleAFiltered = pd.concat(\n",
        "    [\n",
        "        ordersByUsersA[\n",
        "            np.logical_not(ordersByUsersA['visitorId'].isin(abnormalUsers))\n",
        "        ]['orders'],\n",
        "        pd.Series(\n",
        "            0,\n",
        "            index=np.arange(\n",
        "                data['visitorsPerDateA'].sum() - len(ordersByUsersA['orders'])\n",
        "            ),\n",
        "            name='orders',\n",
        "        ),\n",
        "    ],\n",
        "    axis=0,\n",
        ")\n",
        "\n",
        "sampleBFiltered = pd.concat(\n",
        "    [\n",
        "        ordersByUsersB[\n",
        "            np.logical_not(ordersByUsersB['visitorId'].isin(abnormalUsers))\n",
        "        ]['orders'],\n",
        "        pd.Series(\n",
        "            0,\n",
        "            index=np.arange(\n",
        "                data['visitorsPerDateB'].sum() - len(ordersByUsersB['orders'])\n",
        "            ),\n",
        "            name='orders',\n",
        "        ),\n",
        "    ],\n",
        "    axis=0,\n",
        ")\n",
        "\n",
        "print('p-значение: {0:.3f}'.format(stats.mannwhitneyu(sampleAFiltered, sampleBFiltered)[1]))\n",
        "print('Различие: {0:.3f}'.format(sampleBFiltered.mean()/sampleAFiltered.mean()-1))"
      ]
    },
    {
      "cell_type": "markdown",
      "metadata": {
        "id": "aM2tIdMZ8frE"
      },
      "source": [
        "По сравнению с \"сырыми\" данными, результаты изменились несильно (увеличилось проимущество группы B), на очищенных данных различия в среднем количестве заказов на пользователя также статистически значимы (группа B выигрывает)"
      ]
    },
    {
      "cell_type": "markdown",
      "metadata": {
        "id": "snH001pT8frF"
      },
      "source": [
        "Посчитаем статистическую значимость различий в среднем чеке заказа между группами по «очищенным» данным"
      ]
    },
    {
      "cell_type": "markdown",
      "metadata": {
        "id": "4ara-fM-8frF"
      },
      "source": [
        "Нулевая гипотеза - статистически значимых различий в среднем чеке по \"отфильтрованным\" данным между группами нет\n",
        "\n",
        "Альтернативная гипотеза - между группами имеются статистически значимые различия в среднем чеке по \"отфильтрованным\" данным"
      ]
    },
    {
      "cell_type": "code",
      "execution_count": 52,
      "metadata": {
        "colab": {
          "base_uri": "https://localhost:8080/"
        },
        "id": "4xSnV7le8frH",
        "outputId": "8ae11123-d618-4dee-8a35-275d8390fffc"
      },
      "outputs": [
        {
          "output_type": "stream",
          "name": "stdout",
          "text": [
            "0.738\n",
            "-0.020\n"
          ]
        }
      ],
      "source": [
        "print(\n",
        "    '{0:.3f}'.format(\n",
        "        stats.mannwhitneyu(\n",
        "            orders[\n",
        "                np.logical_and(\n",
        "                    orders['group'] == 'A',\n",
        "                    np.logical_not(orders['visitorId'].isin(abnormalUsers)),\n",
        "                )\n",
        "            ]['revenue'],\n",
        "            orders[\n",
        "                np.logical_and(\n",
        "                    orders['group'] == 'B',\n",
        "                    np.logical_not(orders['visitorId'].isin(abnormalUsers)),\n",
        "                )\n",
        "            ]['revenue'],\n",
        "        )[1]\n",
        "    )\n",
        ")\n",
        "\n",
        "print(\n",
        "    \"{0:.3f}\".format(\n",
        "        orders[\n",
        "            np.logical_and(\n",
        "                orders['group'] == 'B',\n",
        "                np.logical_not(orders['visitorId'].isin(abnormalUsers)),\n",
        "            )\n",
        "        ]['revenue'].mean()\n",
        "        / orders[\n",
        "            np.logical_and(\n",
        "                orders['group'] == 'A',\n",
        "                np.logical_not(orders['visitorId'].isin(abnormalUsers)),\n",
        "            )\n",
        "        ]['revenue'].mean()\n",
        "        - 1\n",
        "    )\n",
        ")"
      ]
    },
    {
      "cell_type": "markdown",
      "metadata": {
        "id": "yAosZa_c8frH"
      },
      "source": [
        "p-value увеличился, а разница между группами на очищенных данных практически отсутствует (1.7%, B проигрывает)"
      ]
    },
    {
      "cell_type": "markdown",
      "metadata": {
        "id": "IHbf9ukG8frI"
      },
      "source": [
        "Выводы"
      ]
    },
    {
      "cell_type": "markdown",
      "metadata": {
        "id": "m6RLAGz78frI"
      },
      "source": [
        "- Различия в среднем количестве заказов на пользователя статистически значимы и по \"сырым\" и по \"очищенным\" данным, при этом группа B показывает лучшие результаты по сравнению с A\n",
        "- Нет статистически значимого различия по среднему чеку между группами ни по \"сырым\" данным, ни по данным после фильтрации аномалий, при этом по \"очищенным\" данным группа B незначительно проигрывает A. Скорее всего, пик на графике \"сырых\" данных исказил общую картину\n",
        "- График различия среднего количестве заказов на пользователя между группами сообщает, что результаты группы B лучше группы A и имеют достаточно стабильный рост\n",
        "- График различия среднего чека говорит о том, что результаты группы B лучше A, однако это во многом благодаря выбросам\n",
        "\n",
        "Исходя из этих фактов, тест следует завершить и признать успешной альтернатиную гипотезу. В результате теста мы добились улучшения показателей среднего количества заказов на пользователя, хоть между группами и нет статистически значимого различия по среднему чеку."
      ]
    },
    {
      "cell_type": "markdown",
      "metadata": {
        "id": "k7-U0mxv8frJ"
      },
      "source": [
        "# Общий вывод"
      ]
    },
    {
      "cell_type": "markdown",
      "metadata": {
        "id": "HLZ2Licq8frJ"
      },
      "source": [
        "Проведена приоритизация гипотез по фреймворкам ICE и RICE. Затем анализ\n",
        "результатов A/B-теста, построилf графики кумулятивной выручки, среднего чека,\n",
        "конверсии по группам, а затем посчитал статистическую значимость различий конверсий\n",
        "и средних чеков по сырым и очищенным данным.\n",
        "\n",
        "На основании анализа мной было принято решение о нецелесообразности дальнейшего проведения теста."
      ]
    },
    {
      "cell_type": "code",
      "execution_count": 52,
      "metadata": {
        "id": "Fg0JfrQM8frK"
      },
      "outputs": [],
      "source": []
    }
  ],
  "metadata": {
    "ExecuteTimeLog": [
      {
        "duration": 53,
        "start_time": "2023-02-07T18:48:40.075Z"
      },
      {
        "duration": 409,
        "start_time": "2023-02-07T18:48:47.894Z"
      },
      {
        "duration": 72,
        "start_time": "2023-02-07T18:48:48.305Z"
      },
      {
        "duration": 26,
        "start_time": "2023-02-07T18:49:04.711Z"
      },
      {
        "duration": 47,
        "start_time": "2023-02-07T18:50:03.397Z"
      },
      {
        "duration": 28,
        "start_time": "2023-02-07T18:50:21.138Z"
      },
      {
        "duration": 25,
        "start_time": "2023-02-07T18:50:37.855Z"
      },
      {
        "duration": 26,
        "start_time": "2023-02-07T18:50:46.928Z"
      },
      {
        "duration": 26,
        "start_time": "2023-02-07T18:50:55.832Z"
      },
      {
        "duration": 29,
        "start_time": "2023-02-07T18:52:26.597Z"
      },
      {
        "duration": 24,
        "start_time": "2023-02-07T18:54:15.744Z"
      },
      {
        "duration": 25,
        "start_time": "2023-02-07T18:54:22.200Z"
      },
      {
        "duration": 34,
        "start_time": "2023-02-07T18:54:49.690Z"
      },
      {
        "duration": 3,
        "start_time": "2023-02-07T19:03:40.456Z"
      },
      {
        "duration": 25,
        "start_time": "2023-02-07T19:03:40.464Z"
      },
      {
        "duration": 10,
        "start_time": "2023-02-07T19:03:40.491Z"
      },
      {
        "duration": 5,
        "start_time": "2023-02-07T19:03:48.429Z"
      },
      {
        "duration": 8,
        "start_time": "2023-02-07T19:18:16.369Z"
      },
      {
        "duration": 901,
        "start_time": "2023-02-07T19:18:22.402Z"
      },
      {
        "duration": 24,
        "start_time": "2023-02-07T19:18:23.306Z"
      },
      {
        "duration": 43,
        "start_time": "2023-02-07T19:18:23.332Z"
      },
      {
        "duration": 0,
        "start_time": "2023-02-07T19:18:23.376Z"
      },
      {
        "duration": 8,
        "start_time": "2023-02-07T19:18:29.820Z"
      },
      {
        "duration": 4,
        "start_time": "2023-02-07T19:19:32.916Z"
      },
      {
        "duration": 3,
        "start_time": "2023-02-07T19:22:35.091Z"
      },
      {
        "duration": 23,
        "start_time": "2023-02-07T19:22:35.100Z"
      },
      {
        "duration": 3,
        "start_time": "2023-02-07T19:22:35.125Z"
      },
      {
        "duration": 10,
        "start_time": "2023-02-07T19:22:35.136Z"
      },
      {
        "duration": 27,
        "start_time": "2023-02-07T19:22:35.149Z"
      },
      {
        "duration": 0,
        "start_time": "2023-02-07T19:22:35.177Z"
      },
      {
        "duration": 0,
        "start_time": "2023-02-07T19:22:35.179Z"
      },
      {
        "duration": 3,
        "start_time": "2023-02-07T19:22:46.097Z"
      },
      {
        "duration": 25,
        "start_time": "2023-02-07T19:22:46.105Z"
      },
      {
        "duration": 4,
        "start_time": "2023-02-07T19:22:46.132Z"
      },
      {
        "duration": 11,
        "start_time": "2023-02-07T19:22:46.138Z"
      },
      {
        "duration": 730,
        "start_time": "2023-02-07T19:22:46.150Z"
      },
      {
        "duration": 0,
        "start_time": "2023-02-07T19:22:46.881Z"
      },
      {
        "duration": 4,
        "start_time": "2023-02-07T19:22:56.571Z"
      },
      {
        "duration": 24,
        "start_time": "2023-02-07T19:22:56.580Z"
      },
      {
        "duration": 4,
        "start_time": "2023-02-07T19:22:56.606Z"
      },
      {
        "duration": 14,
        "start_time": "2023-02-07T19:22:56.613Z"
      },
      {
        "duration": 12,
        "start_time": "2023-02-07T19:22:56.630Z"
      },
      {
        "duration": 7,
        "start_time": "2023-02-07T19:22:56.645Z"
      },
      {
        "duration": 5,
        "start_time": "2023-02-07T19:23:17.098Z"
      },
      {
        "duration": 2,
        "start_time": "2023-02-07T19:24:24.709Z"
      },
      {
        "duration": 27,
        "start_time": "2023-02-07T19:24:24.714Z"
      },
      {
        "duration": 4,
        "start_time": "2023-02-07T19:24:24.744Z"
      },
      {
        "duration": 23,
        "start_time": "2023-02-07T19:24:24.750Z"
      },
      {
        "duration": 20,
        "start_time": "2023-02-07T19:24:24.777Z"
      },
      {
        "duration": 8,
        "start_time": "2023-02-07T19:24:24.798Z"
      },
      {
        "duration": 18,
        "start_time": "2023-02-07T19:26:35.788Z"
      },
      {
        "duration": 3,
        "start_time": "2023-02-07T19:26:41.004Z"
      },
      {
        "duration": 27,
        "start_time": "2023-02-07T19:26:41.010Z"
      },
      {
        "duration": 3,
        "start_time": "2023-02-07T19:26:41.038Z"
      },
      {
        "duration": 10,
        "start_time": "2023-02-07T19:26:41.043Z"
      },
      {
        "duration": 5,
        "start_time": "2023-02-07T19:26:41.055Z"
      },
      {
        "duration": 7,
        "start_time": "2023-02-07T19:26:41.062Z"
      },
      {
        "duration": 22,
        "start_time": "2023-02-07T19:26:41.071Z"
      },
      {
        "duration": 4,
        "start_time": "2023-02-07T19:26:50.755Z"
      },
      {
        "duration": 35,
        "start_time": "2023-02-07T19:26:50.762Z"
      },
      {
        "duration": 4,
        "start_time": "2023-02-07T19:26:50.799Z"
      },
      {
        "duration": 16,
        "start_time": "2023-02-07T19:26:50.806Z"
      },
      {
        "duration": 17,
        "start_time": "2023-02-07T19:26:50.824Z"
      },
      {
        "duration": 11,
        "start_time": "2023-02-07T19:26:50.843Z"
      },
      {
        "duration": 25,
        "start_time": "2023-02-07T19:26:50.856Z"
      },
      {
        "duration": 14,
        "start_time": "2023-02-07T19:27:04.026Z"
      },
      {
        "duration": 18,
        "start_time": "2023-02-07T19:27:39.240Z"
      },
      {
        "duration": 4,
        "start_time": "2023-02-07T19:28:36.755Z"
      },
      {
        "duration": 36,
        "start_time": "2023-02-07T19:28:36.761Z"
      },
      {
        "duration": 3,
        "start_time": "2023-02-07T19:28:36.799Z"
      },
      {
        "duration": 10,
        "start_time": "2023-02-07T19:28:36.804Z"
      },
      {
        "duration": 9,
        "start_time": "2023-02-07T19:28:36.816Z"
      },
      {
        "duration": 7,
        "start_time": "2023-02-07T19:28:36.826Z"
      },
      {
        "duration": 19,
        "start_time": "2023-02-07T19:28:36.835Z"
      },
      {
        "duration": 11,
        "start_time": "2023-02-07T19:28:47.954Z"
      },
      {
        "duration": 5,
        "start_time": "2023-02-07T19:29:27.775Z"
      },
      {
        "duration": 7,
        "start_time": "2023-02-07T19:36:23.994Z"
      },
      {
        "duration": 3,
        "start_time": "2023-02-07T19:37:29.537Z"
      },
      {
        "duration": 37,
        "start_time": "2023-02-07T19:37:29.546Z"
      },
      {
        "duration": 3,
        "start_time": "2023-02-07T19:37:29.586Z"
      },
      {
        "duration": 10,
        "start_time": "2023-02-07T19:37:29.590Z"
      },
      {
        "duration": 10,
        "start_time": "2023-02-07T19:37:29.602Z"
      },
      {
        "duration": 23,
        "start_time": "2023-02-07T19:37:29.614Z"
      },
      {
        "duration": 17,
        "start_time": "2023-02-07T19:37:29.639Z"
      },
      {
        "duration": 24,
        "start_time": "2023-02-07T19:37:29.658Z"
      },
      {
        "duration": 10,
        "start_time": "2023-02-07T19:37:29.684Z"
      },
      {
        "duration": 50,
        "start_time": "2023-02-07T19:37:29.695Z"
      },
      {
        "duration": 12,
        "start_time": "2023-02-07T19:37:36.629Z"
      },
      {
        "duration": 3,
        "start_time": "2023-02-07T19:38:32.463Z"
      },
      {
        "duration": 24,
        "start_time": "2023-02-07T19:38:32.471Z"
      },
      {
        "duration": 3,
        "start_time": "2023-02-07T19:38:32.497Z"
      },
      {
        "duration": 21,
        "start_time": "2023-02-07T19:38:32.502Z"
      },
      {
        "duration": 6,
        "start_time": "2023-02-07T19:38:32.525Z"
      },
      {
        "duration": 6,
        "start_time": "2023-02-07T19:38:32.533Z"
      },
      {
        "duration": 10,
        "start_time": "2023-02-07T19:38:32.541Z"
      },
      {
        "duration": 14,
        "start_time": "2023-02-07T19:38:32.552Z"
      },
      {
        "duration": 7,
        "start_time": "2023-02-07T19:38:32.567Z"
      },
      {
        "duration": 20,
        "start_time": "2023-02-07T19:38:32.576Z"
      },
      {
        "duration": 4,
        "start_time": "2023-02-07T19:39:21.952Z"
      },
      {
        "duration": 8,
        "start_time": "2023-02-07T19:50:40.996Z"
      },
      {
        "duration": 3,
        "start_time": "2023-02-07T19:50:43.877Z"
      },
      {
        "duration": 23,
        "start_time": "2023-02-07T19:50:43.886Z"
      },
      {
        "duration": 4,
        "start_time": "2023-02-07T19:50:43.911Z"
      },
      {
        "duration": 11,
        "start_time": "2023-02-07T19:50:43.916Z"
      },
      {
        "duration": 9,
        "start_time": "2023-02-07T19:50:43.929Z"
      },
      {
        "duration": 8,
        "start_time": "2023-02-07T19:50:43.939Z"
      },
      {
        "duration": 20,
        "start_time": "2023-02-07T19:50:43.948Z"
      },
      {
        "duration": 6,
        "start_time": "2023-02-07T19:50:43.970Z"
      },
      {
        "duration": 8,
        "start_time": "2023-02-07T19:50:43.978Z"
      },
      {
        "duration": 15,
        "start_time": "2023-02-07T19:50:43.988Z"
      },
      {
        "duration": 11,
        "start_time": "2023-02-07T19:50:44.006Z"
      },
      {
        "duration": 165,
        "start_time": "2023-02-07T19:50:44.040Z"
      },
      {
        "duration": 20,
        "start_time": "2023-02-07T19:50:44.207Z"
      },
      {
        "duration": 18,
        "start_time": "2023-02-07T19:50:54.976Z"
      },
      {
        "duration": 202,
        "start_time": "2023-02-07T19:53:43.434Z"
      },
      {
        "duration": 4,
        "start_time": "2023-02-07T19:53:48.909Z"
      },
      {
        "duration": 39,
        "start_time": "2023-02-07T19:53:48.915Z"
      },
      {
        "duration": 3,
        "start_time": "2023-02-07T19:53:48.956Z"
      },
      {
        "duration": 10,
        "start_time": "2023-02-07T19:53:48.961Z"
      },
      {
        "duration": 18,
        "start_time": "2023-02-07T19:53:48.973Z"
      },
      {
        "duration": 17,
        "start_time": "2023-02-07T19:53:48.993Z"
      },
      {
        "duration": 15,
        "start_time": "2023-02-07T19:53:49.012Z"
      },
      {
        "duration": 6,
        "start_time": "2023-02-07T19:53:49.039Z"
      },
      {
        "duration": 28,
        "start_time": "2023-02-07T19:53:49.048Z"
      },
      {
        "duration": 16,
        "start_time": "2023-02-07T19:53:49.079Z"
      },
      {
        "duration": 13,
        "start_time": "2023-02-07T19:53:49.098Z"
      },
      {
        "duration": 59,
        "start_time": "2023-02-07T19:53:49.113Z"
      },
      {
        "duration": 17,
        "start_time": "2023-02-07T19:53:49.174Z"
      },
      {
        "duration": 222,
        "start_time": "2023-02-07T19:53:49.193Z"
      },
      {
        "duration": 0,
        "start_time": "2023-02-07T19:53:49.416Z"
      },
      {
        "duration": 3,
        "start_time": "2023-02-07T19:54:34.843Z"
      },
      {
        "duration": 23,
        "start_time": "2023-02-07T19:54:34.861Z"
      },
      {
        "duration": 3,
        "start_time": "2023-02-07T19:54:34.886Z"
      },
      {
        "duration": 10,
        "start_time": "2023-02-07T19:54:34.890Z"
      },
      {
        "duration": 7,
        "start_time": "2023-02-07T19:54:34.901Z"
      },
      {
        "duration": 7,
        "start_time": "2023-02-07T19:54:34.910Z"
      },
      {
        "duration": 20,
        "start_time": "2023-02-07T19:54:34.919Z"
      },
      {
        "duration": 4,
        "start_time": "2023-02-07T19:54:34.941Z"
      },
      {
        "duration": 8,
        "start_time": "2023-02-07T19:54:34.947Z"
      },
      {
        "duration": 21,
        "start_time": "2023-02-07T19:54:34.957Z"
      },
      {
        "duration": 7,
        "start_time": "2023-02-07T19:54:34.979Z"
      },
      {
        "duration": 43,
        "start_time": "2023-02-07T19:54:34.988Z"
      },
      {
        "duration": 15,
        "start_time": "2023-02-07T19:54:35.033Z"
      },
      {
        "duration": 22,
        "start_time": "2023-02-07T19:54:35.050Z"
      },
      {
        "duration": 19,
        "start_time": "2023-02-07T19:54:35.075Z"
      },
      {
        "duration": 15,
        "start_time": "2023-02-07T19:59:05.269Z"
      },
      {
        "duration": 2,
        "start_time": "2023-02-07T20:05:52.308Z"
      },
      {
        "duration": 25,
        "start_time": "2023-02-07T20:05:52.312Z"
      },
      {
        "duration": 3,
        "start_time": "2023-02-07T20:05:52.339Z"
      },
      {
        "duration": 10,
        "start_time": "2023-02-07T20:05:52.344Z"
      },
      {
        "duration": 7,
        "start_time": "2023-02-07T20:05:52.356Z"
      },
      {
        "duration": 5,
        "start_time": "2023-02-07T20:05:52.365Z"
      },
      {
        "duration": 10,
        "start_time": "2023-02-07T20:05:52.372Z"
      },
      {
        "duration": 6,
        "start_time": "2023-02-07T20:05:52.384Z"
      },
      {
        "duration": 55,
        "start_time": "2023-02-07T20:05:52.391Z"
      },
      {
        "duration": 16,
        "start_time": "2023-02-07T20:05:52.447Z"
      },
      {
        "duration": 20,
        "start_time": "2023-02-07T20:05:52.467Z"
      },
      {
        "duration": 48,
        "start_time": "2023-02-07T20:05:52.488Z"
      },
      {
        "duration": 13,
        "start_time": "2023-02-07T20:05:52.538Z"
      },
      {
        "duration": 13,
        "start_time": "2023-02-07T20:05:52.553Z"
      },
      {
        "duration": 22,
        "start_time": "2023-02-07T20:05:52.568Z"
      },
      {
        "duration": 16,
        "start_time": "2023-02-07T20:05:52.591Z"
      },
      {
        "duration": 30,
        "start_time": "2023-02-07T20:05:52.641Z"
      },
      {
        "duration": 29,
        "start_time": "2023-02-07T20:06:33.953Z"
      },
      {
        "duration": 279,
        "start_time": "2023-02-07T20:06:45.427Z"
      },
      {
        "duration": 286,
        "start_time": "2023-02-07T20:07:06.631Z"
      },
      {
        "duration": 298,
        "start_time": "2023-02-07T20:07:15.352Z"
      },
      {
        "duration": 277,
        "start_time": "2023-02-07T20:07:23.863Z"
      },
      {
        "duration": 6,
        "start_time": "2023-02-07T20:11:15.793Z"
      },
      {
        "duration": 235,
        "start_time": "2023-02-07T20:11:38.658Z"
      },
      {
        "duration": 235,
        "start_time": "2023-02-07T20:12:08.943Z"
      },
      {
        "duration": 201,
        "start_time": "2023-02-07T20:12:15.943Z"
      },
      {
        "duration": 220,
        "start_time": "2023-02-07T20:12:47.093Z"
      },
      {
        "duration": 386,
        "start_time": "2023-02-07T20:13:37.906Z"
      },
      {
        "duration": 233,
        "start_time": "2023-02-07T20:13:52.420Z"
      },
      {
        "duration": 310,
        "start_time": "2023-02-07T20:14:12.095Z"
      },
      {
        "duration": 237,
        "start_time": "2023-02-07T20:14:29.737Z"
      },
      {
        "duration": 229,
        "start_time": "2023-02-07T20:17:55.037Z"
      },
      {
        "duration": 341,
        "start_time": "2023-02-07T20:22:04.539Z"
      },
      {
        "duration": 227,
        "start_time": "2023-02-07T20:22:54.813Z"
      },
      {
        "duration": 365,
        "start_time": "2023-02-07T20:23:29.119Z"
      },
      {
        "duration": 6,
        "start_time": "2023-02-07T20:25:33.371Z"
      },
      {
        "duration": 234,
        "start_time": "2023-02-07T20:27:05.234Z"
      },
      {
        "duration": 253,
        "start_time": "2023-02-07T20:27:20.364Z"
      },
      {
        "duration": 221,
        "start_time": "2023-02-07T20:27:34.829Z"
      },
      {
        "duration": 241,
        "start_time": "2023-02-07T20:27:47.766Z"
      },
      {
        "duration": 254,
        "start_time": "2023-02-07T20:28:03.580Z"
      },
      {
        "duration": 321,
        "start_time": "2023-02-07T20:28:11.805Z"
      },
      {
        "duration": 228,
        "start_time": "2023-02-07T20:28:34.802Z"
      },
      {
        "duration": 390,
        "start_time": "2023-02-07T20:33:16.237Z"
      },
      {
        "duration": 342,
        "start_time": "2023-02-07T20:33:33.866Z"
      },
      {
        "duration": 347,
        "start_time": "2023-02-07T20:34:04.627Z"
      },
      {
        "duration": 390,
        "start_time": "2023-02-07T20:34:16.316Z"
      },
      {
        "duration": 333,
        "start_time": "2023-02-07T20:34:25.896Z"
      },
      {
        "duration": 14,
        "start_time": "2023-02-07T20:51:07.448Z"
      },
      {
        "duration": 190,
        "start_time": "2023-02-07T20:51:27.432Z"
      },
      {
        "duration": 179,
        "start_time": "2023-02-07T20:52:49.205Z"
      },
      {
        "duration": 3,
        "start_time": "2023-02-07T20:53:09.411Z"
      },
      {
        "duration": 26,
        "start_time": "2023-02-07T20:53:09.416Z"
      },
      {
        "duration": 3,
        "start_time": "2023-02-07T20:53:09.444Z"
      },
      {
        "duration": 11,
        "start_time": "2023-02-07T20:53:09.448Z"
      },
      {
        "duration": 7,
        "start_time": "2023-02-07T20:53:09.461Z"
      },
      {
        "duration": 8,
        "start_time": "2023-02-07T20:53:09.469Z"
      },
      {
        "duration": 11,
        "start_time": "2023-02-07T20:53:09.478Z"
      },
      {
        "duration": 5,
        "start_time": "2023-02-07T20:53:09.491Z"
      },
      {
        "duration": 47,
        "start_time": "2023-02-07T20:53:09.498Z"
      },
      {
        "duration": 11,
        "start_time": "2023-02-07T20:53:09.547Z"
      },
      {
        "duration": 5,
        "start_time": "2023-02-07T20:53:09.561Z"
      },
      {
        "duration": 46,
        "start_time": "2023-02-07T20:53:09.568Z"
      },
      {
        "duration": 14,
        "start_time": "2023-02-07T20:53:09.616Z"
      },
      {
        "duration": 17,
        "start_time": "2023-02-07T20:53:09.631Z"
      },
      {
        "duration": 22,
        "start_time": "2023-02-07T20:53:09.650Z"
      },
      {
        "duration": 15,
        "start_time": "2023-02-07T20:53:09.674Z"
      },
      {
        "duration": 309,
        "start_time": "2023-02-07T20:53:09.690Z"
      },
      {
        "duration": 6,
        "start_time": "2023-02-07T20:53:10.001Z"
      },
      {
        "duration": 248,
        "start_time": "2023-02-07T20:53:10.009Z"
      },
      {
        "duration": 236,
        "start_time": "2023-02-07T20:53:10.259Z"
      },
      {
        "duration": 345,
        "start_time": "2023-02-07T20:53:10.496Z"
      },
      {
        "duration": 6,
        "start_time": "2023-02-07T20:53:10.842Z"
      },
      {
        "duration": 247,
        "start_time": "2023-02-07T20:53:10.850Z"
      },
      {
        "duration": 430,
        "start_time": "2023-02-07T20:53:11.099Z"
      },
      {
        "duration": 189,
        "start_time": "2023-02-07T20:53:11.531Z"
      },
      {
        "duration": 18,
        "start_time": "2023-02-07T20:53:28.625Z"
      },
      {
        "duration": 17,
        "start_time": "2023-02-07T20:53:47.495Z"
      },
      {
        "duration": 10,
        "start_time": "2023-02-07T20:54:32.469Z"
      },
      {
        "duration": 670,
        "start_time": "2023-02-07T20:54:49.108Z"
      },
      {
        "duration": 135,
        "start_time": "2023-02-07T20:55:18.561Z"
      },
      {
        "duration": 117,
        "start_time": "2023-02-07T20:57:44.323Z"
      },
      {
        "duration": 9,
        "start_time": "2023-02-07T21:00:35.932Z"
      },
      {
        "duration": 58,
        "start_time": "2023-02-07T21:00:40.857Z"
      },
      {
        "duration": 22,
        "start_time": "2023-02-07T21:00:40.917Z"
      },
      {
        "duration": 3,
        "start_time": "2023-02-07T21:00:40.941Z"
      },
      {
        "duration": 12,
        "start_time": "2023-02-07T21:00:40.946Z"
      },
      {
        "duration": 8,
        "start_time": "2023-02-07T21:00:40.959Z"
      },
      {
        "duration": 6,
        "start_time": "2023-02-07T21:00:40.969Z"
      },
      {
        "duration": 12,
        "start_time": "2023-02-07T21:00:40.977Z"
      },
      {
        "duration": 7,
        "start_time": "2023-02-07T21:00:40.990Z"
      },
      {
        "duration": 44,
        "start_time": "2023-02-07T21:00:40.998Z"
      },
      {
        "duration": 10,
        "start_time": "2023-02-07T21:00:41.044Z"
      },
      {
        "duration": 6,
        "start_time": "2023-02-07T21:00:41.055Z"
      },
      {
        "duration": 60,
        "start_time": "2023-02-07T21:00:41.062Z"
      },
      {
        "duration": 16,
        "start_time": "2023-02-07T21:00:41.124Z"
      },
      {
        "duration": 16,
        "start_time": "2023-02-07T21:00:41.141Z"
      },
      {
        "duration": 20,
        "start_time": "2023-02-07T21:00:41.159Z"
      },
      {
        "duration": 11,
        "start_time": "2023-02-07T21:00:41.181Z"
      },
      {
        "duration": 306,
        "start_time": "2023-02-07T21:00:41.194Z"
      },
      {
        "duration": 6,
        "start_time": "2023-02-07T21:00:41.501Z"
      },
      {
        "duration": 232,
        "start_time": "2023-02-07T21:00:41.508Z"
      },
      {
        "duration": 229,
        "start_time": "2023-02-07T21:00:41.741Z"
      },
      {
        "duration": 323,
        "start_time": "2023-02-07T21:00:41.972Z"
      },
      {
        "duration": 6,
        "start_time": "2023-02-07T21:00:42.297Z"
      },
      {
        "duration": 229,
        "start_time": "2023-02-07T21:00:42.304Z"
      },
      {
        "duration": 346,
        "start_time": "2023-02-07T21:00:42.540Z"
      },
      {
        "duration": 15,
        "start_time": "2023-02-07T21:00:42.888Z"
      },
      {
        "duration": 218,
        "start_time": "2023-02-07T21:00:42.905Z"
      },
      {
        "duration": 5,
        "start_time": "2023-02-07T21:04:56.632Z"
      },
      {
        "duration": 5,
        "start_time": "2023-02-07T21:05:07.167Z"
      },
      {
        "duration": 219,
        "start_time": "2023-02-07T21:20:12.182Z"
      },
      {
        "duration": 325,
        "start_time": "2023-02-07T21:20:33.918Z"
      },
      {
        "duration": 223,
        "start_time": "2023-02-07T21:20:45.705Z"
      },
      {
        "duration": 221,
        "start_time": "2023-02-07T21:20:53.531Z"
      },
      {
        "duration": 216,
        "start_time": "2023-02-07T21:22:58.667Z"
      },
      {
        "duration": 5,
        "start_time": "2023-02-07T21:26:40.784Z"
      },
      {
        "duration": 89,
        "start_time": "2023-02-07T21:30:41.410Z"
      },
      {
        "duration": 22,
        "start_time": "2023-02-07T21:31:18.774Z"
      },
      {
        "duration": 22,
        "start_time": "2023-02-07T21:32:01.541Z"
      },
      {
        "duration": 121,
        "start_time": "2023-02-07T21:32:22.819Z"
      },
      {
        "duration": 33,
        "start_time": "2023-02-07T21:32:55.978Z"
      },
      {
        "duration": 133,
        "start_time": "2023-02-07T21:33:59.508Z"
      },
      {
        "duration": 165,
        "start_time": "2023-02-07T21:34:23.537Z"
      },
      {
        "duration": 6,
        "start_time": "2023-02-07T21:38:20.328Z"
      },
      {
        "duration": 24,
        "start_time": "2023-02-07T21:50:42.049Z"
      },
      {
        "duration": 4,
        "start_time": "2023-02-07T21:56:53.240Z"
      },
      {
        "duration": 29,
        "start_time": "2023-02-07T21:56:53.246Z"
      },
      {
        "duration": 3,
        "start_time": "2023-02-07T21:56:53.277Z"
      },
      {
        "duration": 13,
        "start_time": "2023-02-07T21:56:53.282Z"
      },
      {
        "duration": 8,
        "start_time": "2023-02-07T21:56:53.297Z"
      },
      {
        "duration": 34,
        "start_time": "2023-02-07T21:56:53.307Z"
      },
      {
        "duration": 9,
        "start_time": "2023-02-07T21:56:53.342Z"
      },
      {
        "duration": 9,
        "start_time": "2023-02-07T21:56:53.352Z"
      },
      {
        "duration": 7,
        "start_time": "2023-02-07T21:56:53.363Z"
      },
      {
        "duration": 9,
        "start_time": "2023-02-07T21:56:53.372Z"
      },
      {
        "duration": 4,
        "start_time": "2023-02-07T21:56:53.383Z"
      },
      {
        "duration": 54,
        "start_time": "2023-02-07T21:56:53.388Z"
      },
      {
        "duration": 15,
        "start_time": "2023-02-07T21:56:53.444Z"
      },
      {
        "duration": 14,
        "start_time": "2023-02-07T21:56:53.462Z"
      },
      {
        "duration": 20,
        "start_time": "2023-02-07T21:56:53.477Z"
      },
      {
        "duration": 48,
        "start_time": "2023-02-07T21:56:53.499Z"
      },
      {
        "duration": 305,
        "start_time": "2023-02-07T21:56:53.549Z"
      },
      {
        "duration": 6,
        "start_time": "2023-02-07T21:56:53.855Z"
      },
      {
        "duration": 242,
        "start_time": "2023-02-07T21:56:53.863Z"
      },
      {
        "duration": 236,
        "start_time": "2023-02-07T21:56:54.106Z"
      },
      {
        "duration": 338,
        "start_time": "2023-02-07T21:56:54.344Z"
      },
      {
        "duration": 6,
        "start_time": "2023-02-07T21:56:54.683Z"
      },
      {
        "duration": 235,
        "start_time": "2023-02-07T21:56:54.691Z"
      },
      {
        "duration": 354,
        "start_time": "2023-02-07T21:56:54.927Z"
      },
      {
        "duration": 16,
        "start_time": "2023-02-07T21:56:55.283Z"
      },
      {
        "duration": 234,
        "start_time": "2023-02-07T21:56:55.301Z"
      },
      {
        "duration": 4,
        "start_time": "2023-02-07T21:56:55.539Z"
      },
      {
        "duration": 6,
        "start_time": "2023-02-07T21:56:55.545Z"
      },
      {
        "duration": 234,
        "start_time": "2023-02-07T21:56:55.553Z"
      },
      {
        "duration": 227,
        "start_time": "2023-02-07T21:56:55.789Z"
      },
      {
        "duration": 4,
        "start_time": "2023-02-07T21:56:56.017Z"
      },
      {
        "duration": 193,
        "start_time": "2023-02-07T21:56:56.023Z"
      },
      {
        "duration": 119,
        "start_time": "2023-02-07T21:56:56.218Z"
      },
      {
        "duration": 30,
        "start_time": "2023-02-07T21:56:56.340Z"
      },
      {
        "duration": 169,
        "start_time": "2023-02-07T21:56:56.372Z"
      },
      {
        "duration": 8,
        "start_time": "2023-02-07T21:56:56.543Z"
      },
      {
        "duration": 36,
        "start_time": "2023-02-07T21:56:56.553Z"
      },
      {
        "duration": 47,
        "start_time": "2023-02-07T21:59:23.563Z"
      },
      {
        "duration": 12,
        "start_time": "2023-02-07T22:03:46.813Z"
      },
      {
        "duration": 7,
        "start_time": "2023-02-07T22:12:59.603Z"
      },
      {
        "duration": 9,
        "start_time": "2023-02-07T22:13:19.022Z"
      },
      {
        "duration": 10,
        "start_time": "2023-02-07T22:15:03.134Z"
      },
      {
        "duration": 4,
        "start_time": "2023-02-07T22:15:07.889Z"
      },
      {
        "duration": 30,
        "start_time": "2023-02-07T22:15:07.896Z"
      },
      {
        "duration": 3,
        "start_time": "2023-02-07T22:15:07.928Z"
      },
      {
        "duration": 13,
        "start_time": "2023-02-07T22:15:07.933Z"
      },
      {
        "duration": 13,
        "start_time": "2023-02-07T22:15:07.949Z"
      },
      {
        "duration": 19,
        "start_time": "2023-02-07T22:15:07.963Z"
      },
      {
        "duration": 19,
        "start_time": "2023-02-07T22:15:07.984Z"
      },
      {
        "duration": 28,
        "start_time": "2023-02-07T22:15:08.006Z"
      },
      {
        "duration": 9,
        "start_time": "2023-02-07T22:15:08.040Z"
      },
      {
        "duration": 20,
        "start_time": "2023-02-07T22:15:08.051Z"
      },
      {
        "duration": 6,
        "start_time": "2023-02-07T22:15:08.075Z"
      },
      {
        "duration": 47,
        "start_time": "2023-02-07T22:15:08.083Z"
      },
      {
        "duration": 16,
        "start_time": "2023-02-07T22:15:08.131Z"
      },
      {
        "duration": 16,
        "start_time": "2023-02-07T22:15:08.148Z"
      },
      {
        "duration": 27,
        "start_time": "2023-02-07T22:15:08.166Z"
      },
      {
        "duration": 23,
        "start_time": "2023-02-07T22:15:08.195Z"
      },
      {
        "duration": 293,
        "start_time": "2023-02-07T22:15:08.241Z"
      },
      {
        "duration": 10,
        "start_time": "2023-02-07T22:15:08.536Z"
      },
      {
        "duration": 252,
        "start_time": "2023-02-07T22:15:08.547Z"
      },
      {
        "duration": 268,
        "start_time": "2023-02-07T22:15:08.800Z"
      },
      {
        "duration": 320,
        "start_time": "2023-02-07T22:15:09.071Z"
      },
      {
        "duration": 6,
        "start_time": "2023-02-07T22:15:09.392Z"
      },
      {
        "duration": 235,
        "start_time": "2023-02-07T22:15:09.400Z"
      },
      {
        "duration": 373,
        "start_time": "2023-02-07T22:15:09.639Z"
      },
      {
        "duration": 27,
        "start_time": "2023-02-07T22:15:10.014Z"
      },
      {
        "duration": 237,
        "start_time": "2023-02-07T22:15:10.043Z"
      },
      {
        "duration": 4,
        "start_time": "2023-02-07T22:15:10.281Z"
      },
      {
        "duration": 6,
        "start_time": "2023-02-07T22:15:10.287Z"
      },
      {
        "duration": 246,
        "start_time": "2023-02-07T22:15:10.296Z"
      },
      {
        "duration": 231,
        "start_time": "2023-02-07T22:15:10.544Z"
      },
      {
        "duration": 4,
        "start_time": "2023-02-07T22:15:10.778Z"
      },
      {
        "duration": 110,
        "start_time": "2023-02-07T22:15:10.784Z"
      },
      {
        "duration": 114,
        "start_time": "2023-02-07T22:15:10.896Z"
      },
      {
        "duration": 42,
        "start_time": "2023-02-07T22:15:11.012Z"
      },
      {
        "duration": 151,
        "start_time": "2023-02-07T22:15:11.055Z"
      },
      {
        "duration": 7,
        "start_time": "2023-02-07T22:15:11.207Z"
      },
      {
        "duration": 40,
        "start_time": "2023-02-07T22:15:11.216Z"
      },
      {
        "duration": 14,
        "start_time": "2023-02-07T22:15:11.257Z"
      },
      {
        "duration": 9,
        "start_time": "2023-02-07T22:15:11.273Z"
      },
      {
        "duration": 767,
        "start_time": "2023-02-07T22:15:11.284Z"
      },
      {
        "duration": 10,
        "start_time": "2023-02-07T22:15:23.220Z"
      },
      {
        "duration": 30,
        "start_time": "2023-02-07T22:16:37.677Z"
      },
      {
        "duration": 29,
        "start_time": "2023-02-07T22:16:43.680Z"
      },
      {
        "duration": 838,
        "start_time": "2023-02-07T22:20:03.531Z"
      },
      {
        "duration": 15,
        "start_time": "2023-02-07T22:20:28.532Z"
      },
      {
        "duration": 1363,
        "start_time": "2023-02-08T13:59:40.280Z"
      },
      {
        "duration": 70,
        "start_time": "2023-02-08T13:59:41.645Z"
      },
      {
        "duration": 3,
        "start_time": "2023-02-08T13:59:41.717Z"
      },
      {
        "duration": 22,
        "start_time": "2023-02-08T13:59:41.722Z"
      },
      {
        "duration": 5,
        "start_time": "2023-02-08T13:59:41.746Z"
      },
      {
        "duration": 8,
        "start_time": "2023-02-08T13:59:41.753Z"
      },
      {
        "duration": 8,
        "start_time": "2023-02-08T13:59:41.762Z"
      },
      {
        "duration": 8,
        "start_time": "2023-02-08T13:59:41.771Z"
      },
      {
        "duration": 12,
        "start_time": "2023-02-08T13:59:41.781Z"
      },
      {
        "duration": 15,
        "start_time": "2023-02-08T13:59:41.796Z"
      },
      {
        "duration": 5,
        "start_time": "2023-02-08T13:59:41.815Z"
      },
      {
        "duration": 131,
        "start_time": "2023-02-08T13:59:41.822Z"
      },
      {
        "duration": 15,
        "start_time": "2023-02-08T13:59:41.955Z"
      },
      {
        "duration": 14,
        "start_time": "2023-02-08T13:59:41.971Z"
      },
      {
        "duration": 34,
        "start_time": "2023-02-08T13:59:41.987Z"
      },
      {
        "duration": 14,
        "start_time": "2023-02-08T13:59:42.023Z"
      },
      {
        "duration": 305,
        "start_time": "2023-02-08T13:59:42.038Z"
      },
      {
        "duration": 7,
        "start_time": "2023-02-08T13:59:42.345Z"
      },
      {
        "duration": 336,
        "start_time": "2023-02-08T13:59:42.354Z"
      },
      {
        "duration": 231,
        "start_time": "2023-02-08T13:59:42.692Z"
      },
      {
        "duration": 408,
        "start_time": "2023-02-08T13:59:42.925Z"
      },
      {
        "duration": 7,
        "start_time": "2023-02-08T13:59:43.336Z"
      },
      {
        "duration": 322,
        "start_time": "2023-02-08T13:59:43.345Z"
      },
      {
        "duration": 473,
        "start_time": "2023-02-08T13:59:43.670Z"
      },
      {
        "duration": 24,
        "start_time": "2023-02-08T13:59:44.145Z"
      },
      {
        "duration": 280,
        "start_time": "2023-02-08T13:59:44.170Z"
      },
      {
        "duration": 6,
        "start_time": "2023-02-08T13:59:44.452Z"
      },
      {
        "duration": 11,
        "start_time": "2023-02-08T13:59:44.462Z"
      },
      {
        "duration": 253,
        "start_time": "2023-02-08T13:59:44.476Z"
      },
      {
        "duration": 314,
        "start_time": "2023-02-08T13:59:44.731Z"
      },
      {
        "duration": 4,
        "start_time": "2023-02-08T13:59:45.047Z"
      },
      {
        "duration": 119,
        "start_time": "2023-02-08T13:59:45.053Z"
      },
      {
        "duration": 122,
        "start_time": "2023-02-08T13:59:45.173Z"
      },
      {
        "duration": 33,
        "start_time": "2023-02-08T13:59:45.297Z"
      },
      {
        "duration": 171,
        "start_time": "2023-02-08T13:59:45.332Z"
      },
      {
        "duration": 9,
        "start_time": "2023-02-08T13:59:45.512Z"
      },
      {
        "duration": 39,
        "start_time": "2023-02-08T13:59:45.524Z"
      },
      {
        "duration": 16,
        "start_time": "2023-02-08T13:59:45.565Z"
      },
      {
        "duration": 17,
        "start_time": "2023-02-08T13:59:45.595Z"
      },
      {
        "duration": 37,
        "start_time": "2023-02-08T13:59:45.614Z"
      },
      {
        "duration": 19,
        "start_time": "2023-02-08T13:59:45.653Z"
      },
      {
        "duration": 52,
        "start_time": "2023-02-09T12:32:51.198Z"
      },
      {
        "duration": 1368,
        "start_time": "2023-02-09T12:32:56.335Z"
      },
      {
        "duration": 61,
        "start_time": "2023-02-09T12:32:57.705Z"
      },
      {
        "duration": 3,
        "start_time": "2023-02-09T12:32:57.768Z"
      },
      {
        "duration": 15,
        "start_time": "2023-02-09T12:32:57.773Z"
      },
      {
        "duration": 7,
        "start_time": "2023-02-09T12:32:57.790Z"
      },
      {
        "duration": 7,
        "start_time": "2023-02-09T12:32:57.799Z"
      },
      {
        "duration": 13,
        "start_time": "2023-02-09T12:32:57.808Z"
      },
      {
        "duration": 17,
        "start_time": "2023-02-09T12:32:57.823Z"
      },
      {
        "duration": 31,
        "start_time": "2023-02-09T12:32:57.843Z"
      },
      {
        "duration": 14,
        "start_time": "2023-02-09T12:32:57.875Z"
      },
      {
        "duration": 7,
        "start_time": "2023-02-09T12:32:57.891Z"
      },
      {
        "duration": 131,
        "start_time": "2023-02-09T12:32:57.900Z"
      },
      {
        "duration": 17,
        "start_time": "2023-02-09T12:32:58.033Z"
      },
      {
        "duration": 18,
        "start_time": "2023-02-09T12:32:58.053Z"
      },
      {
        "duration": 22,
        "start_time": "2023-02-09T12:32:58.073Z"
      },
      {
        "duration": 19,
        "start_time": "2023-02-09T12:32:58.097Z"
      },
      {
        "duration": 317,
        "start_time": "2023-02-09T12:32:58.139Z"
      },
      {
        "duration": 9,
        "start_time": "2023-02-09T12:32:58.458Z"
      },
      {
        "duration": 361,
        "start_time": "2023-02-09T12:32:58.469Z"
      },
      {
        "duration": 286,
        "start_time": "2023-02-09T12:32:58.832Z"
      },
      {
        "duration": 423,
        "start_time": "2023-02-09T12:32:59.121Z"
      },
      {
        "duration": 7,
        "start_time": "2023-02-09T12:32:59.546Z"
      },
      {
        "duration": 249,
        "start_time": "2023-02-09T12:32:59.555Z"
      },
      {
        "duration": 388,
        "start_time": "2023-02-09T12:32:59.805Z"
      },
      {
        "duration": 17,
        "start_time": "2023-02-09T12:33:00.195Z"
      },
      {
        "duration": 277,
        "start_time": "2023-02-09T12:33:00.215Z"
      },
      {
        "duration": 5,
        "start_time": "2023-02-09T12:33:00.493Z"
      },
      {
        "duration": 36,
        "start_time": "2023-02-09T12:33:00.501Z"
      },
      {
        "duration": 297,
        "start_time": "2023-02-09T12:33:00.539Z"
      },
      {
        "duration": 333,
        "start_time": "2023-02-09T12:33:00.837Z"
      },
      {
        "duration": 5,
        "start_time": "2023-02-09T12:33:01.173Z"
      },
      {
        "duration": 114,
        "start_time": "2023-02-09T12:33:01.181Z"
      },
      {
        "duration": 137,
        "start_time": "2023-02-09T12:33:01.297Z"
      },
      {
        "duration": 30,
        "start_time": "2023-02-09T12:33:01.436Z"
      },
      {
        "duration": 160,
        "start_time": "2023-02-09T12:33:01.468Z"
      },
      {
        "duration": 15,
        "start_time": "2023-02-09T12:33:01.630Z"
      },
      {
        "duration": 61,
        "start_time": "2023-02-09T12:33:01.647Z"
      },
      {
        "duration": 22,
        "start_time": "2023-02-09T12:33:01.711Z"
      },
      {
        "duration": 28,
        "start_time": "2023-02-09T12:33:01.735Z"
      },
      {
        "duration": 56,
        "start_time": "2023-02-09T12:33:01.765Z"
      },
      {
        "duration": 22,
        "start_time": "2023-02-09T12:33:01.825Z"
      },
      {
        "duration": 900,
        "start_time": "2023-02-09T12:33:53.800Z"
      },
      {
        "duration": 8,
        "start_time": "2023-02-09T12:34:05.559Z"
      },
      {
        "duration": 221,
        "start_time": "2023-02-09T12:34:07.252Z"
      },
      {
        "duration": 381,
        "start_time": "2023-02-09T12:35:37.021Z"
      },
      {
        "duration": 10,
        "start_time": "2023-02-09T12:45:24.747Z"
      },
      {
        "duration": 11,
        "start_time": "2023-02-09T12:45:42.298Z"
      },
      {
        "duration": 12,
        "start_time": "2023-02-09T12:45:48.216Z"
      },
      {
        "duration": 30,
        "start_time": "2023-02-09T12:46:00.420Z"
      },
      {
        "duration": 18,
        "start_time": "2023-02-09T12:52:38.390Z"
      },
      {
        "duration": 14,
        "start_time": "2023-02-09T12:53:16.671Z"
      },
      {
        "duration": 21,
        "start_time": "2023-02-09T12:54:00.779Z"
      },
      {
        "duration": 14,
        "start_time": "2023-02-09T12:54:10.439Z"
      },
      {
        "duration": 276,
        "start_time": "2023-02-09T12:58:57.089Z"
      },
      {
        "duration": 25,
        "start_time": "2023-02-09T13:26:38.790Z"
      },
      {
        "duration": 16,
        "start_time": "2023-02-09T13:27:14.625Z"
      },
      {
        "duration": 29,
        "start_time": "2023-02-09T13:29:04.359Z"
      },
      {
        "duration": 49,
        "start_time": "2023-02-11T10:05:48.632Z"
      },
      {
        "duration": 1196,
        "start_time": "2023-02-11T10:05:52.876Z"
      },
      {
        "duration": 62,
        "start_time": "2023-02-11T10:05:54.074Z"
      },
      {
        "duration": 4,
        "start_time": "2023-02-11T10:05:54.137Z"
      },
      {
        "duration": 14,
        "start_time": "2023-02-11T10:05:54.142Z"
      },
      {
        "duration": 6,
        "start_time": "2023-02-11T10:05:54.159Z"
      },
      {
        "duration": 13,
        "start_time": "2023-02-11T10:05:54.167Z"
      },
      {
        "duration": 9,
        "start_time": "2023-02-11T10:05:54.182Z"
      },
      {
        "duration": 7,
        "start_time": "2023-02-11T10:05:54.193Z"
      },
      {
        "duration": 42,
        "start_time": "2023-02-11T10:05:54.201Z"
      },
      {
        "duration": 13,
        "start_time": "2023-02-11T10:05:54.245Z"
      },
      {
        "duration": 12,
        "start_time": "2023-02-11T10:05:54.260Z"
      },
      {
        "duration": 135,
        "start_time": "2023-02-11T10:05:54.274Z"
      },
      {
        "duration": 15,
        "start_time": "2023-02-11T10:05:54.411Z"
      },
      {
        "duration": 14,
        "start_time": "2023-02-11T10:05:54.429Z"
      },
      {
        "duration": 21,
        "start_time": "2023-02-11T10:05:54.445Z"
      },
      {
        "duration": 13,
        "start_time": "2023-02-11T10:05:54.467Z"
      },
      {
        "duration": 11,
        "start_time": "2023-02-11T10:05:54.481Z"
      },
      {
        "duration": 8,
        "start_time": "2023-02-11T10:05:54.494Z"
      },
      {
        "duration": 289,
        "start_time": "2023-02-11T10:05:54.504Z"
      },
      {
        "duration": 5,
        "start_time": "2023-02-11T10:05:54.795Z"
      },
      {
        "duration": 295,
        "start_time": "2023-02-11T10:05:54.801Z"
      },
      {
        "duration": 215,
        "start_time": "2023-02-11T10:05:55.098Z"
      },
      {
        "duration": 397,
        "start_time": "2023-02-11T10:05:55.315Z"
      },
      {
        "duration": 6,
        "start_time": "2023-02-11T10:05:55.714Z"
      },
      {
        "duration": 220,
        "start_time": "2023-02-11T10:05:55.722Z"
      },
      {
        "duration": 331,
        "start_time": "2023-02-11T10:05:55.944Z"
      },
      {
        "duration": 16,
        "start_time": "2023-02-11T10:05:56.277Z"
      },
      {
        "duration": 214,
        "start_time": "2023-02-11T10:05:56.295Z"
      },
      {
        "duration": 5,
        "start_time": "2023-02-11T10:05:56.511Z"
      },
      {
        "duration": 19,
        "start_time": "2023-02-11T10:05:56.518Z"
      },
      {
        "duration": 211,
        "start_time": "2023-02-11T10:05:56.539Z"
      },
      {
        "duration": 315,
        "start_time": "2023-02-11T10:05:56.752Z"
      },
      {
        "duration": 5,
        "start_time": "2023-02-11T10:05:57.069Z"
      },
      {
        "duration": 91,
        "start_time": "2023-02-11T10:05:57.075Z"
      },
      {
        "duration": 110,
        "start_time": "2023-02-11T10:05:57.168Z"
      },
      {
        "duration": 27,
        "start_time": "2023-02-11T10:05:57.280Z"
      },
      {
        "duration": 130,
        "start_time": "2023-02-11T10:05:57.309Z"
      },
      {
        "duration": 5,
        "start_time": "2023-02-11T10:05:57.440Z"
      },
      {
        "duration": 21,
        "start_time": "2023-02-11T10:05:57.447Z"
      },
      {
        "duration": 9,
        "start_time": "2023-02-11T10:05:57.469Z"
      },
      {
        "duration": 7,
        "start_time": "2023-02-11T10:05:57.481Z"
      },
      {
        "duration": 48,
        "start_time": "2023-02-11T10:05:57.490Z"
      },
      {
        "duration": 12,
        "start_time": "2023-02-11T10:05:57.540Z"
      },
      {
        "duration": 1254,
        "start_time": "2023-04-17T17:19:04.824Z"
      },
      {
        "duration": 61,
        "start_time": "2023-04-17T17:19:06.080Z"
      },
      {
        "duration": 3,
        "start_time": "2023-04-17T17:19:06.143Z"
      },
      {
        "duration": 18,
        "start_time": "2023-04-17T17:19:06.148Z"
      },
      {
        "duration": 16,
        "start_time": "2023-04-17T17:19:06.168Z"
      },
      {
        "duration": 7,
        "start_time": "2023-04-17T17:19:06.185Z"
      },
      {
        "duration": 15,
        "start_time": "2023-04-17T17:19:06.194Z"
      },
      {
        "duration": 6,
        "start_time": "2023-04-17T17:19:06.211Z"
      },
      {
        "duration": 10,
        "start_time": "2023-04-17T17:19:06.219Z"
      },
      {
        "duration": 10,
        "start_time": "2023-04-17T17:19:06.231Z"
      },
      {
        "duration": 16,
        "start_time": "2023-04-17T17:19:06.242Z"
      },
      {
        "duration": 157,
        "start_time": "2023-04-17T17:19:06.260Z"
      },
      {
        "duration": 13,
        "start_time": "2023-04-17T17:19:06.419Z"
      },
      {
        "duration": 18,
        "start_time": "2023-04-17T17:19:06.435Z"
      },
      {
        "duration": 43,
        "start_time": "2023-04-17T17:19:06.454Z"
      },
      {
        "duration": 22,
        "start_time": "2023-04-17T17:19:06.498Z"
      },
      {
        "duration": 30,
        "start_time": "2023-04-17T17:19:06.521Z"
      },
      {
        "duration": 7,
        "start_time": "2023-04-17T17:19:06.552Z"
      },
      {
        "duration": 277,
        "start_time": "2023-04-17T17:19:06.561Z"
      },
      {
        "duration": 5,
        "start_time": "2023-04-17T17:19:06.840Z"
      },
      {
        "duration": 318,
        "start_time": "2023-04-17T17:19:06.847Z"
      },
      {
        "duration": 219,
        "start_time": "2023-04-17T17:19:07.167Z"
      },
      {
        "duration": 328,
        "start_time": "2023-04-17T17:19:07.389Z"
      },
      {
        "duration": 6,
        "start_time": "2023-04-17T17:19:07.718Z"
      },
      {
        "duration": 224,
        "start_time": "2023-04-17T17:19:07.726Z"
      },
      {
        "duration": 354,
        "start_time": "2023-04-17T17:19:07.952Z"
      },
      {
        "duration": 15,
        "start_time": "2023-04-17T17:19:08.308Z"
      },
      {
        "duration": 210,
        "start_time": "2023-04-17T17:19:08.324Z"
      },
      {
        "duration": 3,
        "start_time": "2023-04-17T17:19:08.536Z"
      },
      {
        "duration": 8,
        "start_time": "2023-04-17T17:19:08.541Z"
      },
      {
        "duration": 207,
        "start_time": "2023-04-17T17:19:08.550Z"
      },
      {
        "duration": 279,
        "start_time": "2023-04-17T17:19:08.759Z"
      },
      {
        "duration": 4,
        "start_time": "2023-04-17T17:19:09.040Z"
      },
      {
        "duration": 93,
        "start_time": "2023-04-17T17:19:09.045Z"
      },
      {
        "duration": 117,
        "start_time": "2023-04-17T17:19:09.140Z"
      },
      {
        "duration": 30,
        "start_time": "2023-04-17T17:19:09.259Z"
      },
      {
        "duration": 127,
        "start_time": "2023-04-17T17:19:09.291Z"
      },
      {
        "duration": 6,
        "start_time": "2023-04-17T17:19:09.419Z"
      },
      {
        "duration": 48,
        "start_time": "2023-04-17T17:19:09.426Z"
      },
      {
        "duration": 9,
        "start_time": "2023-04-17T17:19:09.475Z"
      },
      {
        "duration": 26,
        "start_time": "2023-04-17T17:19:09.488Z"
      },
      {
        "duration": 37,
        "start_time": "2023-04-17T17:19:09.515Z"
      },
      {
        "duration": 18,
        "start_time": "2023-04-17T17:19:09.553Z"
      }
    ],
    "kernelspec": {
      "display_name": "Python 3 (ipykernel)",
      "language": "python",
      "name": "python3"
    },
    "language_info": {
      "codemirror_mode": {
        "name": "ipython",
        "version": 3
      },
      "file_extension": ".py",
      "mimetype": "text/x-python",
      "name": "python",
      "nbconvert_exporter": "python",
      "pygments_lexer": "ipython3",
      "version": "3.9.5"
    },
    "toc": {
      "base_numbering": 1,
      "nav_menu": {},
      "number_sections": true,
      "sideBar": true,
      "skip_h1_title": true,
      "title_cell": "Table of Contents",
      "title_sidebar": "Contents",
      "toc_cell": false,
      "toc_position": {},
      "toc_section_display": true,
      "toc_window_display": false
    },
    "colab": {
      "provenance": [],
      "toc_visible": true
    }
  },
  "nbformat": 4,
  "nbformat_minor": 0
}