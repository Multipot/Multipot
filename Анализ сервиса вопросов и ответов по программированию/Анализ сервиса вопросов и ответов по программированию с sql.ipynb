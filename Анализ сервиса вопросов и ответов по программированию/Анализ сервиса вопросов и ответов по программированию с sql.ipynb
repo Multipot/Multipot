{
  "nbformat": 4,
  "nbformat_minor": 0,
  "metadata": {
    "colab": {
      "private_outputs": true,
      "provenance": [],
      "collapsed_sections": [
        "vkjPEUQm23gn"
      ],
      "toc_visible": true
    },
    "kernelspec": {
      "name": "python3",
      "display_name": "Python 3"
    },
    "language_info": {
      "name": "python"
    }
  },
  "cells": [
    {
      "cell_type": "markdown",
      "source": [
        "# Цель проекта:\n",
        "Провести анализ сервиса вопросов и ответов по программированию.\n",
        "\n",
        "С помощью SQL посчитаем ключевые метрики сервис-системы вопросов и ответов о программировании."
      ],
      "metadata": {
        "id": "47cQUEBC01Iv"
      }
    },
    {
      "cell_type": "markdown",
      "source": [
        "# Описание таблиц"
      ],
      "metadata": {
        "id": "vkjPEUQm23gn"
      }
    },
    {
      "cell_type": "markdown",
      "source": [
        "#### Таблица stackoverflow.posts\n",
        "Содержит информацию о постах.\n",
        "\n",
        "      Поле\tОписание\n",
        "      id\t- Идентификатор поста, первичный ключ таблицы\n",
        "      title\t- Заголовок поста\n",
        "      creation_date\t- Дата создания поста\n",
        "      favorites_count\t- Число, которое показывает, сколько раз пост добавили в «Закладки»\n",
        "      last_activity_date\t- Дата последнего действия в посте, например комментария\n",
        "      last_edit_date\t- Дата последнего изменения поста\n",
        "      user_id\t- Идентификатор пользователя, который создал пост, внешний ключ к таблице users\n",
        "      parent_id\t- Если пост написали в ответ на другую публикацию, в это поле попадёт идентификатор поста с вопросом\n",
        "      post_type_id\t- Идентификатор типа поста, внешний ключ к таблице post_types\n",
        "      score\t- Количество очков, которое набрал пост\n",
        "      views_count\t- Количество просмотров"
      ],
      "metadata": {
        "id": "NgNG0Q4402AD"
      }
    },
    {
      "cell_type": "markdown",
      "source": [
        "#### Таблица stackoverflow.users\n",
        "Содержит информацию о пользователях.\n",
        "\n",
        "    Поле\tОписание\n",
        "    id\t- Идентификатор пользователя, первичный ключ таблицы\n",
        "    creation_date\t- Дата регистрации пользователя\n",
        "    display_name\t- Имя пользователя\n",
        "    last_access_date\t- Дата последнего входа\n",
        "    location\t- Местоположение\n",
        "    reputation\t- Очки репутации, которые получают за хорошие вопросы и полезные ответы\n",
        "    views\t- Число просмотров профиля пользователя"
      ],
      "metadata": {
        "id": "qfyUxORp1x2e"
      }
    },
    {
      "cell_type": "markdown",
      "source": [
        "# Исследовательский анализ."
      ],
      "metadata": {
        "id": "QGdJqx6h3R_K"
      }
    },
    {
      "cell_type": "markdown",
      "source": [
        "###### Выведим общую сумму просмотров постов за каждый месяц 2008 года.\n",
        "Если данных за какой-либо месяц в базе нет, такой месяц пропустим. Результат отсортируем по убыванию общего количества просмотров."
      ],
      "metadata": {
        "id": "TlLLKv-8sQaj"
      }
    },
    {
      "cell_type": "code",
      "execution_count": null,
      "metadata": {
        "id": "l4WFr5zyfiHG"
      },
      "outputs": [],
      "source": [
        "'''\n",
        "SELECT\n",
        "  CAST(DATE_TRUNC('MONTH', creation_date) AS DATE) AS report_dt,\n",
        "  SUM(views_count) AS total\n",
        "FROM stackoverflow.posts\n",
        "WHERE EXTRACT(YEAR FROM creation_date) = 2008\n",
        "GROUP BY 1\n",
        "ORDER BY 2 DESC\n",
        "'''"
      ]
    },
    {
      "cell_type": "markdown",
      "source": [
        "report_dt\t |  total\n",
        "\n",
        "2008-09-01\t| 452928568\n",
        "\n",
        "2008-10-01\t| 365400138\n",
        "\n",
        "...\n",
        "\n",
        "2008-07-01\t| 669895\n"
      ],
      "metadata": {
        "id": "b2_06KA4ijEj"
      }
    },
    {
      "cell_type": "markdown",
      "source": [
        "*Видим, что данные отличаются. Возможно, повышенная активность в сентябре и октябре связана с началом учебного года. Малая активность в июле может свидетельствовать о неполноте данных.*"
      ],
      "metadata": {
        "id": "jDUU8QgMtkAq"
      }
    },
    {
      "cell_type": "markdown",
      "source": [
        "###### Выведим имена самых активных пользователей,\n",
        "которые в первый месяц после регистрации (включая день регистрации) дали больше 100 ответов. Вопросы, которые задавали пользователи, учитывать не будем. Для каждого имени пользователя выведим количество уникальных значений `user_id`. Отсортируем результат по полю с именами в лексикографическом порядке."
      ],
      "metadata": {
        "id": "Elt4o0VwtGpm"
      }
    },
    {
      "cell_type": "code",
      "source": [
        "'''\n",
        "SELECT\n",
        "  u.display_name,\n",
        "  COUNT(DISTINCT u.id)\n",
        "FROM stackoverflow.users AS u\n",
        "JOIN stackoverflow.posts AS p\n",
        "  ON u.id = p.user_id\n",
        "JOIN stackoverflow.post_types AS pt\n",
        "  ON p.post_type_id = pt.id\n",
        "WHERE CAST(p.creation_date AS DATE) BETWEEN CAST(u.creation_date AS DATE) AND (CAST(u.creation_date AS DATE) + INTERVAL '1 month')    AND pt.type = 'Answer'\n",
        "GROUP BY u.display_name\n",
        "HAVING COUNT(*) > 100\n",
        "ORDER BY u.display_name;\n",
        "'''"
      ],
      "metadata": {
        "id": "i3rNh0E7iozy"
      },
      "execution_count": null,
      "outputs": []
    },
    {
      "cell_type": "markdown",
      "source": [
        "display_name\t | count\n",
        "\n",
        "1800 INFORMATION\t |  1\n",
        "\n",
        "Adam Bellaire\t| 1\n",
        "\n",
        "...\n",
        "\n",
        "Vilx-\t| 1\n",
        "\n",
        "Vinko Vrsalovic\t| 1\n"
      ],
      "metadata": {
        "id": "gq9vWKDht3xk"
      }
    },
    {
      "cell_type": "markdown",
      "source": [
        "*Кажется, что одному имени пользователя должен соответствовать один `user_id`. Но это не так: многим популярным именам вроде Alan, Dan или Chris соответствует несколько значений `user_id`. Данные лучше не анализировать по имени, иначе результаты будут некорректными.*"
      ],
      "metadata": {
        "id": "TOTPLqmAteS2"
      }
    },
    {
      "cell_type": "markdown",
      "source": [
        "###### Выведиv количество постов за 2008 год по месяцам.\n",
        "Отберем посты от пользователей, которые зарегистрировались в сентябре 2008 года и сделали хотя бы один пост в декабре того же года. Отсортирем таблицу по значению месяца по убыванию."
      ],
      "metadata": {
        "id": "TNDl5Z80tHoi"
      }
    },
    {
      "cell_type": "code",
      "source": [
        "'''\n",
        "WITH tmp1 AS (\n",
        "SELECT\n",
        "  CAST(DATE_TRUNC('month', p.creation_date) AS DATE) AS creation_date,\n",
        "  p.user_id,\n",
        "  COUNT(*) AS cnt\n",
        "FROM stackoverflow.posts AS p\n",
        "JOIN stackoverflow.users AS u\n",
        "    ON u.id = p.user_id\n",
        "    AND CAST(DATE_TRUNC('month', u.creation_date) AS DATE) = '2008-09-01'\n",
        "WHERE EXTRACT(YEAR FROM p.creation_date) = 2008\n",
        "GROUP BY 1,2\n",
        ")\n",
        "SELECT\n",
        "  creation_date,\n",
        "  SUM(cnt) AS cnt\n",
        "FROM tmp1\n",
        "WHERE user_id IN (SELECT DISTINCT user_id\n",
        "                  FROM stackoverflow.posts\n",
        "                  WHERE EXTRACT(YEAR FROM creation_date) = 2008\n",
        "                   AND EXTRACT(MONTH FROM creation_date) = 12)\n",
        "GROUP BY 1\n",
        "ORDER BY 1 DESC\n",
        "\n",
        "'''"
      ],
      "metadata": {
        "id": "EmlUPYDbs65g"
      },
      "execution_count": null,
      "outputs": []
    },
    {
      "cell_type": "markdown",
      "source": [
        "creation_date\t| cnt\n",
        "\n",
        "2008-12-01\t| 17641\n",
        "\n",
        "2008-11-01\t| 18294\n",
        "\n",
        "...\n",
        "\n",
        "2008-09-01\t| 24870\n",
        "\n",
        "2008-08-01\t| 32"
      ],
      "metadata": {
        "id": "AKm1Eg3Dxy-v"
      }
    },
    {
      "cell_type": "markdown",
      "source": [
        "*В итоговой таблице встречаются аномальные значения: пользователи, зарегистрированные в сентябре, были активны и в августе. Возможно, это ошибка в данных.*"
      ],
      "metadata": {
        "id": "BixsXhpNxuNc"
      }
    },
    {
      "cell_type": "markdown",
      "source": [
        "###### Используя данные о постах, выведим несколько полей:\n",
        "\n",
        "*  идентификатор пользователя, который написал пост;\n",
        "*  дата создания поста;\n",
        "*  количество просмотров у текущего поста;\n",
        "*  сумму просмотров постов автора с накоплением.\n",
        "\n",
        "Данные в таблице отсортируем по возрастанию идентификаторов пользователей, а данные об одном и том же пользователе — по возрастанию даты создания поста."
      ],
      "metadata": {
        "id": "fVwN3RFStIn5"
      }
    },
    {
      "cell_type": "code",
      "source": [
        "'''\n",
        "SELECT *\n",
        "FROM(\n",
        "        SELECT\n",
        "          user_id,\n",
        "          creation_date,\n",
        "          views_count,\n",
        "          SUM(views_count) OVER (PARTITION BY user_id ORDER BY creation_date) AS total_v\n",
        "        FROM stackoverflow.posts\n",
        "     )AS t\n",
        "ORDER BY user_id, creation_date\n",
        "'''"
      ],
      "metadata": {
        "id": "yIOWXQlis8-Y"
      },
      "execution_count": null,
      "outputs": []
    },
    {
      "cell_type": "markdown",
      "source": [
        "user_id\t| creation_date\t| views_count\t| total_v\n",
        "\n",
        "1\t| 2008-07-31 23:41:00\t| 480476\t| 480476\n",
        "\n",
        "1\t| 2008-07-31 23:55:38\t| 136033\t| 616509\n",
        "\n",
        "...\n",
        "\n",
        "5\t| 2008-09-12 16:20:24\t| 3839\t| 79444"
      ],
      "metadata": {
        "id": "Nvp1tzkUypzO"
      }
    },
    {
      "cell_type": "markdown",
      "source": [
        "*В теории все расчёты с оконной функцией можно выполнить и без неё. Но размер запроса имеет значение.*"
      ],
      "metadata": {
        "id": "cXvNJsC1yfiX"
      }
    },
    {
      "cell_type": "markdown",
      "source": [
        "###### Посмотрим, сколько в среднем дней, в период с 1 по 7 декабря 2008 года включительно, пользователи взаимодействовали с платформой?\n",
        "Для каждого пользователя отберите дни, в которые он или она опубликовали хотя бы один пост. Результат округлим ."
      ],
      "metadata": {
        "id": "FJP29QaCtJcj"
      }
    },
    {
      "cell_type": "code",
      "source": [
        "'''\n",
        "SELECT\n",
        "  ROUND(AVG(cnt)) AS avg_cnt\n",
        "FROM (\n",
        "       SELECT\n",
        "          user_id,\n",
        "          COUNT(*) AS cnt\n",
        "        FROM (\n",
        "               SELECT DISTINCT\n",
        "                  user_id,\n",
        "                  EXTRACT(DAY FROM CAST(creation_date AS DATE)) AS day\n",
        "                FROM stackoverflow.posts\n",
        "                WHERE CAST(creation_date AS DATE) BETWEEN '2008-12-01' AND '2008-12-07'\n",
        "             )t\n",
        "        GROUP BY 1\n",
        "     )t\n",
        "'''"
      ],
      "metadata": {
        "id": "HfzG9a7ks9le"
      },
      "execution_count": null,
      "outputs": []
    },
    {
      "cell_type": "markdown",
      "source": [
        "avg_cnt\n",
        "\n",
        "2"
      ],
      "metadata": {
        "id": "eVNMtjJTzXDf"
      }
    },
    {
      "cell_type": "markdown",
      "source": [
        "###### На сколько процентов менялось количество постов ежемесячно с 1 сентября по 31 декабря 2008 года? Отобразим таблицу со следующими полями:\n",
        "\n",
        "*  номер месяца;\n",
        "*  количество постов за месяц;\n",
        "*  процент, который показывает, насколько изменилось\n",
        "*  количество постов в текущем месяце по сравнению с предыдущим.\n",
        "\n",
        "Если постов стало меньше, значение процента должно быть отрицательным, если больше — положительным. Округлим значение процента до двух знаков после запятой.\n",
        "Помним, что при делении одного целого числа на другое в PostgreSQL в результате получится целое число, округлённое до ближайшего целого вниз. Чтобы этого избежать, переведем делимое в тип `numeric`."
      ],
      "metadata": {
        "id": "_IU4Yu5btKEU"
      }
    },
    {
      "cell_type": "code",
      "source": [
        "'''\n",
        "WITH tmp1 AS (\n",
        "SELECT\n",
        "  EXTRACT(MONTH FROM CAST(p.creation_date AS DATE)) AS month_dt,\n",
        "  COUNT(*) AS cnt\n",
        "FROM stackoverflow.posts AS p\n",
        "JOIN stackoverflow.users AS u\n",
        "      ON p.user_id = u.id\n",
        "WHERE CAST(p.creation_date AS DATE) BETWEEN '2008-09-01' AND '2008-12-31'\n",
        "GROUP BY 1\n",
        ")\n",
        "SELECT *\n",
        "FROM (\n",
        "        SELECT\n",
        "          month_dt,\n",
        "          cnt,\n",
        "         -- LAG(cnt, 1, cnt) OVER (ORDER BY month_dt) AS prev_cnt,\n",
        "          ROUND((cnt - LAG(cnt) OVER (ORDER BY month_dt)) * 1.0 / LAG(cnt, 1, cnt) OVER (ORDER BY month_dt) * 100,2) AS pr\n",
        "        FROM tmp1\n",
        "    )t\n",
        "WHERE month_dt > 8\n",
        "'''"
      ],
      "metadata": {
        "id": "f4jobuaZs-LK"
      },
      "execution_count": null,
      "outputs": []
    },
    {
      "cell_type": "markdown",
      "source": [
        "month_dt\t| cnt\t| pr\n",
        "\n",
        "10\t| 63102\t| -10.33\n",
        "\n",
        "...\n",
        "\n",
        "12\t| 44592\t| -5.07\n",
        "\n"
      ],
      "metadata": {
        "id": "2eA3EbObz17s"
      }
    },
    {
      "cell_type": "markdown",
      "source": [
        "###### Выгрузим данные активности пользователя, который опубликовал больше всего постов за всё время.\n",
        "Выведим данные за октябрь 2008 года в таком виде:\n",
        "\n",
        " * номер недели;\n",
        " * дата и время последнего поста, опубликованного на этой неделе."
      ],
      "metadata": {
        "id": "ykPOPRNqtK14"
      }
    },
    {
      "cell_type": "code",
      "source": [
        "'''\n",
        "WITH tmp1 AS (\n",
        "SELECT\n",
        "  p.user_id,\n",
        "  COUNT(*)\n",
        "FROM stackoverflow.posts AS p\n",
        "JOIN stackoverflow.posts AS u\n",
        "    ON p.user_id = u.id\n",
        "GROUP BY p.user_id\n",
        "ORDER BY 2 DESC\n",
        "LIMIT 1\n",
        ")\n",
        "SELECT\n",
        "  EXTRACT(WEEK FROM creation_date) AS wk,\n",
        "  MAX(creation_date) AS creation_date\n",
        "FROM stackoverflow.posts\n",
        "WHERE CAST(DATE_TRUNC('MONTH', creation_date) AS DATE) = '2008-10-01'\n",
        "  AND user_id IN (SELECT user_id FROM tmp1)\n",
        "GROUP BY 1\n",
        "'''"
      ],
      "metadata": {
        "id": "ZyjeqcgEs-rC"
      },
      "execution_count": null,
      "outputs": []
    },
    {
      "cell_type": "markdown",
      "source": [
        "wk\t| creation_date\n",
        "\n",
        "40\t| 2008-10-05 09:00:58\n",
        "\n",
        "41\t| 2008-10-12 21:22:23\n",
        "\n",
        "...\n",
        "\n",
        "44\t| 2008-10-31 22:16:01"
      ],
      "metadata": {
        "id": "5Yvbkh_70dqc"
      }
    },
    {
      "cell_type": "markdown",
      "source": [
        "######"
      ],
      "metadata": {
        "id": "g-9ku_OQtLXB"
      }
    },
    {
      "cell_type": "code",
      "source": [
        "'''\n",
        "\n",
        "'''"
      ],
      "metadata": {
        "id": "m4CEEZuIs_Sx"
      },
      "execution_count": null,
      "outputs": []
    },
    {
      "cell_type": "markdown",
      "source": [
        "######"
      ],
      "metadata": {
        "id": "Z-ET0xX9tL9F"
      }
    },
    {
      "cell_type": "code",
      "source": [
        "'''\n",
        "\n",
        "'''"
      ],
      "metadata": {
        "id": "sYW2uFrgs_rh"
      },
      "execution_count": null,
      "outputs": []
    },
    {
      "cell_type": "markdown",
      "source": [
        "######"
      ],
      "metadata": {
        "id": "vxjpUDSbtMom"
      }
    },
    {
      "cell_type": "code",
      "source": [
        "'''\n",
        "\n",
        "'''"
      ],
      "metadata": {
        "id": "vZZEPTlktACR"
      },
      "execution_count": null,
      "outputs": []
    },
    {
      "cell_type": "markdown",
      "source": [
        "######"
      ],
      "metadata": {
        "id": "4_2Ft7WotNQf"
      }
    },
    {
      "cell_type": "code",
      "source": [
        "'''\n",
        "\n",
        "'''"
      ],
      "metadata": {
        "id": "48kOzudMtAls"
      },
      "execution_count": null,
      "outputs": []
    },
    {
      "cell_type": "markdown",
      "source": [
        "######"
      ],
      "metadata": {
        "id": "YxOflhIitN0S"
      }
    },
    {
      "cell_type": "code",
      "source": [
        "'''\n",
        "\n",
        "'''"
      ],
      "metadata": {
        "id": "SGvUgKTZtA7Z"
      },
      "execution_count": null,
      "outputs": []
    },
    {
      "cell_type": "markdown",
      "source": [
        "######"
      ],
      "metadata": {
        "id": "Cqtp5dmvtOYR"
      }
    },
    {
      "cell_type": "code",
      "source": [
        "'''\n",
        "\n",
        "'''"
      ],
      "metadata": {
        "id": "zPlWjMSTtBca"
      },
      "execution_count": null,
      "outputs": []
    },
    {
      "cell_type": "markdown",
      "source": [
        "######"
      ],
      "metadata": {
        "id": "y-ec8TyhtPBr"
      }
    },
    {
      "cell_type": "code",
      "source": [
        "'''\n",
        "\n",
        "'''"
      ],
      "metadata": {
        "id": "Xlv-TD-HtB6p"
      },
      "execution_count": null,
      "outputs": []
    },
    {
      "cell_type": "markdown",
      "source": [
        "######"
      ],
      "metadata": {
        "id": "xDFToOnAtPmy"
      }
    },
    {
      "cell_type": "code",
      "source": [
        "'''\n",
        "\n",
        "'''"
      ],
      "metadata": {
        "id": "JfRD5JGQtBvQ"
      },
      "execution_count": null,
      "outputs": []
    },
    {
      "cell_type": "markdown",
      "source": [
        "######"
      ],
      "metadata": {
        "id": "hu89Mn8ftQFI"
      }
    }
  ]
}